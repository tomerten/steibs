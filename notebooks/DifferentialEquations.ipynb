{
 "cells": [
  {
   "cell_type": "markdown",
   "metadata": {
    "toc": "true"
   },
   "source": [
    " # Table of Contents\n",
    "<div class=\"toc\" style=\"margin-top: 1em;\"><ul class=\"toc-item\" id=\"toc-level0\"></ul></div>"
   ]
  },
  {
   "cell_type": "code",
   "execution_count": 153,
   "metadata": {
    "ExecuteTime": {
     "end_time": "2018-02-20T14:03:21.065046Z",
     "start_time": "2018-02-20T14:03:21.043669Z"
    }
   },
   "outputs": [
    {
     "data": {
      "text/html": [
       "<style>.container {width:95% !important;} </style>"
      ],
      "text/plain": [
       "<IPython.core.display.HTML object>"
      ]
     },
     "metadata": {},
     "output_type": "display_data"
    },
    {
     "name": "stdout",
     "output_type": "stream",
     "text": [
      "The autoreload extension is already loaded. To reload it, use:\n",
      "  %reload_ext autoreload\n"
     ]
    },
    {
     "name": "stderr",
     "output_type": "stream",
     "text": [
      "/home/tmerten/anaconda3/lib/python3.6/site-packages/matplotlib/__init__.py:1405: UserWarning: \n",
      "This call to matplotlib.use() has no effect because the backend has already\n",
      "been chosen; matplotlib.use() must be called *before* pylab, matplotlib.pyplot,\n",
      "or matplotlib.backends is imported for the first time.\n",
      "\n",
      "  warnings.warn(_use_error_msg)\n"
     ]
    }
   ],
   "source": [
    "from IPython.core.display import display,HTML\n",
    "display(HTML(\"<style>.container {width:95% !important;} </style>\"))\n",
    "%load_ext autoreload\n",
    "%autoreload 2\n",
    "\n",
    "import matplotlib as mpl\n",
    "mpl.use(\"pgf\")\n",
    "pgf_with_rc_fonts = {\n",
    "   \"pgf.rcfonts\" : False\n",
    "}\n",
    "mpl.rcParams.update(pgf_with_rc_fonts)\n",
    "import pandas as pd\n",
    "from matplotlib import pyplot as plt\n",
    "from matplotlib import rcParams\n",
    "import glob\n",
    "import numpy as np\n",
    "from scipy import constants as const\n",
    "import datetime as dt"
   ]
  },
  {
   "cell_type": "code",
   "execution_count": 17,
   "metadata": {
    "ExecuteTime": {
     "end_time": "2018-02-20T12:59:57.617263Z",
     "start_time": "2018-02-20T12:59:57.539002Z"
    },
    "collapsed": true
   },
   "outputs": [],
   "source": [
    "def fmohl(a,b,q,npp):\n",
    "    # direct crib from page 126 in handbook\n",
    "    sum = 0\n",
    "    du = 1/float(npp)\n",
    "    u  = np.array([k*du for k in range(npp+1)])\n",
    "    cp = np.sqrt(a**2+(1-a**2)*u**2)\n",
    "    cq = np.sqrt(b*b+(1-b*b)*u*u)\n",
    "    dsum = 2*np.log(q*(1/cp+1/cq)/2) - np.euler_gamma\n",
    "    dsum = dsum*(1-3*u*u)/(cp*cq)\n",
    "    dsum[0] = dsum[0]/2.\n",
    "    dsum[npp] = dsum[npp]/2.\n",
    "    summ = dsum.sum()\n",
    "    return 8*np.pi*du*summ\n",
    "\n",
    "def ibsPiwSmooth(pnumber,epsx,betax,epsy,betay,dponp,r0,betar,gamma0,sigs,ringparams):\n",
    "    # uses Piwinski's formulae for ibs, pg 126 in handbook\n",
    "    # smooth lattice approximation\n",
    "    # dispersion in smoooth approximation\n",
    "    xdisp = ringparams['circ']/(2*np.pi*ringparams['gammat']**2)\n",
    "    rmsx  = np.sqrt(epsx*betax)\n",
    "    rmsy  = np.sqrt(epsy*betay)\n",
    "\n",
    "    sigh2inv =  (1/dponp**2)  + (xdisp/rmsx)**2\n",
    "    sigh     =  1/np.sqrt(sigh2inv)\n",
    "\n",
    "    # get capitol A\n",
    "    # print sigx,sigy,dponp,beta,sigh\n",
    "    # classical radius\n",
    "#     r0   = (qatom**2/aatom)*1.54e-18\n",
    "    atop = r0*r0*const.c*pnumber\n",
    "    abot = 64*np.pi*np.pi*betar**3*gamma0**4*epsy*epsx*sigs*dponp\n",
    "    # ca is Piwinski's A\n",
    "    ca = atop/abot\n",
    "    # mohl's a,b,and q\n",
    "    # a is horizontal, x\n",
    "    a = sigh*betax/(gamma0*rmsx)\n",
    "    # b is vertical\n",
    "    b = sigh*betay/(gamma0*rmsy)\n",
    "    # log is good enough\n",
    "    if (rmsx<=rmsy):\n",
    "         d=rmsx\n",
    "    else:\n",
    "         d=rmsy\n",
    "    q = sigh*betar*np.sqrt(2*d/r0)\n",
    "    #calculate fmohl(a,b,q) with 1000 points\n",
    "    npp=1000\n",
    "    fmohlp = fmohl(a,b,q,npp)\n",
    "    fmohlx = fmohl(1/a,b/a,q/a,npp)\n",
    "    fmohly = fmohl(1/b,a/b,q/b,npp)\n",
    "    alfap0 =ca*fmohlp*(sigh/dponp)**2\n",
    "    alfax0 =ca*(fmohlx+fmohlp*(xdisp*sigh/rmsx)**2)\n",
    "    alfay0 =ca*fmohly\n",
    "    return alfap0,alfax0,alfay0"
   ]
  },
  {
   "cell_type": "code",
   "execution_count": 104,
   "metadata": {
    "ExecuteTime": {
     "end_time": "2018-02-20T13:27:11.376770Z",
     "start_time": "2018-02-20T13:27:11.362056Z"
    }
   },
   "outputs": [
    {
     "data": {
      "text/plain": [
       "2.8179403227e-15"
      ]
     },
     "execution_count": 104,
     "metadata": {},
     "output_type": "execute_result"
    }
   ],
   "source": [
    "r0"
   ]
  },
  {
   "cell_type": "code",
   "execution_count": 18,
   "metadata": {
    "ExecuteTime": {
     "end_time": "2018-02-20T12:59:58.371703Z",
     "start_time": "2018-02-20T12:59:58.357215Z"
    }
   },
   "outputs": [],
   "source": [
    "r0 = const.physical_constants['classical electron radius'][0]\n",
    "ringparams = {'circ':240.00839, 'gammat':37.84089447,}"
   ]
  },
  {
   "cell_type": "code",
   "execution_count": 105,
   "metadata": {
    "ExecuteTime": {
     "end_time": "2018-02-20T13:28:01.480464Z",
     "start_time": "2018-02-20T13:28:01.458210Z"
    }
   },
   "outputs": [
    {
     "data": {
      "text/plain": [
       "(1.6608189856632383, 0.16877627659208336, 0.0039823251420380767)"
      ]
     },
     "execution_count": 105,
     "metadata": {},
     "output_type": "execute_result"
    }
   ],
   "source": [
    "ibsPiwSmooth(1e10,7e-9,1,120e-12,7,0.001,r0,1,3326,0.005,ringparams)"
   ]
  },
  {
   "cell_type": "code",
   "execution_count": 108,
   "metadata": {
    "ExecuteTime": {
     "end_time": "2018-02-20T13:28:34.015726Z",
     "start_time": "2018-02-20T13:28:34.001326Z"
    }
   },
   "outputs": [
    {
     "data": {
      "text/plain": [
       "251.1095815466789"
      ]
     },
     "execution_count": 108,
     "metadata": {},
     "output_type": "execute_result"
    }
   ],
   "source": [
    "1/0.0039823251420380767"
   ]
  },
  {
   "cell_type": "code",
   "execution_count": 521,
   "metadata": {
    "ExecuteTime": {
     "end_time": "2018-02-20T15:33:01.889746Z",
     "start_time": "2018-02-20T15:33:01.829513Z"
    }
   },
   "outputs": [],
   "source": [
    "ftsl=pd.read_csv('/home/tmerten/data/IBS/simadata/ibstable.dat',delim_whitespace=True)\n",
    "from scipy.interpolate import NearestNDInterpolator\n",
    "\n",
    "points = ftsl[['V','sigs','ex','ey']].as_matrix()\n",
    "values = ftsl[['Tl']].T.values[0]\n",
    "myInterpolators = NearestNDInterpolator(points, values)\n",
    "values2 = ftsl[['Tx']].T.values[0]\n",
    "myInterpolatorx = NearestNDInterpolator(points, values2)\n",
    "values3 = ftsl[['Ty']].T.values[0]\n",
    "myInterpolatory = NearestNDInterpolator(points, values3)"
   ]
  },
  {
   "cell_type": "code",
   "execution_count": 522,
   "metadata": {
    "ExecuteTime": {
     "end_time": "2018-02-20T15:33:03.678905Z",
     "start_time": "2018-02-20T15:33:03.638511Z"
    }
   },
   "outputs": [
    {
     "data": {
      "text/html": [
       "<div>\n",
       "<style>\n",
       "    .dataframe thead tr:only-child th {\n",
       "        text-align: right;\n",
       "    }\n",
       "\n",
       "    .dataframe thead th {\n",
       "        text-align: left;\n",
       "    }\n",
       "\n",
       "    .dataframe tbody tr th {\n",
       "        vertical-align: top;\n",
       "    }\n",
       "</style>\n",
       "<table border=\"1\" class=\"dataframe\">\n",
       "  <thead>\n",
       "    <tr style=\"text-align: right;\">\n",
       "      <th></th>\n",
       "      <th>V</th>\n",
       "      <th>sigs</th>\n",
       "      <th>ex</th>\n",
       "      <th>ey</th>\n",
       "      <th>npart</th>\n",
       "      <th>Tl</th>\n",
       "      <th>Tx</th>\n",
       "      <th>Ty</th>\n",
       "    </tr>\n",
       "  </thead>\n",
       "  <tbody>\n",
       "    <tr>\n",
       "      <th>5200</th>\n",
       "      <td>1.9</td>\n",
       "      <td>5</td>\n",
       "      <td>1</td>\n",
       "      <td>1</td>\n",
       "      <td>1.000000e+10</td>\n",
       "      <td>0.014068</td>\n",
       "      <td>0.003491</td>\n",
       "      <td>0.014831</td>\n",
       "    </tr>\n",
       "    <tr>\n",
       "      <th>5201</th>\n",
       "      <td>1.9</td>\n",
       "      <td>5</td>\n",
       "      <td>1</td>\n",
       "      <td>101</td>\n",
       "      <td>1.000000e+10</td>\n",
       "      <td>0.179436</td>\n",
       "      <td>0.047808</td>\n",
       "      <td>109.030663</td>\n",
       "    </tr>\n",
       "    <tr>\n",
       "      <th>5202</th>\n",
       "      <td>1.9</td>\n",
       "      <td>5</td>\n",
       "      <td>1</td>\n",
       "      <td>201</td>\n",
       "      <td>1.000000e+10</td>\n",
       "      <td>0.279025</td>\n",
       "      <td>0.073745</td>\n",
       "      <td>1133.818613</td>\n",
       "    </tr>\n",
       "    <tr>\n",
       "      <th>5203</th>\n",
       "      <td>1.9</td>\n",
       "      <td>5</td>\n",
       "      <td>1</td>\n",
       "      <td>301</td>\n",
       "      <td>1.000000e+10</td>\n",
       "      <td>0.364196</td>\n",
       "      <td>0.095615</td>\n",
       "      <td>-4988.132483</td>\n",
       "    </tr>\n",
       "    <tr>\n",
       "      <th>5204</th>\n",
       "      <td>1.9</td>\n",
       "      <td>5</td>\n",
       "      <td>1</td>\n",
       "      <td>401</td>\n",
       "      <td>1.000000e+10</td>\n",
       "      <td>0.441511</td>\n",
       "      <td>0.115273</td>\n",
       "      <td>-2385.903743</td>\n",
       "    </tr>\n",
       "    <tr>\n",
       "      <th>5205</th>\n",
       "      <td>1.9</td>\n",
       "      <td>5</td>\n",
       "      <td>1</td>\n",
       "      <td>501</td>\n",
       "      <td>1.000000e+10</td>\n",
       "      <td>0.513621</td>\n",
       "      <td>0.133467</td>\n",
       "      <td>-2225.410194</td>\n",
       "    </tr>\n",
       "    <tr>\n",
       "      <th>5206</th>\n",
       "      <td>1.9</td>\n",
       "      <td>5</td>\n",
       "      <td>1</td>\n",
       "      <td>601</td>\n",
       "      <td>1.000000e+10</td>\n",
       "      <td>0.581927</td>\n",
       "      <td>0.150594</td>\n",
       "      <td>-2330.340237</td>\n",
       "    </tr>\n",
       "    <tr>\n",
       "      <th>5207</th>\n",
       "      <td>1.9</td>\n",
       "      <td>5</td>\n",
       "      <td>1</td>\n",
       "      <td>701</td>\n",
       "      <td>1.000000e+10</td>\n",
       "      <td>0.647280</td>\n",
       "      <td>0.166893</td>\n",
       "      <td>-2525.920143</td>\n",
       "    </tr>\n",
       "    <tr>\n",
       "      <th>5208</th>\n",
       "      <td>1.9</td>\n",
       "      <td>5</td>\n",
       "      <td>1</td>\n",
       "      <td>801</td>\n",
       "      <td>1.000000e+10</td>\n",
       "      <td>0.710248</td>\n",
       "      <td>0.182524</td>\n",
       "      <td>-2767.679989</td>\n",
       "    </tr>\n",
       "    <tr>\n",
       "      <th>5209</th>\n",
       "      <td>1.9</td>\n",
       "      <td>5</td>\n",
       "      <td>1</td>\n",
       "      <td>901</td>\n",
       "      <td>1.000000e+10</td>\n",
       "      <td>0.771229</td>\n",
       "      <td>0.197600</td>\n",
       "      <td>-3038.885491</td>\n",
       "    </tr>\n",
       "    <tr>\n",
       "      <th>5210</th>\n",
       "      <td>1.9</td>\n",
       "      <td>5</td>\n",
       "      <td>3</td>\n",
       "      <td>1</td>\n",
       "      <td>1.000000e+10</td>\n",
       "      <td>0.029267</td>\n",
       "      <td>0.017648</td>\n",
       "      <td>0.027502</td>\n",
       "    </tr>\n",
       "    <tr>\n",
       "      <th>5211</th>\n",
       "      <td>1.9</td>\n",
       "      <td>5</td>\n",
       "      <td>3</td>\n",
       "      <td>101</td>\n",
       "      <td>1.000000e+10</td>\n",
       "      <td>0.348636</td>\n",
       "      <td>0.221368</td>\n",
       "      <td>111.360766</td>\n",
       "    </tr>\n",
       "    <tr>\n",
       "      <th>5212</th>\n",
       "      <td>1.9</td>\n",
       "      <td>5</td>\n",
       "      <td>3</td>\n",
       "      <td>201</td>\n",
       "      <td>1.000000e+10</td>\n",
       "      <td>0.533708</td>\n",
       "      <td>0.336583</td>\n",
       "      <td>509.078286</td>\n",
       "    </tr>\n",
       "    <tr>\n",
       "      <th>5213</th>\n",
       "      <td>1.9</td>\n",
       "      <td>5</td>\n",
       "      <td>3</td>\n",
       "      <td>301</td>\n",
       "      <td>1.000000e+10</td>\n",
       "      <td>0.689856</td>\n",
       "      <td>0.432583</td>\n",
       "      <td>1420.289706</td>\n",
       "    </tr>\n",
       "    <tr>\n",
       "      <th>5214</th>\n",
       "      <td>1.9</td>\n",
       "      <td>5</td>\n",
       "      <td>3</td>\n",
       "      <td>401</td>\n",
       "      <td>1.000000e+10</td>\n",
       "      <td>0.831993</td>\n",
       "      <td>0.519219</td>\n",
       "      <td>3373.136802</td>\n",
       "    </tr>\n",
       "    <tr>\n",
       "      <th>5215</th>\n",
       "      <td>1.9</td>\n",
       "      <td>5</td>\n",
       "      <td>3</td>\n",
       "      <td>501</td>\n",
       "      <td>1.000000e+10</td>\n",
       "      <td>0.965391</td>\n",
       "      <td>0.599988</td>\n",
       "      <td>7892.272405</td>\n",
       "    </tr>\n",
       "    <tr>\n",
       "      <th>5216</th>\n",
       "      <td>1.9</td>\n",
       "      <td>5</td>\n",
       "      <td>3</td>\n",
       "      <td>601</td>\n",
       "      <td>1.000000e+10</td>\n",
       "      <td>1.091402</td>\n",
       "      <td>0.675849</td>\n",
       "      <td>21938.948540</td>\n",
       "    </tr>\n",
       "    <tr>\n",
       "      <th>5217</th>\n",
       "      <td>1.9</td>\n",
       "      <td>5</td>\n",
       "      <td>3</td>\n",
       "      <td>701</td>\n",
       "      <td>1.000000e+10</td>\n",
       "      <td>1.211690</td>\n",
       "      <td>0.747910</td>\n",
       "      <td>293308.628600</td>\n",
       "    </tr>\n",
       "    <tr>\n",
       "      <th>5218</th>\n",
       "      <td>1.9</td>\n",
       "      <td>5</td>\n",
       "      <td>3</td>\n",
       "      <td>801</td>\n",
       "      <td>1.000000e+10</td>\n",
       "      <td>1.327359</td>\n",
       "      <td>0.816907</td>\n",
       "      <td>-50997.135600</td>\n",
       "    </tr>\n",
       "    <tr>\n",
       "      <th>5219</th>\n",
       "      <td>1.9</td>\n",
       "      <td>5</td>\n",
       "      <td>3</td>\n",
       "      <td>901</td>\n",
       "      <td>1.000000e+10</td>\n",
       "      <td>1.439190</td>\n",
       "      <td>0.883361</td>\n",
       "      <td>-30822.486000</td>\n",
       "    </tr>\n",
       "    <tr>\n",
       "      <th>5220</th>\n",
       "      <td>1.9</td>\n",
       "      <td>5</td>\n",
       "      <td>5</td>\n",
       "      <td>1</td>\n",
       "      <td>1.000000e+10</td>\n",
       "      <td>0.042000</td>\n",
       "      <td>0.038216</td>\n",
       "      <td>0.037791</td>\n",
       "    </tr>\n",
       "    <tr>\n",
       "      <th>5221</th>\n",
       "      <td>1.9</td>\n",
       "      <td>5</td>\n",
       "      <td>5</td>\n",
       "      <td>101</td>\n",
       "      <td>1.000000e+10</td>\n",
       "      <td>0.488781</td>\n",
       "      <td>0.461199</td>\n",
       "      <td>128.813372</td>\n",
       "    </tr>\n",
       "    <tr>\n",
       "      <th>5222</th>\n",
       "      <td>1.9</td>\n",
       "      <td>5</td>\n",
       "      <td>5</td>\n",
       "      <td>201</td>\n",
       "      <td>1.000000e+10</td>\n",
       "      <td>0.744406</td>\n",
       "      <td>0.697891</td>\n",
       "      <td>527.990725</td>\n",
       "    </tr>\n",
       "    <tr>\n",
       "      <th>5223</th>\n",
       "      <td>1.9</td>\n",
       "      <td>5</td>\n",
       "      <td>5</td>\n",
       "      <td>301</td>\n",
       "      <td>1.000000e+10</td>\n",
       "      <td>0.963438</td>\n",
       "      <td>0.898491</td>\n",
       "      <td>1303.879139</td>\n",
       "    </tr>\n",
       "    <tr>\n",
       "      <th>5224</th>\n",
       "      <td>1.9</td>\n",
       "      <td>5</td>\n",
       "      <td>5</td>\n",
       "      <td>401</td>\n",
       "      <td>1.000000e+10</td>\n",
       "      <td>1.160497</td>\n",
       "      <td>1.077523</td>\n",
       "      <td>2618.726824</td>\n",
       "    </tr>\n",
       "    <tr>\n",
       "      <th>5225</th>\n",
       "      <td>1.9</td>\n",
       "      <td>5</td>\n",
       "      <td>5</td>\n",
       "      <td>501</td>\n",
       "      <td>1.000000e+10</td>\n",
       "      <td>1.343054</td>\n",
       "      <td>1.242331</td>\n",
       "      <td>4734.910690</td>\n",
       "    </tr>\n",
       "    <tr>\n",
       "      <th>5226</th>\n",
       "      <td>1.9</td>\n",
       "      <td>5</td>\n",
       "      <td>5</td>\n",
       "      <td>601</td>\n",
       "      <td>1.000000e+10</td>\n",
       "      <td>1.515046</td>\n",
       "      <td>1.396786</td>\n",
       "      <td>8101.987108</td>\n",
       "    </tr>\n",
       "    <tr>\n",
       "      <th>5227</th>\n",
       "      <td>1.9</td>\n",
       "      <td>5</td>\n",
       "      <td>5</td>\n",
       "      <td>701</td>\n",
       "      <td>1.000000e+10</td>\n",
       "      <td>1.678861</td>\n",
       "      <td>1.543236</td>\n",
       "      <td>13560.933130</td>\n",
       "    </tr>\n",
       "    <tr>\n",
       "      <th>5228</th>\n",
       "      <td>1.9</td>\n",
       "      <td>5</td>\n",
       "      <td>5</td>\n",
       "      <td>801</td>\n",
       "      <td>1.000000e+10</td>\n",
       "      <td>1.836085</td>\n",
       "      <td>1.683239</td>\n",
       "      <td>22890.762720</td>\n",
       "    </tr>\n",
       "    <tr>\n",
       "      <th>5229</th>\n",
       "      <td>1.9</td>\n",
       "      <td>5</td>\n",
       "      <td>5</td>\n",
       "      <td>901</td>\n",
       "      <td>1.000000e+10</td>\n",
       "      <td>1.987837</td>\n",
       "      <td>1.817894</td>\n",
       "      <td>40625.797100</td>\n",
       "    </tr>\n",
       "    <tr>\n",
       "      <th>5230</th>\n",
       "      <td>1.9</td>\n",
       "      <td>5</td>\n",
       "      <td>7</td>\n",
       "      <td>1</td>\n",
       "      <td>1.000000e+10</td>\n",
       "      <td>0.053600</td>\n",
       "      <td>0.064099</td>\n",
       "      <td>0.046977</td>\n",
       "    </tr>\n",
       "    <tr>\n",
       "      <th>5231</th>\n",
       "      <td>1.9</td>\n",
       "      <td>5</td>\n",
       "      <td>7</td>\n",
       "      <td>101</td>\n",
       "      <td>1.000000e+10</td>\n",
       "      <td>0.615490</td>\n",
       "      <td>0.754889</td>\n",
       "      <td>145.952737</td>\n",
       "    </tr>\n",
       "    <tr>\n",
       "      <th>5232</th>\n",
       "      <td>1.9</td>\n",
       "      <td>5</td>\n",
       "      <td>7</td>\n",
       "      <td>201</td>\n",
       "      <td>1.000000e+10</td>\n",
       "      <td>0.938637</td>\n",
       "      <td>1.143997</td>\n",
       "      <td>572.225933</td>\n",
       "    </tr>\n",
       "    <tr>\n",
       "      <th>5233</th>\n",
       "      <td>1.9</td>\n",
       "      <td>5</td>\n",
       "      <td>7</td>\n",
       "      <td>301</td>\n",
       "      <td>1.000000e+10</td>\n",
       "      <td>1.211532</td>\n",
       "      <td>1.469221</td>\n",
       "      <td>1345.299494</td>\n",
       "    </tr>\n",
       "    <tr>\n",
       "      <th>5234</th>\n",
       "      <td>1.9</td>\n",
       "      <td>5</td>\n",
       "      <td>7</td>\n",
       "      <td>401</td>\n",
       "      <td>1.000000e+10</td>\n",
       "      <td>1.456366</td>\n",
       "      <td>1.758835</td>\n",
       "      <td>2560.302262</td>\n",
       "    </tr>\n",
       "    <tr>\n",
       "      <th>5235</th>\n",
       "      <td>1.9</td>\n",
       "      <td>5</td>\n",
       "      <td>7</td>\n",
       "      <td>501</td>\n",
       "      <td>1.000000e+10</td>\n",
       "      <td>1.682699</td>\n",
       "      <td>2.024991</td>\n",
       "      <td>4348.277959</td>\n",
       "    </tr>\n",
       "    <tr>\n",
       "      <th>5236</th>\n",
       "      <td>1.9</td>\n",
       "      <td>5</td>\n",
       "      <td>7</td>\n",
       "      <td>601</td>\n",
       "      <td>1.000000e+10</td>\n",
       "      <td>1.895563</td>\n",
       "      <td>2.274086</td>\n",
       "      <td>6892.333880</td>\n",
       "    </tr>\n",
       "    <tr>\n",
       "      <th>5237</th>\n",
       "      <td>1.9</td>\n",
       "      <td>5</td>\n",
       "      <td>7</td>\n",
       "      <td>701</td>\n",
       "      <td>1.000000e+10</td>\n",
       "      <td>2.098013</td>\n",
       "      <td>2.509999</td>\n",
       "      <td>10456.081800</td>\n",
       "    </tr>\n",
       "    <tr>\n",
       "      <th>5238</th>\n",
       "      <td>1.9</td>\n",
       "      <td>5</td>\n",
       "      <td>7</td>\n",
       "      <td>801</td>\n",
       "      <td>1.000000e+10</td>\n",
       "      <td>2.292073</td>\n",
       "      <td>2.735302</td>\n",
       "      <td>15433.529100</td>\n",
       "    </tr>\n",
       "    <tr>\n",
       "      <th>5239</th>\n",
       "      <td>1.9</td>\n",
       "      <td>5</td>\n",
       "      <td>7</td>\n",
       "      <td>901</td>\n",
       "      <td>1.000000e+10</td>\n",
       "      <td>2.479171</td>\n",
       "      <td>2.951807</td>\n",
       "      <td>22441.487970</td>\n",
       "    </tr>\n",
       "    <tr>\n",
       "      <th>5240</th>\n",
       "      <td>1.9</td>\n",
       "      <td>5</td>\n",
       "      <td>9</td>\n",
       "      <td>1</td>\n",
       "      <td>1.000000e+10</td>\n",
       "      <td>0.064492</td>\n",
       "      <td>0.094777</td>\n",
       "      <td>0.055485</td>\n",
       "    </tr>\n",
       "    <tr>\n",
       "      <th>5241</th>\n",
       "      <td>1.9</td>\n",
       "      <td>5</td>\n",
       "      <td>9</td>\n",
       "      <td>101</td>\n",
       "      <td>1.000000e+10</td>\n",
       "      <td>0.734798</td>\n",
       "      <td>1.098294</td>\n",
       "      <td>162.448303</td>\n",
       "    </tr>\n",
       "    <tr>\n",
       "      <th>5242</th>\n",
       "      <td>1.9</td>\n",
       "      <td>5</td>\n",
       "      <td>9</td>\n",
       "      <td>201</td>\n",
       "      <td>1.000000e+10</td>\n",
       "      <td>1.120083</td>\n",
       "      <td>1.663770</td>\n",
       "      <td>619.727814</td>\n",
       "    </tr>\n",
       "    <tr>\n",
       "      <th>5243</th>\n",
       "      <td>1.9</td>\n",
       "      <td>5</td>\n",
       "      <td>9</td>\n",
       "      <td>301</td>\n",
       "      <td>1.000000e+10</td>\n",
       "      <td>1.442941</td>\n",
       "      <td>2.133005</td>\n",
       "      <td>1417.618831</td>\n",
       "    </tr>\n",
       "    <tr>\n",
       "      <th>5244</th>\n",
       "      <td>1.9</td>\n",
       "      <td>5</td>\n",
       "      <td>9</td>\n",
       "      <td>401</td>\n",
       "      <td>1.000000e+10</td>\n",
       "      <td>1.732012</td>\n",
       "      <td>2.550202</td>\n",
       "      <td>2623.897444</td>\n",
       "    </tr>\n",
       "    <tr>\n",
       "      <th>5245</th>\n",
       "      <td>1.9</td>\n",
       "      <td>5</td>\n",
       "      <td>9</td>\n",
       "      <td>501</td>\n",
       "      <td>1.000000e+10</td>\n",
       "      <td>1.998821</td>\n",
       "      <td>2.933141</td>\n",
       "      <td>4325.621652</td>\n",
       "    </tr>\n",
       "    <tr>\n",
       "      <th>5246</th>\n",
       "      <td>1.9</td>\n",
       "      <td>5</td>\n",
       "      <td>9</td>\n",
       "      <td>601</td>\n",
       "      <td>1.000000e+10</td>\n",
       "      <td>2.249435</td>\n",
       "      <td>3.291181</td>\n",
       "      <td>6634.239253</td>\n",
       "    </tr>\n",
       "    <tr>\n",
       "      <th>5247</th>\n",
       "      <td>1.9</td>\n",
       "      <td>5</td>\n",
       "      <td>9</td>\n",
       "      <td>701</td>\n",
       "      <td>1.000000e+10</td>\n",
       "      <td>2.487531</td>\n",
       "      <td>3.629992</td>\n",
       "      <td>9694.133238</td>\n",
       "    </tr>\n",
       "    <tr>\n",
       "      <th>5248</th>\n",
       "      <td>1.9</td>\n",
       "      <td>5</td>\n",
       "      <td>9</td>\n",
       "      <td>801</td>\n",
       "      <td>1.000000e+10</td>\n",
       "      <td>2.715549</td>\n",
       "      <td>3.953331</td>\n",
       "      <td>13695.594570</td>\n",
       "    </tr>\n",
       "    <tr>\n",
       "      <th>5249</th>\n",
       "      <td>1.9</td>\n",
       "      <td>5</td>\n",
       "      <td>9</td>\n",
       "      <td>901</td>\n",
       "      <td>1.000000e+10</td>\n",
       "      <td>2.935205</td>\n",
       "      <td>4.263847</td>\n",
       "      <td>18894.672170</td>\n",
       "    </tr>\n",
       "  </tbody>\n",
       "</table>\n",
       "</div>"
      ],
      "text/plain": [
       "        V  sigs  ex   ey         npart        Tl        Tx             Ty\n",
       "5200  1.9     5   1    1  1.000000e+10  0.014068  0.003491       0.014831\n",
       "5201  1.9     5   1  101  1.000000e+10  0.179436  0.047808     109.030663\n",
       "5202  1.9     5   1  201  1.000000e+10  0.279025  0.073745    1133.818613\n",
       "5203  1.9     5   1  301  1.000000e+10  0.364196  0.095615   -4988.132483\n",
       "5204  1.9     5   1  401  1.000000e+10  0.441511  0.115273   -2385.903743\n",
       "5205  1.9     5   1  501  1.000000e+10  0.513621  0.133467   -2225.410194\n",
       "5206  1.9     5   1  601  1.000000e+10  0.581927  0.150594   -2330.340237\n",
       "5207  1.9     5   1  701  1.000000e+10  0.647280  0.166893   -2525.920143\n",
       "5208  1.9     5   1  801  1.000000e+10  0.710248  0.182524   -2767.679989\n",
       "5209  1.9     5   1  901  1.000000e+10  0.771229  0.197600   -3038.885491\n",
       "5210  1.9     5   3    1  1.000000e+10  0.029267  0.017648       0.027502\n",
       "5211  1.9     5   3  101  1.000000e+10  0.348636  0.221368     111.360766\n",
       "5212  1.9     5   3  201  1.000000e+10  0.533708  0.336583     509.078286\n",
       "5213  1.9     5   3  301  1.000000e+10  0.689856  0.432583    1420.289706\n",
       "5214  1.9     5   3  401  1.000000e+10  0.831993  0.519219    3373.136802\n",
       "5215  1.9     5   3  501  1.000000e+10  0.965391  0.599988    7892.272405\n",
       "5216  1.9     5   3  601  1.000000e+10  1.091402  0.675849   21938.948540\n",
       "5217  1.9     5   3  701  1.000000e+10  1.211690  0.747910  293308.628600\n",
       "5218  1.9     5   3  801  1.000000e+10  1.327359  0.816907  -50997.135600\n",
       "5219  1.9     5   3  901  1.000000e+10  1.439190  0.883361  -30822.486000\n",
       "5220  1.9     5   5    1  1.000000e+10  0.042000  0.038216       0.037791\n",
       "5221  1.9     5   5  101  1.000000e+10  0.488781  0.461199     128.813372\n",
       "5222  1.9     5   5  201  1.000000e+10  0.744406  0.697891     527.990725\n",
       "5223  1.9     5   5  301  1.000000e+10  0.963438  0.898491    1303.879139\n",
       "5224  1.9     5   5  401  1.000000e+10  1.160497  1.077523    2618.726824\n",
       "5225  1.9     5   5  501  1.000000e+10  1.343054  1.242331    4734.910690\n",
       "5226  1.9     5   5  601  1.000000e+10  1.515046  1.396786    8101.987108\n",
       "5227  1.9     5   5  701  1.000000e+10  1.678861  1.543236   13560.933130\n",
       "5228  1.9     5   5  801  1.000000e+10  1.836085  1.683239   22890.762720\n",
       "5229  1.9     5   5  901  1.000000e+10  1.987837  1.817894   40625.797100\n",
       "5230  1.9     5   7    1  1.000000e+10  0.053600  0.064099       0.046977\n",
       "5231  1.9     5   7  101  1.000000e+10  0.615490  0.754889     145.952737\n",
       "5232  1.9     5   7  201  1.000000e+10  0.938637  1.143997     572.225933\n",
       "5233  1.9     5   7  301  1.000000e+10  1.211532  1.469221    1345.299494\n",
       "5234  1.9     5   7  401  1.000000e+10  1.456366  1.758835    2560.302262\n",
       "5235  1.9     5   7  501  1.000000e+10  1.682699  2.024991    4348.277959\n",
       "5236  1.9     5   7  601  1.000000e+10  1.895563  2.274086    6892.333880\n",
       "5237  1.9     5   7  701  1.000000e+10  2.098013  2.509999   10456.081800\n",
       "5238  1.9     5   7  801  1.000000e+10  2.292073  2.735302   15433.529100\n",
       "5239  1.9     5   7  901  1.000000e+10  2.479171  2.951807   22441.487970\n",
       "5240  1.9     5   9    1  1.000000e+10  0.064492  0.094777       0.055485\n",
       "5241  1.9     5   9  101  1.000000e+10  0.734798  1.098294     162.448303\n",
       "5242  1.9     5   9  201  1.000000e+10  1.120083  1.663770     619.727814\n",
       "5243  1.9     5   9  301  1.000000e+10  1.442941  2.133005    1417.618831\n",
       "5244  1.9     5   9  401  1.000000e+10  1.732012  2.550202    2623.897444\n",
       "5245  1.9     5   9  501  1.000000e+10  1.998821  2.933141    4325.621652\n",
       "5246  1.9     5   9  601  1.000000e+10  2.249435  3.291181    6634.239253\n",
       "5247  1.9     5   9  701  1.000000e+10  2.487531  3.629992    9694.133238\n",
       "5248  1.9     5   9  801  1.000000e+10  2.715549  3.953331   13695.594570\n",
       "5249  1.9     5   9  901  1.000000e+10  2.935205  4.263847   18894.672170"
      ]
     },
     "execution_count": 522,
     "metadata": {},
     "output_type": "execute_result"
    }
   ],
   "source": [
    "ftsl[(ftsl['sigs']==5) & (ftsl['V']>1.9)].head(50)"
   ]
  },
  {
   "cell_type": "code",
   "execution_count": 394,
   "metadata": {
    "ExecuteTime": {
     "end_time": "2018-02-20T14:42:03.456711Z",
     "start_time": "2018-02-20T14:42:03.442088Z"
    }
   },
   "outputs": [
    {
     "data": {
      "text/plain": [
       "array([  4.97098090e-03,   8.22564583e+02,  -5.57383847e+02, ...,\n",
       "         4.38207832e+03,   1.00961708e+04,   1.88085612e+04])"
      ]
     },
     "execution_count": 394,
     "metadata": {},
     "output_type": "execute_result"
    }
   ],
   "source": [
    "values3"
   ]
  },
  {
   "cell_type": "code",
   "execution_count": 501,
   "metadata": {
    "ExecuteTime": {
     "end_time": "2018-02-20T15:13:49.862621Z",
     "start_time": "2018-02-20T15:13:49.842491Z"
    }
   },
   "outputs": [
    {
     "name": "stdout",
     "output_type": "stream",
     "text": [
      "493.713031\n",
      "498.6826465\n",
      "503.2565202\n",
      "507.4958098\n",
      "511.4476558\n",
      "518.631548\n",
      "521.9189916\n",
      "525.0327822\n",
      "527.9907251\n",
      "527.9907251\n"
     ]
    }
   ],
   "source": [
    "for j in np.linspace(1.0,2.0,10):\n",
    "    print(myInterpolatory(j,5,7,120))"
   ]
  },
  {
   "cell_type": "code",
   "execution_count": 137,
   "metadata": {
    "ExecuteTime": {
     "end_time": "2018-02-20T13:59:50.274319Z",
     "start_time": "2018-02-20T13:59:50.259755Z"
    }
   },
   "outputs": [
    {
     "data": {
      "text/plain": [
       "0.69789080459999997"
      ]
     },
     "execution_count": 137,
     "metadata": {},
     "output_type": "execute_result"
    }
   ],
   "source": [
    "myInterpolatorx(2.0,5,7,120)"
   ]
  },
  {
   "cell_type": "code",
   "execution_count": 534,
   "metadata": {
    "ExecuteTime": {
     "end_time": "2018-02-20T15:35:05.311928Z",
     "start_time": "2018-02-20T15:35:04.626646Z"
    },
    "scrolled": true
   },
   "outputs": [
    {
     "name": "stdout",
     "output_type": "stream",
     "text": [
      "0.0039\n",
      "0.0079\n",
      "0.007\n",
      "0.02904500891\n",
      "0.06275412069\n",
      "0.04120845252\n"
     ]
    }
   ],
   "source": [
    "gamma   = 3326.817037\n",
    "betar   = np.sqrt( 1 - ( 1 / gamma**2 ) )\n",
    "trev    = 240.00839 / ( betar * const.c )\n",
    "frev    = 1/ trev\n",
    "h0      = 400\n",
    "v0      = 2e6\n",
    "gammatr = 37.841888\n",
    "eta     = ( 1/ gammatr**2 ) - ( 1 / gamma**2 )\n",
    "p0      = 1.7e9\n",
    "phis    = -np.arcsin(172443/v0)\n",
    "nus     = np.sqrt( abs( h0 * eta * (-1) ) / ( 2 * np.pi * betar * p0 ) * ( v0 * np.cos(phis) ) )\n",
    "omega0  = 2 * np.pi / trev\n",
    "sigs    = 0.005\n",
    "sige    = nus * omega0 * sigs / ( const.c * eta)\n",
    "\n",
    "\n",
    "ex = {0:7e-9}\n",
    "ey = {0:120e-12}\n",
    "sigs = {0:0.005}\n",
    "dt = 1000/(1.25e6)\n",
    "tauradx = 0.0079\n",
    "taurady = 0.007\n",
    "taurads = 0.0039\n",
    "exinf = 8.667e-9\n",
    "eyinf = 2.55e-13\n",
    "sigsinf = eta * const.c / (0.0065 * omega0) * np.sqrt(const.c * 1.65092e-15)\n",
    "np0 = 1e10\n",
    "npinter=1e10\n",
    "for i in range(1,4000):\n",
    "#     tausibs,tauxibs, tauyibs  = ibsPiwSmooth(np0,ex[i-1],1.04,ey[i-1],7.1,0.002,r0,betar,gamma,sigs[i-1],ringparams)\n",
    "    tausibs = myInterpolators(2.,sigs[i-1]*1e3,ex[i-1]*1e9,ey[i-1]*1e12)*npinter/np0\n",
    "    tauxibs = myInterpolatorx(2.,sigs[i-1]*1e3,ex[i-1]*1e9,ey[i-1]*1e12)*npinter/np0\n",
    "    tauyibs = myInterpolatory(2.,sigs[i-1]*1e3,ex[i-1]*1e9,ey[i-1]*1e12)*npinter/np0\n",
    "    ex[i] = ex[i-1] * np.exp(-2*dt*i*(1/tauradx-1/tauxibs)) + exinf * (1 - np.exp(-2*dt*i/tauradx))\n",
    "    ey[i] = ey[i-1] * np.exp(-2*dt*i*(1/taurady-1/tauyibs)) + eyinf * (1 - np.exp(-2*dt*i/taurady)) \n",
    "    sigs[i] = sigs[i-1] * np.exp(-dt*i*(1/taurads-1/tausibs)) + sigsinf * (1 - np.exp(-2*dt*i/taurads)) \n",
    "print(taurads)\n",
    "print(tauradx)\n",
    "print(taurady)\n",
    "print(tausibs)\n",
    "print(tauxibs)\n",
    "print(tauyibs)"
   ]
  },
  {
   "cell_type": "code",
   "execution_count": null,
   "metadata": {
    "collapsed": true
   },
   "outputs": [],
   "source": []
  },
  {
   "cell_type": "code",
   "execution_count": null,
   "metadata": {
    "collapsed": true
   },
   "outputs": [],
   "source": [
    "279.009667198\n",
    "139.340948902\n",
    "163.45469306\n"
   ]
  },
  {
   "cell_type": "code",
   "execution_count": 398,
   "metadata": {
    "ExecuteTime": {
     "end_time": "2018-02-20T14:42:50.627759Z",
     "start_time": "2018-02-20T14:42:50.609730Z"
    }
   },
   "outputs": [
    {
     "data": {
      "text/plain": [
       "65.998840637499995"
      ]
     },
     "execution_count": 398,
     "metadata": {},
     "output_type": "execute_result"
    }
   ],
   "source": [
    "myInterpolatory(2.,sigs[i-1]*1e3,ex[i-1]*1e9,ey[i-1]*1e12)*npinter/np0"
   ]
  },
  {
   "cell_type": "code",
   "execution_count": 315,
   "metadata": {
    "ExecuteTime": {
     "end_time": "2018-02-20T14:26:03.634507Z",
     "start_time": "2018-02-20T14:26:03.617847Z"
    }
   },
   "outputs": [
    {
     "data": {
      "text/plain": [
       "-0.017281007246068104"
      ]
     },
     "execution_count": 315,
     "metadata": {},
     "output_type": "execute_result"
    }
   ],
   "source": [
    "-2*dt*i/tauradx+2*i*dt/tauxibs"
   ]
  },
  {
   "cell_type": "code",
   "execution_count": 377,
   "metadata": {
    "ExecuteTime": {
     "end_time": "2018-02-20T14:38:32.509097Z",
     "start_time": "2018-02-20T14:38:32.486363Z"
    }
   },
   "outputs": [
    {
     "data": {
      "text/plain": [
       "(0.0080615000587500006, 0.053832951376277485, 0.034990772412131076)"
      ]
     },
     "execution_count": 377,
     "metadata": {},
     "output_type": "execute_result"
    }
   ],
   "source": [
    "tausibs,tauxibs, tauyibs"
   ]
  },
  {
   "cell_type": "code",
   "execution_count": 192,
   "metadata": {
    "ExecuteTime": {
     "end_time": "2018-02-20T14:09:48.975085Z",
     "start_time": "2018-02-20T14:09:48.962748Z"
    }
   },
   "outputs": [
    {
     "data": {
      "text/plain": [
       "65.259233388955479"
      ]
     },
     "execution_count": 192,
     "metadata": {},
     "output_type": "execute_result"
    }
   ],
   "source": [
    "np.sqrt(ex[6999]*0.43)*1e6"
   ]
  },
  {
   "cell_type": "code",
   "execution_count": 447,
   "metadata": {
    "ExecuteTime": {
     "end_time": "2018-02-20T14:48:20.114584Z",
     "start_time": "2018-02-20T14:48:20.098366Z"
    },
    "collapsed": true
   },
   "outputs": [],
   "source": [
    "ex2 = ex\n",
    "ey2 = ey\n",
    "sigs2 = sigs"
   ]
  },
  {
   "cell_type": "code",
   "execution_count": 445,
   "metadata": {
    "ExecuteTime": {
     "end_time": "2018-02-20T14:48:16.610287Z",
     "start_time": "2018-02-20T14:48:16.593933Z"
    },
    "collapsed": true
   },
   "outputs": [],
   "source": [
    "ex1 = ex\n",
    "ey1 = ey\n",
    "sigs1 = sigs"
   ]
  },
  {
   "cell_type": "code",
   "execution_count": 93,
   "metadata": {
    "ExecuteTime": {
     "end_time": "2018-02-20T13:25:39.907813Z",
     "start_time": "2018-02-20T13:25:39.890510Z"
    }
   },
   "outputs": [
    {
     "data": {
      "text/plain": [
       "253.96850198400588"
      ]
     },
     "execution_count": 93,
     "metadata": {},
     "output_type": "execute_result"
    }
   ],
   "source": [
    "np.sqrt(1.5e-7*0.43)*1e6"
   ]
  },
  {
   "cell_type": "code",
   "execution_count": 535,
   "metadata": {
    "ExecuteTime": {
     "end_time": "2018-02-20T15:35:29.422561Z",
     "start_time": "2018-02-20T15:35:29.269688Z"
    }
   },
   "outputs": [
    {
     "data": {
      "image/png": "[encoded data removed]",
      "text/plain": [
       "<matplotlib.figure.Figure at 0x7f399fd86fd0>"
      ]
     },
     "metadata": {},
     "output_type": "display_data"
    }
   ],
   "source": [
    "%matplotlib inline\n",
    "plt.plot(np.array(list(ex.keys()))*dt,np.array(list(ex.values())))\n",
    "# plt.plot(np.array(list(ex1.keys()))*dt,np.array(list(ex1.values())))\n",
    "# plt.plot(np.array(list(ex2.keys()))*dt,np.array(list(ex2.values())))\n",
    "# plt.ylim(0,2e-8)\n",
    "plt.show()"
   ]
  },
  {
   "cell_type": "code",
   "execution_count": 541,
   "metadata": {
    "ExecuteTime": {
     "end_time": "2018-02-20T15:35:57.558863Z",
     "start_time": "2018-02-20T15:35:57.385310Z"
    }
   },
   "outputs": [
    {
     "data": {
      "image/png": "[encoded data removed]",
      "text/plain": [
       "<matplotlib.figure.Figure at 0x7f399fbcf898>"
      ]
     },
     "metadata": {},
     "output_type": "display_data"
    }
   ],
   "source": [
    "%matplotlib inline\n",
    "plt.plot(np.array(list(ey.keys()))*dt,np.array(list(ey.values())))\n",
    "# plt.plot(np.array(list(ey1.keys()))*dt,np.array(list(ey1.values())))\n",
    "# plt.plot(np.array(list(ey2.keys()))*dt,np.array(list(ey2.values())))\n",
    "plt.ylim(0,1e-10)\n",
    "plt.show()"
   ]
  },
  {
   "cell_type": "code",
   "execution_count": 167,
   "metadata": {
    "ExecuteTime": {
     "end_time": "2018-02-20T14:05:43.326069Z",
     "start_time": "2018-02-20T14:05:43.313587Z"
    }
   },
   "outputs": [
    {
     "data": {
      "text/plain": [
       "20.0"
      ]
     },
     "execution_count": 167,
     "metadata": {},
     "output_type": "execute_result"
    }
   ],
   "source": [
    "np.sqrt(2e-11*20)*1e6"
   ]
  },
  {
   "cell_type": "code",
   "execution_count": 529,
   "metadata": {
    "ExecuteTime": {
     "end_time": "2018-02-20T15:33:49.813113Z",
     "start_time": "2018-02-20T15:33:49.682243Z"
    }
   },
   "outputs": [
    {
     "data": {
      "image/png": "[encoded data removed]",
      "text/plain": [
       "<matplotlib.figure.Figure at 0x7f39a00002b0>"
      ]
     },
     "metadata": {},
     "output_type": "display_data"
    }
   ],
   "source": [
    "%matplotlib inline\n",
    "plt.plot(np.array(list(sigs.keys()))*dt,np.array(list(sigs.values())))\n",
    "# plt.plot(np.array(list(sigs1.keys()))*dt,np.array(list(sigs1.values())))\n",
    "# plt.plot(np.array(list(sigs2.keys()))*dt,np.array(list(sigs2.values())))\n",
    "# plt.ylim(0,.01)\n",
    "plt.ylim(0,.01)\n",
    "plt.show()"
   ]
  },
  {
   "cell_type": "code",
   "execution_count": null,
   "metadata": {
    "collapsed": true
   },
   "outputs": [],
   "source": []
  }
 ],
 "metadata": {
  "kernelspec": {
   "display_name": "Python 3",
   "language": "python",
   "name": "python3"
  },
  "language_info": {
   "codemirror_mode": {
    "name": "ipython",
    "version": 3
   },
   "file_extension": ".py",
   "mimetype": "text/x-python",
   "name": "python",
   "nbconvert_exporter": "python",
   "pygments_lexer": "ipython3",
   "version": "3.6.1"
  },
  "toc": {
   "nav_menu": {},
   "number_sections": true,
   "sideBar": true,
   "skip_h1_title": false,
   "toc_cell": true,
   "toc_position": {},
   "toc_section_display": "block",
   "toc_window_display": false
  }
 },
 "nbformat": 4,
 "nbformat_minor": 2
}
