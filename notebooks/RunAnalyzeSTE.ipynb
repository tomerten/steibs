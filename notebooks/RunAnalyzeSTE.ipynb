{
 "cells": [
  {
   "cell_type": "markdown",
   "metadata": {
    "toc": "true"
   },
   "source": [
    " # Table of Contents\n",
    "<div class=\"toc\" style=\"margin-top: 1em;\"><ul class=\"toc-item\" id=\"toc-level0\"><li><span><a href=\"http://localhost:8889/notebooks/RunAnalyzeSTE.ipynb#Python-Setup\" data-toc-modified-id=\"Python-Setup-1\"><span class=\"toc-item-num\">1&nbsp;&nbsp;</span>Python Setup</a></span></li><li><span><a href=\"http://localhost:8889/notebooks/RunAnalyzeSTE.ipynb#Database-for-storing-simulation-results\" data-toc-modified-id=\"Database-for-storing-simulation-results-2\"><span class=\"toc-item-num\">2&nbsp;&nbsp;</span>Database for storing simulation results</a></span></li><li><span><a href=\"http://localhost:8889/notebooks/RunAnalyzeSTE.ipynb#Plotting-functions\" data-toc-modified-id=\"Plotting-functions-3\"><span class=\"toc-item-num\">3&nbsp;&nbsp;</span>Plotting functions</a></span></li><li><span><a href=\"http://localhost:8889/notebooks/RunAnalyzeSTE.ipynb#Class-for-creating-and-running-simulations\" data-toc-modified-id=\"Class-for-creating-and-running-simulations-4\"><span class=\"toc-item-num\">4&nbsp;&nbsp;</span>Class for creating and running simulations</a></span></li><li><span><a href=\"http://localhost:8889/notebooks/RunAnalyzeSTE.ipynb#Running-simulations\" data-toc-modified-id=\"Running-simulations-5\"><span class=\"toc-item-num\">5&nbsp;&nbsp;</span>Running simulations</a></span></li><li><span><a href=\"http://localhost:8889/notebooks/RunAnalyzeSTE.ipynb#Error-estimation\" data-toc-modified-id=\"Error-estimation-6\"><span class=\"toc-item-num\">6&nbsp;&nbsp;</span>Error estimation</a></span></li><li><span><a href=\"http://localhost:8889/notebooks/RunAnalyzeSTE.ipynb#Error-analysis\" data-toc-modified-id=\"Error-analysis-7\"><span class=\"toc-item-num\">7&nbsp;&nbsp;</span>Error analysis</a></span></li><li><span><a href=\"http://localhost:8889/notebooks/RunAnalyzeSTE.ipynb#Extracting-data-database-and-plotting\" data-toc-modified-id=\"Extracting-data-database-and-plotting-8\"><span class=\"toc-item-num\">8&nbsp;&nbsp;</span>Extracting data database and plotting</a></span></li></ul></div>"
   ]
  },
  {
   "cell_type": "markdown",
   "metadata": {
    "heading_collapsed": true
   },
   "source": [
    "# Python Setup"
   ]
  },
  {
   "cell_type": "code",
   "execution_count": 990,
   "metadata": {
    "ExecuteTime": {
     "end_time": "2018-02-22T07:07:55.276140Z",
     "start_time": "2018-02-22T07:07:55.236659Z"
    },
    "hidden": true
   },
   "outputs": [
    {
     "data": {
      "text/html": [
       "<style>.container {width:95% !important;} </style>"
      ],
      "text/plain": [
       "<IPython.core.display.HTML object>"
      ]
     },
     "metadata": {},
     "output_type": "display_data"
    },
    {
     "name": "stdout",
     "output_type": "stream",
     "text": [
      "The autoreload extension is already loaded. To reload it, use:\n",
      "  %reload_ext autoreload\n"
     ]
    },
    {
     "name": "stderr",
     "output_type": "stream",
     "text": [
      "/home/tmerten/anaconda3/lib/python3.6/site-packages/matplotlib/__init__.py:1405: UserWarning: \n",
      "This call to matplotlib.use() has no effect because the backend has already\n",
      "been chosen; matplotlib.use() must be called *before* pylab, matplotlib.pyplot,\n",
      "or matplotlib.backends is imported for the first time.\n",
      "\n",
      "  warnings.warn(_use_error_msg)\n"
     ]
    }
   ],
   "source": [
    "from IPython.core.display import display,HTML\n",
    "display(HTML(\"<style>.container {width:95% !important;} </style>\"))\n",
    "%load_ext autoreload\n",
    "%autoreload 2\n",
    "\n",
    "import matplotlib as mpl\n",
    "mpl.use(\"pgf\")\n",
    "pgf_with_rc_fonts = {\n",
    "   \"pgf.rcfonts\" : False\n",
    "}\n",
    "mpl.rcParams.update(pgf_with_rc_fonts)\n",
    "import pandas as pd\n",
    "from matplotlib import pyplot as plt\n",
    "from matplotlib import rcParams\n",
    "import glob\n",
    "import numpy as np\n",
    "from scipy import constants as const\n",
    "import datetime as dt\n",
    "import os\n",
    "from collections import OrderedDict\n",
    "import functools \n",
    "import subprocess\n",
    "import sys\n",
    "\n",
    "#progress bar\n",
    "from IPython.display import display  \n",
    "from ipywidgets import FloatProgress  \n",
    "import time"
   ]
  },
  {
   "cell_type": "markdown",
   "metadata": {
    "heading_collapsed": true
   },
   "source": [
    "# Database for storing simulation results"
   ]
  },
  {
   "cell_type": "code",
   "execution_count": 438,
   "metadata": {
    "ExecuteTime": {
     "end_time": "2018-02-21T11:55:30.201059Z",
     "start_time": "2018-02-21T11:55:29.616694Z"
    },
    "hidden": true
   },
   "outputs": [
    {
     "name": "stdout",
     "output_type": "stream",
     "text": [
      "['emit', 'equi', 'ibs', 'intensity']\n"
     ]
    },
    {
     "data": {
      "text/html": [
       "<div>\n",
       "<style>\n",
       "    .dataframe thead tr:only-child th {\n",
       "        text-align: right;\n",
       "    }\n",
       "\n",
       "    .dataframe thead th {\n",
       "        text-align: left;\n",
       "    }\n",
       "\n",
       "    .dataframe tbody tr th {\n",
       "        vertical-align: top;\n",
       "    }\n",
       "</style>\n",
       "<table border=\"1\" class=\"dataframe\">\n",
       "  <thead>\n",
       "    <tr style=\"text-align: right;\">\n",
       "      <th></th>\n",
       "      <th>id</th>\n",
       "      <th>simid</th>\n",
       "      <th>date</th>\n",
       "      <th>equix</th>\n",
       "      <th>equiy</th>\n",
       "      <th>equis</th>\n",
       "    </tr>\n",
       "  </thead>\n",
       "  <tbody>\n",
       "  </tbody>\n",
       "</table>\n",
       "</div>"
      ],
      "text/plain": [
       "Empty DataFrame\n",
       "Columns: [id, simid, date, equix, equiy, equis]\n",
       "Index: []"
      ]
     },
     "execution_count": 438,
     "metadata": {},
     "output_type": "execute_result"
    }
   ],
   "source": [
    "from sqlalchemy import create_engine\n",
    "from sqlalchemy import inspect\n",
    "import os\n",
    "from sqlalchemy.ext.declarative import declarative_base\n",
    "from sqlalchemy.orm import sessionmaker\n",
    "from sqlalchemy import Column, Integer, String, DateTime, Float\n",
    "from sqlalchemy import exists\n",
    "\n",
    "dbpath = '/home/tmerten/data/IBS/simadata/'\n",
    "dbfile = 'bessyII.db'\n",
    "\n",
    "if not os.path.exists( dbpath ):\n",
    "    os.mkdir( dbpath )\n",
    "    \n",
    "engine = create_engine(\"sqlite:///\" +  dbpath + dbfile )\n",
    "\n",
    "Base = declarative_base()\n",
    "\n",
    "class Intensity(Base):\n",
    "    __tablename__ = 'intensity'\n",
    "    id = Column(Integer, primary_key=True)\n",
    "    simid = Column(Integer)\n",
    "    date = Column(DateTime, default=dt.datetime.utcnow)\n",
    "    Turn = Column(Integer)\n",
    "    NMacro = Column(Integer)\n",
    "    Current = Column(Float)\n",
    "    NReal = Column(Float)\n",
    "    NRealLost = Column(Float)\n",
    "    Ttou = Column(Float)\n",
    "    \n",
    "class Emit(Base):\n",
    "    __tablename__ = 'emit'\n",
    "    id = Column(Integer, primary_key=True)\n",
    "    simid = Column(Integer)\n",
    "    date = Column(DateTime, default=dt.datetime.utcnow)\n",
    "    Turn = Column(Integer)\n",
    "    ex = Column(Float)\n",
    "    sigpx = Column(Float)\n",
    "    ey = Column(Float)\n",
    "    sigpy = Column(Float)\n",
    "    sigs = Column(Float)\n",
    "    sige = Column(Float)\n",
    "\n",
    "class Ibs(Base):\n",
    "    __tablename__ = 'ibs'\n",
    "    id = Column(Integer, primary_key=True)\n",
    "    simid = Column(Integer)\n",
    "    date = Column(DateTime, default=dt.datetime.utcnow)\n",
    "    Turn = Column(Integer)\n",
    "    Tex = Column(Float)\n",
    "    Tey = Column(Float)\n",
    "    Tp = Column(Float)\n",
    "    \n",
    "class Equilib(Base):\n",
    "    __tablename__= 'equi'\n",
    "    id = Column(Integer, primary_key=True)\n",
    "    simid = Column(Integer)\n",
    "    date = Column(DateTime, default=dt.datetime.utcnow)\n",
    "    equix = Column(Float)\n",
    "    equiy = Column(Float)\n",
    "    equis = Column(Float)\n",
    "    \n",
    "Base.metadata.create_all(engine)\n",
    "inspector = inspect(engine)\n",
    "Session = sessionmaker(bind=engine)\n",
    "session = Session()\n",
    "\n",
    "# Get table information\n",
    "print(inspector.get_table_names())\n",
    "\n",
    "# Get column information\n",
    "# print(inspector.get_columns('intensity'))\n",
    "\n",
    "pd.read_sql_table('intensity', engine)\n",
    "pd.read_sql_table('emit', engine)\n",
    "pd.read_sql_table('equi', engine)\n",
    "# pd.read_sql_table('ibs', engine)\n",
    "#      def __repr__(self):\n",
    "#         return \"<User(name='%s', fullname='%s', password='%s')>\" % (\n",
    "#                              self.name, self.fullname, self.password)\n",
    "\n",
    "# engine.execute('''DROP TABLE ibs''')"
   ]
  },
  {
   "cell_type": "markdown",
   "metadata": {
    "heading_collapsed": true
   },
   "source": [
    "# Plotting functions"
   ]
  },
  {
   "cell_type": "code",
   "execution_count": 678,
   "metadata": {
    "ExecuteTime": {
     "end_time": "2018-02-21T13:23:33.147714Z",
     "start_time": "2018-02-21T13:23:33.027841Z"
    },
    "hidden": true
   },
   "outputs": [],
   "source": [
    "# plt.pgf.rcfonts= False\n",
    "def plotEmit(frameslist,col='ex',nmean=10,save=False,savefilename=None,m=None,timeratio=1.0,legendlabels=[],n=[0],equilib=None):\n",
    "    plt.rc('text', usetex=True)\n",
    "    with plt.style.context(['seaborn-poster']):\n",
    "        for fe in frameslist[n]:\n",
    "            plt.plot(fe.rolling(nmean).mean().dropna()['Turn']*timeratio*800e-9*1e3,fe.rolling(nmean).mean().dropna()[col])\n",
    "#             fe.rolling(nmean).mean().dropna().plot(x='Turn',y=col)\n",
    "        \n",
    "        t = int(frameslist[0].tail(1)['Turn'].values[0]*timeratio*800e-9*1e3)\n",
    "    \n",
    "        if equilib is not None:\n",
    "            # radiation damping equilibria\n",
    "            for f in equilib[n]:\n",
    "                if col=='ex':\n",
    "                    plt.plot(range(0,t,t-1),[f['equix'].values[0]]*2)\n",
    "                    plt.ylabel('$\\epsilon_x$')\n",
    "\n",
    "                if col=='ey':\n",
    "                    plt.plot(range(0,t,t-1), [f['equiy'].values[0]]*2)\n",
    "                    plt.ylabel('$\\epsilon_y$')\n",
    "                if col=='sigs':\n",
    "                    plt.plot(range(0,t,t-1), [f['equis'].values[0]]*2) #[eta * const.c/ (0.007 *omega0)*np.sqrt(1.65e-15*const.c)/const.c]*2)\n",
    "                    plt.ylabel('$\\sigma_s$')\n",
    "    #             if col=='sige':\n",
    "    #                 plt.plot(range(0,t,t-1), [equilib[3]]*2)#[np.sqrt(1.6e-15*const.c)]*2)\n",
    "    #                 plt.ylabel('$\\delta$')\n",
    "    plt.ylim(ymin=0, ymax = fe.rolling(nmean).mean().dropna()[col].max() * 1.2) \n",
    "    plt.grid()\n",
    "    plt.title('Radiation Damping to Equilibrium')\n",
    "    plt.xlabel('Time [ms]')\n",
    "    plt.legend(legendlabels)\n",
    "    if m:\n",
    "        plt.ylim(0,m)\n",
    "    if save:\n",
    "        plt.savefig(savefilename + \".pdf\" )\n",
    "        plt.savefig(savefilename + \".pgf\")\n",
    "    plt.show()\n",
    "    \n",
    "def plotIBS(frames,col='Tex',nmean=10,save=False,savefilename=None,m=None,timeratio=1.0,legendlabels=[],n=-1):\n",
    "    plt.rc('text', usetex=True)\n",
    "    with plt.style.context(['seaborn-poster']):\n",
    "        for fe in frames[:n]:\n",
    "            plt.plot(fe.rolling(nmean).mean().dropna()['Turn']*timeratio*800e-9*1e3,fe.rolling(nmean).mean().dropna()[col])\n",
    "#             fe.rolling(nmean).mean().dropna().plot(x='Turn',y=col)\n",
    "\n",
    "        t = int(fe.tail(1)['Turn'].values[0]*timeratio*800e-9*1e3)\n",
    "        \n",
    "        # radiation damping equilibria\n",
    "        if col=='Tex':\n",
    "            plt.plot(range(0,t,t-1), equilib[0]*2)\n",
    "            plt.ylabel('$\\tau_x$')\n",
    "        if col=='Tey':\n",
    "            plt.plot(range(0,t,t-1), equilib[1]*2)\n",
    "            plt.ylabel('$\\tau$')\n",
    "        if col=='Tp':\n",
    "            plt.plot(range(0,t,t-1), equilib[2]*2)\n",
    "            plt.ylabel('$\\sigma_s$')\n",
    "        \n",
    "    plt.ylim(ymin=0, ymax = fe.rolling(nmean).mean().dropna()[col].max() * 1.2) \n",
    "    plt.grid()\n",
    "    plt.title('Radiation Damping to Equilibrium')\n",
    "    plt.xlabel('Time [ms]')\n",
    "    plt.legend(legendlabels)\n",
    "    if m:\n",
    "        plt.ylim(0,m)\n",
    "    if save:\n",
    "        plt.savefig(savefilename + \".pdf\" )\n",
    "        plt.savefig(savefilename + \".pgf\")\n",
    "    plt.show()\n",
    "    \n",
    "def extractEqui(nmean):\n",
    "    ex =[]\n",
    "    ey= []\n",
    "    sigs = []\n",
    "    for f in femit:\n",
    "        ex.append(f.rolling(nmean).mean().dropna().tail(1)['ex'].values[0])\n",
    "        ey.append(f.rolling(nmean).mean().dropna().tail(1)['ey'].values[0])\n",
    "        sigs.append(f.tail(1)['sigs'].values[0])\n",
    "    return ex, ey, sigs"
   ]
  },
  {
   "cell_type": "markdown",
   "metadata": {
    "heading_collapsed": true
   },
   "source": [
    "# Class for creating and running simulations"
   ]
  },
  {
   "cell_type": "code",
   "execution_count": 756,
   "metadata": {
    "ExecuteTime": {
     "end_time": "2018-02-21T14:35:02.862114Z",
     "start_time": "2018-02-21T14:35:02.438044Z"
    },
    "hidden": true
   },
   "outputs": [],
   "source": [
    "class steSim():\n",
    "    def __init__(self,inputFileName, prog = 'a.out', \n",
    "                 simdirectory = os.getcwd(), \n",
    "                 verbose = False, \n",
    "                 today=True , \n",
    "                 day=None , \n",
    "                 month = None , \n",
    "                 year = None,\n",
    "                 dbpath = '/home/tmerten/data/IBS/simadata/',\n",
    "                 dbfile = 'bessyII.db'\n",
    "                ):\n",
    "        # input values\n",
    "        self.inputFileName = inputFileName\n",
    "        self.initVals = self._get_input()\n",
    "             \n",
    "        # output files have dates - set date values\n",
    "        if today:\n",
    "            d = dt.date.today()\n",
    "            self.day = d.day\n",
    "            self.month = d.month\n",
    "            self.year = d.year\n",
    "        else:\n",
    "            self.day = day\n",
    "            self.month = month\n",
    "            self.year = year\n",
    "            \n",
    "        # bunch parameters beam 1\n",
    "        try:\n",
    "            if self.initVals['bunchFile1'] != 'none':\n",
    "                self.beam1 = pd.read_csv(self.initVals['bunchFile1'], delim_whitespace=True)\n",
    "            else:\n",
    "                print('No bunchFile1 provided - returning empty frame ')\n",
    "                self.beam1 = pd.DataFrame()\n",
    "                \n",
    "        except FileExistsError:\n",
    "            print('{} file does not exist'.format(self.initVals['bunchFile1']))\n",
    "            \n",
    "        # bunch parameters beam 2\n",
    "        try:\n",
    "            if self.initVals['bunchFile2'] != 'none':\n",
    "                self.beam2 = pd.read_csv(self.initVals['bunchFile2'], delim_whitespace=True)\n",
    "            else:\n",
    "                print('No bunchFile2 provided - returning empty frame ')\n",
    "                self.beam2 = pd.DataFrame()\n",
    "        except FileExistsError:\n",
    "            print('{} file does not exist'.format(self.initVals['bunchFile2']))\n",
    "\n",
    "        self.bucketdict = None\n",
    "        self.prog = prog\n",
    "        self.done = False\n",
    "        self.output = ''\n",
    "        \n",
    "        # database stuff\n",
    "        self.engine = create_engine(\"sqlite:///\" +  dbpath + dbfile )\n",
    "        self.inspector = inspect(engine)\n",
    "        Session = sessionmaker(bind=engine)\n",
    "        self.session = Session()\n",
    "        self.addedtodb = False \n",
    "        self.dblastid = pd.read_sql_table('emit', self.engine).tail(1).simid.values[0]\n",
    "        \n",
    "    def reset(self):\n",
    "        self.__init__(self.inputFileName)\n",
    "        \n",
    "    def _get_input(self):\n",
    "        initVals = OrderedDict()\n",
    "        try:\n",
    "            with open(self.inputFileName) as f:\n",
    "                for line in f:\n",
    "                    (key, val) = line.split()[:2]\n",
    "                    initVals[key] = val\n",
    "        except FileExistsError:\n",
    "            print('Input file does not exist')\n",
    "        return initVals\n",
    "    \n",
    "    def printdate(self):\n",
    "        print('{:02d}-{:02d}-{:04d}'.format(self.day, self.month, self.year))\n",
    "     \n",
    "#     @staticmethod\n",
    "#     def run(command):\n",
    "#         process = subprocess.Popen(command, stdout=subprocess.PIPE, shell=True)\n",
    "#         while True:\n",
    "#             output = process.stdout.readline()\n",
    "#             if output:\n",
    "#                 yield output.strip()\n",
    "#                 try:\n",
    "#                     if int(output.strip()[:6]) == int(self.initVals['numberOfTurns']):\n",
    "#                         break\n",
    "#                     except:\n",
    "#                         pass\n",
    "    \n",
    "    def _update_bparams(self):\n",
    "        bparams = OrderedDict()\n",
    "        try:\n",
    "            for k in self.beam1['BucketNumber'].values: \n",
    "                bparams[k] = OrderedDict()\n",
    "                with open('STE_bunch_parameters_'+str(k)+'_21_02_2018.dat') as f:\n",
    "                    for line in f:\n",
    "                        (key, val) = line.split()[:2]\n",
    "                        bparams[k][key] = val\n",
    "        except FileExistsError:\n",
    "            print('Input file does not exist')\n",
    "        return bparams\n",
    "    \n",
    "\n",
    "    def recompile(self):\n",
    "        cmd = 'nvcc -ccbin clang-3.8 -lstdc++ -lm  STE.cu STE_ReadInput_double.cpp STE_TFS_double.cu STE_Radiation_double.cu STE_Longitudinal_Hamiltonian_double.cu STE_Synchrotron_double.cu STE_ReadBunchFiles_double.cu STE_IBS_double.cu STE_Bunch_double.cu -run'\n",
    "        process = subprocess.Popen(cmd, stdout=subprocess.PIPE, shell=True)\n",
    "        output, error = process.communicate()\n",
    "        print(\"Compilation Done\")\n",
    "        self.done = True\n",
    "        self.output = output\n",
    "        self.bparams = self._update_bparams()\n",
    "#     def _update_bunch_params(self):\n",
    "        \n",
    "    def runsim(self):\n",
    "        cmd = './'+self.prog\n",
    "        process = subprocess.Popen(cmd, stdout=subprocess.PIPE, shell=True)\n",
    "        output, error = process.communicate()\n",
    "        print(\"Job Done\")\n",
    "        self.done = True\n",
    "        self.output = output\n",
    "        self.bparams = self._update_bparams()\n",
    "        \n",
    "    def _create_bucket_dict(self):\n",
    "        if self.done:\n",
    "            d = OrderedDict( (k,glob.glob('Distribution_bucket_'+ str(k) +'_{:02d}'.format(self.day) + '_{:02d}'.format(self.month) + '_{:04d}'.format(self.year) +'*.dat'))\n",
    "                              for k in self.beam1['BucketNumber'].values)\n",
    "            for k in d:\n",
    "                d[k].sort()\n",
    "            self.bucketdict = d\n",
    "        else:\n",
    "            print('No sim output yet - run sim first')\n",
    "            \n",
    "    def load_distributions(self):\n",
    "        if self.bucketdict is None:\n",
    "            self._create_bucket_dict()\n",
    "        self.ddfs = OrderedDict()\n",
    "        db = self.bucketdict\n",
    "        for k,v in db.items():\n",
    "            self.ddfs[k] = [pd.read_csv(file, delim_whitespace=True, names = ['x','px','y','py','t','delta'] ) for file in db[k]]\n",
    "            \n",
    "    def load_evolution_tables(self):\n",
    "        self.emit = OrderedDict()\n",
    "        self.int = OrderedDict()\n",
    "        self.ibs = OrderedDict()\n",
    "        \n",
    "        if self.bucketdict is None:\n",
    "            self._create_bucket_dict()\n",
    "        db = self.bucketdict\n",
    "        \n",
    "        emitdict = OrderedDict(\n",
    "                (k,\n",
    "                 glob.glob('STE_Emittances_'+ str(k) +'_{:02d}'.format(self.day) + '_{:02d}'.format(self.month) + '_{:04d}'.format(self.year) +'.dat')\n",
    "                )\n",
    "                 for k in self.beam1['BucketNumber'].values\n",
    "            )\n",
    "        \n",
    "        intdict = OrderedDict(\n",
    "                (k,\n",
    "                 glob.glob('STE_Intensity_'+ str(k) +'_{:02d}'.format(self.day) + '_{:02d}'.format(self.month) + '_{:04d}'.format(self.year) +'.dat')\n",
    "                )\n",
    "                 for k in self.beam1['BucketNumber'].values\n",
    "            )\n",
    "        \n",
    "        ibsdict = OrderedDict(\n",
    "                (k,\n",
    "                 glob.glob('STE_IBS_LifeTimes_'+ str(k) +'_{:02d}'.format(self.day) + '_{:02d}'.format(self.month) + '_{:04d}'.format(self.year) +'.dat')\n",
    "                )\n",
    "                 for k in self.beam1['BucketNumber'].values\n",
    "            )\n",
    "        \n",
    "        for k in emitdict:\n",
    "            emitdict[k].sort()\n",
    "            intdict[k].sort()\n",
    "            ibsdict[k].sort()\n",
    "           \n",
    "        for k,v in db.items():\n",
    "            self.emit[k] = [pd.read_csv(file, delim_whitespace=True) for file in emitdict[k]][0]\n",
    "            self.int[k] = [pd.read_csv(file, delim_whitespace=True) for file in intdict[k]][0]\n",
    "            self.ibs[k] = [pd.read_csv(file, delim_whitespace=True) for file in ibsdict[k]][0]\n",
    "    \n",
    "    def getDBTableNames(self):\n",
    "        return self.inspector.get_table_names()\n",
    "    \n",
    "    def getDBTableColumns(self,tableName):\n",
    "        cols = []\n",
    "        for d in self.inspector.get_columns(tableName):\n",
    "            cols.append(d['name'])\n",
    "        return cols\n",
    "    \n",
    "    def getDBTable(self, tableName):\n",
    "        return pd.read_sql_table(tableName, self.engine)\n",
    "    \n",
    "    def _addFrameToDb(self,TableNameObject,TableName,SimId,frame):\n",
    "        ret = self.session.query(exists().where(TableNameObject.simid==SimId)).scalar()\n",
    "        if ret:\n",
    "            print('simid already exist - change it')\n",
    "        else:\n",
    "            try:\n",
    "                collist = []\n",
    "                for d in self.inspector.get_columns(TableName):\n",
    "                    collist.append(d['name'])\n",
    "                print('adding to database')\n",
    "                frame['date'] = dt.datetime.now()\n",
    "                frame['simid'] = SimId\n",
    "                frame = frame.loc[:,collist]\n",
    "                frame.to_sql(name=TableName,con=engine, if_exists = 'append', index=False)\n",
    "            except:\n",
    "                print('adding to database failed')\n",
    "                \n",
    "    def addsimresultsdb(self):\n",
    "        if not self.addedtodb:\n",
    "            for i, (k, v) in enumerate(self.emit.items()):\n",
    "                f1 = self.int[k].copy()\n",
    "                f2 = self.emit[k].copy()\n",
    "                f3 = self.ibs[k].copy()\n",
    "                f = pd.DataFrame(list(self.extractEqui(nmean=10))).T\n",
    "                f.columns = ['equix','equiy','equis']\n",
    "                simid = self.dblastid+i+1\n",
    "                self._addFrameToDb(Intensity,'intensity',simid,f1)\n",
    "                self._addFrameToDb(Emit,'emit',simid,f2)\n",
    "                self._addFrameToDb(Ibs,'ibs',simid,f3)\n",
    "                self._addFrameToDb(Ibs,'equi',simid,f)\n",
    "            self.dblastid = pd.read_sql_table('emit', engine).tail(1).simid.values[0]\n",
    "            self.addedtodb = True\n",
    "        else:\n",
    "            print('Already saved to db')\n",
    "            \n",
    "    def getEquilibRadvalues(self,bucket):\n",
    "        dc = self.bparams[bucket]\n",
    "        return [dc['radequix'], dc['radequiy'],dc['radequis']]\n",
    "    \n",
    "    def getEquilibRadtimes(self,bucket):\n",
    "        dc = self.bparams[bucket]\n",
    "        return [dc['radequitx'], dc['radequity'],dc['radequitt']]\n",
    "    \n",
    "    def extractEqui(self,nmean=1):\n",
    "        ex =[]\n",
    "        ey= []\n",
    "        sigs = []\n",
    "        for f in list(self.emit.values()):\n",
    "            f = f.copy()\n",
    "            ex.append(f.rolling(nmean).mean().dropna().tail(1)['ex'].values[0])\n",
    "            ey.append(f.rolling(nmean).mean().dropna().tail(1)['ey'].values[0])\n",
    "            sigs.append(f.tail(1)['sigs'].values[0])\n",
    "        return ex, ey, sigs\n",
    "        "
   ]
  },
  {
   "cell_type": "markdown",
   "metadata": {},
   "source": [
    "# Running simulations"
   ]
  },
  {
   "cell_type": "code",
   "execution_count": 432,
   "metadata": {
    "ExecuteTime": {
     "end_time": "2018-02-21T11:47:45.341656Z",
     "start_time": "2018-02-21T11:47:45.329597Z"
    },
    "collapsed": true
   },
   "outputs": [],
   "source": [
    "%matplotlib inline"
   ]
  },
  {
   "cell_type": "code",
   "execution_count": 1110,
   "metadata": {
    "ExecuteTime": {
     "end_time": "2018-02-22T09:06:38.501298Z",
     "start_time": "2018-02-22T09:06:38.483420Z"
    }
   },
   "outputs": [
    {
     "data": {
      "text/plain": [
       "poly1d([   3.84615385,  140.65384615,    1.31538462])"
      ]
     },
     "execution_count": 1110,
     "metadata": {},
     "output_type": "execute_result"
    }
   ],
   "source": [
    "p=np.poly1d(np.polyfit([0.28,0.15,0.2],[41,22.5,29.6], 2))\n",
    "p"
   ]
  },
  {
   "cell_type": "code",
   "execution_count": 1133,
   "metadata": {
    "ExecuteTime": {
     "end_time": "2018-02-22T09:14:44.961567Z",
     "start_time": "2018-02-22T09:14:44.946935Z"
    }
   },
   "outputs": [
    {
     "data": {
      "text/plain": [
       "39.85778461538461"
      ]
     },
     "execution_count": 1133,
     "metadata": {},
     "output_type": "execute_result"
    }
   ],
   "source": [
    "p(0.272)"
   ]
  },
  {
   "cell_type": "code",
   "execution_count": 1177,
   "metadata": {
    "ExecuteTime": {
     "end_time": "2018-02-22T13:42:20.625380Z",
     "start_time": "2018-02-22T13:42:20.610887Z"
    }
   },
   "outputs": [
    {
     "data": {
      "text/plain": [
       "112"
      ]
     },
     "execution_count": 1177,
     "metadata": {},
     "output_type": "execute_result"
    }
   ],
   "source": [
    "304-192"
   ]
  },
  {
   "cell_type": "code",
   "execution_count": 1222,
   "metadata": {
    "ExecuteTime": {
     "end_time": "2018-02-22T15:27:43.392791Z",
     "start_time": "2018-02-22T15:27:43.375765Z"
    }
   },
   "outputs": [],
   "source": [
    "npartscan =np.array([0.1] + list(np.arange(0.5,7.0,0.5)))*1e10\n",
    "ibsscan = [1]\n",
    "voltagescan = np.array([0.5,1.0,1.5,2.0])*1e6\n",
    "blowupscan = [0.2175,0.2175,0.219,0.22,0.225,0.228,0.231,0.238,0.241,0.2485,0.255,0.265,0.271,0.28]"
   ]
  },
  {
   "cell_type": "code",
   "execution_count": 1271,
   "metadata": {
    "ExecuteTime": {
     "end_time": "2018-02-23T08:32:46.850604Z",
     "start_time": "2018-02-23T08:32:46.744185Z"
    },
    "scrolled": false
   },
   "outputs": [
    {
     "data": {
      "application/vnd.jupyter.widget-view+json": {
       "model_id": "69e6e40ed8104775a63de5e500146f95"
      }
     },
     "metadata": {},
     "output_type": "display_data"
    },
    {
     "name": "stdout",
     "output_type": "stream",
     "text": [
      "585\t\t\tbeta coupling 0.02 - blowup - py factor = 0.28 - px factor = 0.0 - IBS - Smooth piwi  bins = 10000 - 5.0e+05 - 1.0e+09 \n",
      "586\t\t\tbeta coupling 0.02 - blowup - py factor = 0.28 - px factor = 0.0 - IBS - Smooth piwi  bins = 10000 - 1.0e+06 - 1.0e+09 \n",
      "587\t\t\tbeta coupling 0.02 - blowup - py factor = 0.28 - px factor = 0.0 - IBS - Smooth piwi  bins = 10000 - 1.5e+06 - 1.0e+09 \n",
      "588\t\t\tbeta coupling 0.02 - blowup - py factor = 0.28 - px factor = 0.0 - IBS - Smooth piwi  bins = 10000 - 2.0e+06 - 1.0e+09 \n",
      "589\t\t\tbeta coupling 0.02 - blowup - py factor = 0.28 - px factor = 0.0 - IBS - Smooth piwi  bins = 10000 - 5.0e+05 - 5.0e+09 \n",
      "590\t\t\tbeta coupling 0.02 - blowup - py factor = 0.28 - px factor = 0.0 - IBS - Smooth piwi  bins = 10000 - 1.0e+06 - 5.0e+09 \n",
      "591\t\t\tbeta coupling 0.02 - blowup - py factor = 0.28 - px factor = 0.0 - IBS - Smooth piwi  bins = 10000 - 1.5e+06 - 5.0e+09 \n",
      "592\t\t\tbeta coupling 0.02 - blowup - py factor = 0.28 - px factor = 0.0 - IBS - Smooth piwi  bins = 10000 - 2.0e+06 - 5.0e+09 \n",
      "593\t\t\tbeta coupling 0.02 - blowup - py factor = 0.28 - px factor = 0.0 - IBS - Smooth piwi  bins = 10000 - 5.0e+05 - 1.0e+10 \n",
      "594\t\t\tbeta coupling 0.02 - blowup - py factor = 0.28 - px factor = 0.0 - IBS - Smooth piwi  bins = 10000 - 1.0e+06 - 1.0e+10 \n",
      "595\t\t\tbeta coupling 0.02 - blowup - py factor = 0.28 - px factor = 0.0 - IBS - Smooth piwi  bins = 10000 - 1.5e+06 - 1.0e+10 \n",
      "596\t\t\tbeta coupling 0.02 - blowup - py factor = 0.28 - px factor = 0.0 - IBS - Smooth piwi  bins = 10000 - 2.0e+06 - 1.0e+10 \n",
      "597\t\t\tbeta coupling 0.02 - blowup - py factor = 0.28 - px factor = 0.0 - IBS - Smooth piwi  bins = 10000 - 5.0e+05 - 1.5e+10 \n",
      "598\t\t\tbeta coupling 0.02 - blowup - py factor = 0.28 - px factor = 0.0 - IBS - Smooth piwi  bins = 10000 - 1.0e+06 - 1.5e+10 \n",
      "599\t\t\tbeta coupling 0.02 - blowup - py factor = 0.28 - px factor = 0.0 - IBS - Smooth piwi  bins = 10000 - 1.5e+06 - 1.5e+10 \n",
      "600\t\t\tbeta coupling 0.02 - blowup - py factor = 0.28 - px factor = 0.0 - IBS - Smooth piwi  bins = 10000 - 2.0e+06 - 1.5e+10 \n",
      "601\t\t\tbeta coupling 0.02 - blowup - py factor = 0.28 - px factor = 0.0 - IBS - Smooth piwi  bins = 10000 - 5.0e+05 - 2.0e+10 \n",
      "602\t\t\tbeta coupling 0.02 - blowup - py factor = 0.28 - px factor = 0.0 - IBS - Smooth piwi  bins = 10000 - 1.0e+06 - 2.0e+10 \n",
      "603\t\t\tbeta coupling 0.02 - blowup - py factor = 0.28 - px factor = 0.0 - IBS - Smooth piwi  bins = 10000 - 1.5e+06 - 2.0e+10 \n",
      "604\t\t\tbeta coupling 0.02 - blowup - py factor = 0.28 - px factor = 0.0 - IBS - Smooth piwi  bins = 10000 - 2.0e+06 - 2.0e+10 \n",
      "605\t\t\tbeta coupling 0.02 - blowup - py factor = 0.28 - px factor = 0.0 - IBS - Smooth piwi  bins = 10000 - 5.0e+05 - 2.5e+10 \n",
      "606\t\t\tbeta coupling 0.02 - blowup - py factor = 0.28 - px factor = 0.0 - IBS - Smooth piwi  bins = 10000 - 1.0e+06 - 2.5e+10 \n",
      "607\t\t\tbeta coupling 0.02 - blowup - py factor = 0.28 - px factor = 0.0 - IBS - Smooth piwi  bins = 10000 - 1.5e+06 - 2.5e+10 \n",
      "608\t\t\tbeta coupling 0.02 - blowup - py factor = 0.28 - px factor = 0.0 - IBS - Smooth piwi  bins = 10000 - 2.0e+06 - 2.5e+10 \n",
      "609\t\t\tbeta coupling 0.02 - blowup - py factor = 0.28 - px factor = 0.0 - IBS - Smooth piwi  bins = 10000 - 5.0e+05 - 3.0e+10 \n",
      "610\t\t\tbeta coupling 0.02 - blowup - py factor = 0.28 - px factor = 0.0 - IBS - Smooth piwi  bins = 10000 - 1.0e+06 - 3.0e+10 \n",
      "611\t\t\tbeta coupling 0.02 - blowup - py factor = 0.28 - px factor = 0.0 - IBS - Smooth piwi  bins = 10000 - 1.5e+06 - 3.0e+10 \n",
      "612\t\t\tbeta coupling 0.02 - blowup - py factor = 0.28 - px factor = 0.0 - IBS - Smooth piwi  bins = 10000 - 2.0e+06 - 3.0e+10 \n",
      "613\t\t\tbeta coupling 0.02 - blowup - py factor = 0.28 - px factor = 0.0 - IBS - Smooth piwi  bins = 10000 - 5.0e+05 - 3.5e+10 \n",
      "614\t\t\tbeta coupling 0.02 - blowup - py factor = 0.28 - px factor = 0.0 - IBS - Smooth piwi  bins = 10000 - 1.0e+06 - 3.5e+10 \n",
      "615\t\t\tbeta coupling 0.02 - blowup - py factor = 0.28 - px factor = 0.0 - IBS - Smooth piwi  bins = 10000 - 1.5e+06 - 3.5e+10 \n",
      "616\t\t\tbeta coupling 0.02 - blowup - py factor = 0.28 - px factor = 0.0 - IBS - Smooth piwi  bins = 10000 - 2.0e+06 - 3.5e+10 \n",
      "617\t\t\tbeta coupling 0.02 - blowup - py factor = 0.28 - px factor = 0.0 - IBS - Smooth piwi  bins = 10000 - 5.0e+05 - 4.0e+10 \n",
      "618\t\t\tbeta coupling 0.02 - blowup - py factor = 0.28 - px factor = 0.0 - IBS - Smooth piwi  bins = 10000 - 1.0e+06 - 4.0e+10 \n",
      "619\t\t\tbeta coupling 0.02 - blowup - py factor = 0.28 - px factor = 0.0 - IBS - Smooth piwi  bins = 10000 - 1.5e+06 - 4.0e+10 \n",
      "620\t\t\tbeta coupling 0.02 - blowup - py factor = 0.28 - px factor = 0.0 - IBS - Smooth piwi  bins = 10000 - 2.0e+06 - 4.0e+10 \n",
      "621\t\t\tbeta coupling 0.02 - blowup - py factor = 0.28 - px factor = 0.0 - IBS - Smooth piwi  bins = 10000 - 5.0e+05 - 4.5e+10 \n",
      "622\t\t\tbeta coupling 0.02 - blowup - py factor = 0.28 - px factor = 0.0 - IBS - Smooth piwi  bins = 10000 - 1.0e+06 - 4.5e+10 \n",
      "623\t\t\tbeta coupling 0.02 - blowup - py factor = 0.28 - px factor = 0.0 - IBS - Smooth piwi  bins = 10000 - 1.5e+06 - 4.5e+10 \n",
      "624\t\t\tbeta coupling 0.02 - blowup - py factor = 0.28 - px factor = 0.0 - IBS - Smooth piwi  bins = 10000 - 2.0e+06 - 4.5e+10 \n",
      "625\t\t\tbeta coupling 0.02 - blowup - py factor = 0.28 - px factor = 0.0 - IBS - Smooth piwi  bins = 10000 - 5.0e+05 - 5.0e+10 \n",
      "626\t\t\tbeta coupling 0.02 - blowup - py factor = 0.28 - px factor = 0.0 - IBS - Smooth piwi  bins = 10000 - 1.0e+06 - 5.0e+10 \n",
      "627\t\t\tbeta coupling 0.02 - blowup - py factor = 0.28 - px factor = 0.0 - IBS - Smooth piwi  bins = 10000 - 1.5e+06 - 5.0e+10 \n",
      "628\t\t\tbeta coupling 0.02 - blowup - py factor = 0.28 - px factor = 0.0 - IBS - Smooth piwi  bins = 10000 - 2.0e+06 - 5.0e+10 \n",
      "629\t\t\tbeta coupling 0.02 - blowup - py factor = 0.28 - px factor = 0.0 - IBS - Smooth piwi  bins = 10000 - 5.0e+05 - 5.5e+10 \n",
      "630\t\t\tbeta coupling 0.02 - blowup - py factor = 0.28 - px factor = 0.0 - IBS - Smooth piwi  bins = 10000 - 1.0e+06 - 5.5e+10 \n",
      "631\t\t\tbeta coupling 0.02 - blowup - py factor = 0.28 - px factor = 0.0 - IBS - Smooth piwi  bins = 10000 - 1.5e+06 - 5.5e+10 \n",
      "632\t\t\tbeta coupling 0.02 - blowup - py factor = 0.28 - px factor = 0.0 - IBS - Smooth piwi  bins = 10000 - 2.0e+06 - 5.5e+10 \n",
      "633\t\t\tbeta coupling 0.02 - blowup - py factor = 0.28 - px factor = 0.0 - IBS - Smooth piwi  bins = 10000 - 5.0e+05 - 6.0e+10 \n",
      "634\t\t\tbeta coupling 0.02 - blowup - py factor = 0.28 - px factor = 0.0 - IBS - Smooth piwi  bins = 10000 - 1.0e+06 - 6.0e+10 \n",
      "635\t\t\tbeta coupling 0.02 - blowup - py factor = 0.28 - px factor = 0.0 - IBS - Smooth piwi  bins = 10000 - 1.5e+06 - 6.0e+10 \n",
      "636\t\t\tbeta coupling 0.02 - blowup - py factor = 0.28 - px factor = 0.0 - IBS - Smooth piwi  bins = 10000 - 2.0e+06 - 6.0e+10 \n",
      "637\t\t\tbeta coupling 0.02 - blowup - py factor = 0.28 - px factor = 0.0 - IBS - Smooth piwi  bins = 10000 - 5.0e+05 - 6.5e+10 \n",
      "638\t\t\tbeta coupling 0.02 - blowup - py factor = 0.28 - px factor = 0.0 - IBS - Smooth piwi  bins = 10000 - 1.0e+06 - 6.5e+10 \n",
      "639\t\t\tbeta coupling 0.02 - blowup - py factor = 0.28 - px factor = 0.0 - IBS - Smooth piwi  bins = 10000 - 1.5e+06 - 6.5e+10 \n",
      "640\t\t\tbeta coupling 0.02 - blowup - py factor = 0.28 - px factor = 0.0 - IBS - Smooth piwi  bins = 10000 - 2.0e+06 - 6.5e+10 \n"
     ]
    }
   ],
   "source": [
    "fp = FloatProgress(min=528+56,max=528+2*56)  \n",
    "display(fp)\n",
    "j=0\n",
    "for npart in npartscan:\n",
    "    \n",
    "    # update the bunchfile\n",
    "    infile = 'STE_BunchFile1.in'\n",
    "    finfile = pd.read_csv(infile, delim_whitespace=True)\n",
    "    \n",
    "    finfile.loc[0,'RealNumberParticles'] = npart\n",
    "    \n",
    "    finfile.to_csv(infile, sep='\\t',index=False)\n",
    "    \n",
    "    \n",
    "    for ibs in ibsscan:\n",
    "        for v in voltagescan:\n",
    "            \n",
    "            # update setupfile\n",
    "#             setupfile = 'STE.in'\n",
    "#             fsetupfile = pd.read_csv(setupfile, delim_whitespace=True,names=['key','value','comment'])\n",
    "#             fsetupfile = fsetupfile.set_index('key')\n",
    "            \n",
    "#             fsetupfile.loc['IBSupdate','value'] = ibs\n",
    "#             fsetupfile.loc['RFVoltage1','value'] = v\n",
    "#             fsetupfile.loc['blowupy','value'] = blowupscan[j]\n",
    "            \n",
    "#             # change ibs method\n",
    "#             fsetupfile.loc['methodIBS','value'] = 3\n",
    "            \n",
    "#             fsetupfile.to_csv('test'+setupfile,sep='\\t',header=None)\n",
    "            \n",
    "#             # run simulation\n",
    "#             simtest = steSim('testSTE.in')\n",
    "#             simtest.runsim()\n",
    "#             simtest.load_distributions()\n",
    "#             simtest.load_evolution_tables()\n",
    "            \n",
    "#             simtest.addsimresultsdb()\n",
    "            \n",
    "            fp.value+=1\n",
    "            if ibs:\n",
    "                print('{}\\t\\t\\tbeta coupling 0.02 - blowup - py factor = 0.28 - px factor = 0.0 - IBS - Smooth piwi  bins = 10000 - {:.1e} - {:.1e} '.format(int(fp.value),v,npart))\n",
    "            else:\n",
    "                print('{}\\t\\t\\tbeta coupling 0.02 - blowup - py factor = 0.28 - px factor = 0.0 - {:.1e} - {:.1e} '.format(int(fp.value),v,npart))\n",
    "    j+=1"
   ]
  },
  {
   "cell_type": "markdown",
   "metadata": {
    "heading_collapsed": true
   },
   "source": [
    "# Error estimation"
   ]
  },
  {
   "cell_type": "code",
   "execution_count": 1231,
   "metadata": {
    "ExecuteTime": {
     "end_time": "2018-02-22T16:44:05.140890Z",
     "start_time": "2018-02-22T16:44:05.042192Z"
    },
    "hidden": true,
    "scrolled": true
   },
   "outputs": [
    {
     "data": {
      "application/vnd.jupyter.widget-view+json": {
       "model_id": "5d119e992dc4415f9f8dcc99bdffe942"
      }
     },
     "metadata": {},
     "output_type": "display_data"
    },
    {
     "name": "stdout",
     "output_type": "stream",
     "text": [
      "305\t\t\tbeta coupling 0.02 - blowup - py factor = 0.28 - px factor = 0.0 - IBS - 0.0e+00 - 6.5e+10 - errorest \n",
      "306\t\t\tbeta coupling 0.02 - blowup - py factor = 0.28 - px factor = 0.0 - IBS - 1.0e+00 - 6.5e+10 - errorest \n",
      "307\t\t\tbeta coupling 0.02 - blowup - py factor = 0.28 - px factor = 0.0 - IBS - 2.0e+00 - 6.5e+10 - errorest \n",
      "308\t\t\tbeta coupling 0.02 - blowup - py factor = 0.28 - px factor = 0.0 - IBS - 3.0e+00 - 6.5e+10 - errorest \n",
      "309\t\t\tbeta coupling 0.02 - blowup - py factor = 0.28 - px factor = 0.0 - IBS - 4.0e+00 - 6.5e+10 - errorest \n",
      "310\t\t\tbeta coupling 0.02 - blowup - py factor = 0.28 - px factor = 0.0 - IBS - 5.0e+00 - 6.5e+10 - errorest \n",
      "311\t\t\tbeta coupling 0.02 - blowup - py factor = 0.28 - px factor = 0.0 - IBS - 6.0e+00 - 6.5e+10 - errorest \n",
      "312\t\t\tbeta coupling 0.02 - blowup - py factor = 0.28 - px factor = 0.0 - IBS - 7.0e+00 - 6.5e+10 - errorest \n",
      "313\t\t\tbeta coupling 0.02 - blowup - py factor = 0.28 - px factor = 0.0 - IBS - 8.0e+00 - 6.5e+10 - errorest \n",
      "314\t\t\tbeta coupling 0.02 - blowup - py factor = 0.28 - px factor = 0.0 - IBS - 9.0e+00 - 6.5e+10 - errorest \n",
      "315\t\t\tbeta coupling 0.02 - blowup - py factor = 0.28 - px factor = 0.0 - IBS - 1.0e+01 - 6.5e+10 - errorest \n",
      "316\t\t\tbeta coupling 0.02 - blowup - py factor = 0.28 - px factor = 0.0 - IBS - 1.1e+01 - 6.5e+10 - errorest \n",
      "317\t\t\tbeta coupling 0.02 - blowup - py factor = 0.28 - px factor = 0.0 - IBS - 1.2e+01 - 6.5e+10 - errorest \n",
      "318\t\t\tbeta coupling 0.02 - blowup - py factor = 0.28 - px factor = 0.0 - IBS - 1.3e+01 - 6.5e+10 - errorest \n",
      "319\t\t\tbeta coupling 0.02 - blowup - py factor = 0.28 - px factor = 0.0 - IBS - 1.4e+01 - 6.5e+10 - errorest \n",
      "320\t\t\tbeta coupling 0.02 - blowup - py factor = 0.28 - px factor = 0.0 - IBS - 1.5e+01 - 6.5e+10 - errorest \n",
      "321\t\t\tbeta coupling 0.02 - blowup - py factor = 0.28 - px factor = 0.0 - IBS - 1.6e+01 - 6.5e+10 - errorest \n",
      "322\t\t\tbeta coupling 0.02 - blowup - py factor = 0.28 - px factor = 0.0 - IBS - 1.7e+01 - 6.5e+10 - errorest \n",
      "323\t\t\tbeta coupling 0.02 - blowup - py factor = 0.28 - px factor = 0.0 - IBS - 1.8e+01 - 6.5e+10 - errorest \n",
      "324\t\t\tbeta coupling 0.02 - blowup - py factor = 0.28 - px factor = 0.0 - IBS - 1.9e+01 - 6.5e+10 - errorest \n",
      "325\t\t\tbeta coupling 0.02 - blowup - py factor = 0.28 - px factor = 0.0 - IBS - 2.0e+01 - 6.5e+10 - errorest \n",
      "326\t\t\tbeta coupling 0.02 - blowup - py factor = 0.28 - px factor = 0.0 - IBS - 2.1e+01 - 6.5e+10 - errorest \n",
      "327\t\t\tbeta coupling 0.02 - blowup - py factor = 0.28 - px factor = 0.0 - IBS - 2.2e+01 - 6.5e+10 - errorest \n",
      "328\t\t\tbeta coupling 0.02 - blowup - py factor = 0.28 - px factor = 0.0 - IBS - 2.3e+01 - 6.5e+10 - errorest \n",
      "329\t\t\tbeta coupling 0.02 - blowup - py factor = 0.28 - px factor = 0.0 - IBS - 2.4e+01 - 6.5e+10 - errorest \n",
      "330\t\t\tbeta coupling 0.02 - blowup - py factor = 0.28 - px factor = 0.0 - IBS - 2.5e+01 - 6.5e+10 - errorest \n",
      "331\t\t\tbeta coupling 0.02 - blowup - py factor = 0.28 - px factor = 0.0 - IBS - 2.6e+01 - 6.5e+10 - errorest \n",
      "332\t\t\tbeta coupling 0.02 - blowup - py factor = 0.28 - px factor = 0.0 - IBS - 2.7e+01 - 6.5e+10 - errorest \n",
      "333\t\t\tbeta coupling 0.02 - blowup - py factor = 0.28 - px factor = 0.0 - IBS - 2.8e+01 - 6.5e+10 - errorest \n",
      "334\t\t\tbeta coupling 0.02 - blowup - py factor = 0.28 - px factor = 0.0 - IBS - 2.9e+01 - 6.5e+10 - errorest \n",
      "335\t\t\tbeta coupling 0.02 - blowup - py factor = 0.28 - px factor = 0.0 - IBS - 3.0e+01 - 6.5e+10 - errorest \n",
      "336\t\t\tbeta coupling 0.02 - blowup - py factor = 0.28 - px factor = 0.0 - IBS - 3.1e+01 - 6.5e+10 - errorest \n",
      "337\t\t\tbeta coupling 0.02 - blowup - py factor = 0.28 - px factor = 0.0 - IBS - 3.2e+01 - 6.5e+10 - errorest \n",
      "338\t\t\tbeta coupling 0.02 - blowup - py factor = 0.28 - px factor = 0.0 - IBS - 3.3e+01 - 6.5e+10 - errorest \n",
      "339\t\t\tbeta coupling 0.02 - blowup - py factor = 0.28 - px factor = 0.0 - IBS - 3.4e+01 - 6.5e+10 - errorest \n",
      "340\t\t\tbeta coupling 0.02 - blowup - py factor = 0.28 - px factor = 0.0 - IBS - 3.5e+01 - 6.5e+10 - errorest \n",
      "341\t\t\tbeta coupling 0.02 - blowup - py factor = 0.28 - px factor = 0.0 - IBS - 3.6e+01 - 6.5e+10 - errorest \n",
      "342\t\t\tbeta coupling 0.02 - blowup - py factor = 0.28 - px factor = 0.0 - IBS - 3.7e+01 - 6.5e+10 - errorest \n",
      "343\t\t\tbeta coupling 0.02 - blowup - py factor = 0.28 - px factor = 0.0 - IBS - 3.8e+01 - 6.5e+10 - errorest \n",
      "344\t\t\tbeta coupling 0.02 - blowup - py factor = 0.28 - px factor = 0.0 - IBS - 3.9e+01 - 6.5e+10 - errorest \n",
      "345\t\t\tbeta coupling 0.02 - blowup - py factor = 0.28 - px factor = 0.0 - IBS - 4.0e+01 - 6.5e+10 - errorest \n",
      "346\t\t\tbeta coupling 0.02 - blowup - py factor = 0.28 - px factor = 0.0 - IBS - 4.1e+01 - 6.5e+10 - errorest \n",
      "347\t\t\tbeta coupling 0.02 - blowup - py factor = 0.28 - px factor = 0.0 - IBS - 4.2e+01 - 6.5e+10 - errorest \n",
      "348\t\t\tbeta coupling 0.02 - blowup - py factor = 0.28 - px factor = 0.0 - IBS - 4.3e+01 - 6.5e+10 - errorest \n",
      "349\t\t\tbeta coupling 0.02 - blowup - py factor = 0.28 - px factor = 0.0 - IBS - 4.4e+01 - 6.5e+10 - errorest \n",
      "350\t\t\tbeta coupling 0.02 - blowup - py factor = 0.28 - px factor = 0.0 - IBS - 4.5e+01 - 6.5e+10 - errorest \n",
      "351\t\t\tbeta coupling 0.02 - blowup - py factor = 0.28 - px factor = 0.0 - IBS - 4.6e+01 - 6.5e+10 - errorest \n",
      "352\t\t\tbeta coupling 0.02 - blowup - py factor = 0.28 - px factor = 0.0 - IBS - 4.7e+01 - 6.5e+10 - errorest \n",
      "353\t\t\tbeta coupling 0.02 - blowup - py factor = 0.28 - px factor = 0.0 - IBS - 4.8e+01 - 6.5e+10 - errorest \n",
      "354\t\t\tbeta coupling 0.02 - blowup - py factor = 0.28 - px factor = 0.0 - IBS - 4.9e+01 - 6.5e+10 - errorest \n",
      "355\t\t\tbeta coupling 0.02 - blowup - py factor = 0.28 - px factor = 0.0 - IBS - 5.0e+01 - 6.5e+10 - errorest \n",
      "356\t\t\tbeta coupling 0.02 - blowup - py factor = 0.28 - px factor = 0.0 - IBS - 5.1e+01 - 6.5e+10 - errorest \n",
      "357\t\t\tbeta coupling 0.02 - blowup - py factor = 0.28 - px factor = 0.0 - IBS - 5.2e+01 - 6.5e+10 - errorest \n",
      "358\t\t\tbeta coupling 0.02 - blowup - py factor = 0.28 - px factor = 0.0 - IBS - 5.3e+01 - 6.5e+10 - errorest \n",
      "359\t\t\tbeta coupling 0.02 - blowup - py factor = 0.28 - px factor = 0.0 - IBS - 5.4e+01 - 6.5e+10 - errorest \n",
      "360\t\t\tbeta coupling 0.02 - blowup - py factor = 0.28 - px factor = 0.0 - IBS - 5.5e+01 - 6.5e+10 - errorest \n",
      "361\t\t\tbeta coupling 0.02 - blowup - py factor = 0.28 - px factor = 0.0 - IBS - 5.6e+01 - 6.5e+10 - errorest \n",
      "362\t\t\tbeta coupling 0.02 - blowup - py factor = 0.28 - px factor = 0.0 - IBS - 5.7e+01 - 6.5e+10 - errorest \n",
      "363\t\t\tbeta coupling 0.02 - blowup - py factor = 0.28 - px factor = 0.0 - IBS - 5.8e+01 - 6.5e+10 - errorest \n",
      "364\t\t\tbeta coupling 0.02 - blowup - py factor = 0.28 - px factor = 0.0 - IBS - 5.9e+01 - 6.5e+10 - errorest \n",
      "365\t\t\tbeta coupling 0.02 - blowup - py factor = 0.28 - px factor = 0.0 - IBS - 6.0e+01 - 6.5e+10 - errorest \n",
      "366\t\t\tbeta coupling 0.02 - blowup - py factor = 0.28 - px factor = 0.0 - IBS - 6.1e+01 - 6.5e+10 - errorest \n",
      "367\t\t\tbeta coupling 0.02 - blowup - py factor = 0.28 - px factor = 0.0 - IBS - 6.2e+01 - 6.5e+10 - errorest \n",
      "368\t\t\tbeta coupling 0.02 - blowup - py factor = 0.28 - px factor = 0.0 - IBS - 6.3e+01 - 6.5e+10 - errorest \n",
      "369\t\t\tbeta coupling 0.02 - blowup - py factor = 0.28 - px factor = 0.0 - IBS - 6.4e+01 - 6.5e+10 - errorest \n",
      "370\t\t\tbeta coupling 0.02 - blowup - py factor = 0.28 - px factor = 0.0 - IBS - 6.5e+01 - 6.5e+10 - errorest \n",
      "371\t\t\tbeta coupling 0.02 - blowup - py factor = 0.28 - px factor = 0.0 - IBS - 6.6e+01 - 6.5e+10 - errorest \n",
      "372\t\t\tbeta coupling 0.02 - blowup - py factor = 0.28 - px factor = 0.0 - IBS - 6.7e+01 - 6.5e+10 - errorest \n",
      "373\t\t\tbeta coupling 0.02 - blowup - py factor = 0.28 - px factor = 0.0 - IBS - 6.8e+01 - 6.5e+10 - errorest \n",
      "374\t\t\tbeta coupling 0.02 - blowup - py factor = 0.28 - px factor = 0.0 - IBS - 6.9e+01 - 6.5e+10 - errorest \n",
      "375\t\t\tbeta coupling 0.02 - blowup - py factor = 0.28 - px factor = 0.0 - IBS - 7.0e+01 - 6.5e+10 - errorest \n",
      "376\t\t\tbeta coupling 0.02 - blowup - py factor = 0.28 - px factor = 0.0 - IBS - 7.1e+01 - 6.5e+10 - errorest \n",
      "377\t\t\tbeta coupling 0.02 - blowup - py factor = 0.28 - px factor = 0.0 - IBS - 7.2e+01 - 6.5e+10 - errorest \n",
      "378\t\t\tbeta coupling 0.02 - blowup - py factor = 0.28 - px factor = 0.0 - IBS - 7.3e+01 - 6.5e+10 - errorest \n",
      "379\t\t\tbeta coupling 0.02 - blowup - py factor = 0.28 - px factor = 0.0 - IBS - 7.4e+01 - 6.5e+10 - errorest \n",
      "380\t\t\tbeta coupling 0.02 - blowup - py factor = 0.28 - px factor = 0.0 - IBS - 7.5e+01 - 6.5e+10 - errorest \n",
      "381\t\t\tbeta coupling 0.02 - blowup - py factor = 0.28 - px factor = 0.0 - IBS - 7.6e+01 - 6.5e+10 - errorest \n",
      "382\t\t\tbeta coupling 0.02 - blowup - py factor = 0.28 - px factor = 0.0 - IBS - 7.7e+01 - 6.5e+10 - errorest \n",
      "383\t\t\tbeta coupling 0.02 - blowup - py factor = 0.28 - px factor = 0.0 - IBS - 7.8e+01 - 6.5e+10 - errorest \n",
      "384\t\t\tbeta coupling 0.02 - blowup - py factor = 0.28 - px factor = 0.0 - IBS - 7.9e+01 - 6.5e+10 - errorest \n",
      "385\t\t\tbeta coupling 0.02 - blowup - py factor = 0.28 - px factor = 0.0 - IBS - 8.0e+01 - 6.5e+10 - errorest \n",
      "386\t\t\tbeta coupling 0.02 - blowup - py factor = 0.28 - px factor = 0.0 - IBS - 8.1e+01 - 6.5e+10 - errorest \n",
      "387\t\t\tbeta coupling 0.02 - blowup - py factor = 0.28 - px factor = 0.0 - IBS - 8.2e+01 - 6.5e+10 - errorest \n",
      "388\t\t\tbeta coupling 0.02 - blowup - py factor = 0.28 - px factor = 0.0 - IBS - 8.3e+01 - 6.5e+10 - errorest \n",
      "389\t\t\tbeta coupling 0.02 - blowup - py factor = 0.28 - px factor = 0.0 - IBS - 8.4e+01 - 6.5e+10 - errorest \n",
      "390\t\t\tbeta coupling 0.02 - blowup - py factor = 0.28 - px factor = 0.0 - IBS - 8.5e+01 - 6.5e+10 - errorest \n",
      "391\t\t\tbeta coupling 0.02 - blowup - py factor = 0.28 - px factor = 0.0 - IBS - 8.6e+01 - 6.5e+10 - errorest \n",
      "392\t\t\tbeta coupling 0.02 - blowup - py factor = 0.28 - px factor = 0.0 - IBS - 8.7e+01 - 6.5e+10 - errorest \n",
      "393\t\t\tbeta coupling 0.02 - blowup - py factor = 0.28 - px factor = 0.0 - IBS - 8.8e+01 - 6.5e+10 - errorest \n",
      "394\t\t\tbeta coupling 0.02 - blowup - py factor = 0.28 - px factor = 0.0 - IBS - 8.9e+01 - 6.5e+10 - errorest \n",
      "395\t\t\tbeta coupling 0.02 - blowup - py factor = 0.28 - px factor = 0.0 - IBS - 9.0e+01 - 6.5e+10 - errorest \n",
      "396\t\t\tbeta coupling 0.02 - blowup - py factor = 0.28 - px factor = 0.0 - IBS - 9.1e+01 - 6.5e+10 - errorest \n",
      "397\t\t\tbeta coupling 0.02 - blowup - py factor = 0.28 - px factor = 0.0 - IBS - 9.2e+01 - 6.5e+10 - errorest \n",
      "398\t\t\tbeta coupling 0.02 - blowup - py factor = 0.28 - px factor = 0.0 - IBS - 9.3e+01 - 6.5e+10 - errorest \n",
      "399\t\t\tbeta coupling 0.02 - blowup - py factor = 0.28 - px factor = 0.0 - IBS - 9.4e+01 - 6.5e+10 - errorest \n",
      "400\t\t\tbeta coupling 0.02 - blowup - py factor = 0.28 - px factor = 0.0 - IBS - 9.5e+01 - 6.5e+10 - errorest \n",
      "401\t\t\tbeta coupling 0.02 - blowup - py factor = 0.28 - px factor = 0.0 - IBS - 9.6e+01 - 6.5e+10 - errorest \n",
      "402\t\t\tbeta coupling 0.02 - blowup - py factor = 0.28 - px factor = 0.0 - IBS - 9.7e+01 - 6.5e+10 - errorest \n",
      "403\t\t\tbeta coupling 0.02 - blowup - py factor = 0.28 - px factor = 0.0 - IBS - 9.8e+01 - 6.5e+10 - errorest \n",
      "404\t\t\tbeta coupling 0.02 - blowup - py factor = 0.28 - px factor = 0.0 - IBS - 9.9e+01 - 6.5e+10 - errorest \n",
      "405\t\t\tbeta coupling 0.02 - blowup - py factor = 0.28 - px factor = 0.0 - IBS - 1.0e+02 - 6.5e+10 - errorest \n",
      "406\t\t\tbeta coupling 0.02 - blowup - py factor = 0.28 - px factor = 0.0 - IBS - 1.0e+02 - 6.5e+10 - errorest \n",
      "407\t\t\tbeta coupling 0.02 - blowup - py factor = 0.28 - px factor = 0.0 - IBS - 1.0e+02 - 6.5e+10 - errorest \n",
      "408\t\t\tbeta coupling 0.02 - blowup - py factor = 0.28 - px factor = 0.0 - IBS - 1.0e+02 - 6.5e+10 - errorest \n",
      "409\t\t\tbeta coupling 0.02 - blowup - py factor = 0.28 - px factor = 0.0 - IBS - 1.0e+02 - 6.5e+10 - errorest \n",
      "410\t\t\tbeta coupling 0.02 - blowup - py factor = 0.28 - px factor = 0.0 - IBS - 1.0e+02 - 6.5e+10 - errorest \n",
      "411\t\t\tbeta coupling 0.02 - blowup - py factor = 0.28 - px factor = 0.0 - IBS - 1.1e+02 - 6.5e+10 - errorest \n",
      "412\t\t\tbeta coupling 0.02 - blowup - py factor = 0.28 - px factor = 0.0 - IBS - 1.1e+02 - 6.5e+10 - errorest \n",
      "413\t\t\tbeta coupling 0.02 - blowup - py factor = 0.28 - px factor = 0.0 - IBS - 1.1e+02 - 6.5e+10 - errorest \n",
      "414\t\t\tbeta coupling 0.02 - blowup - py factor = 0.28 - px factor = 0.0 - IBS - 1.1e+02 - 6.5e+10 - errorest \n",
      "415\t\t\tbeta coupling 0.02 - blowup - py factor = 0.28 - px factor = 0.0 - IBS - 1.1e+02 - 6.5e+10 - errorest \n",
      "416\t\t\tbeta coupling 0.02 - blowup - py factor = 0.28 - px factor = 0.0 - IBS - 1.1e+02 - 6.5e+10 - errorest \n"
     ]
    }
   ],
   "source": [
    "fp = FloatProgress(min=304,max=112+304)  \n",
    "display(fp)\n",
    "\n",
    "for npart in [npartscan[-1]]:\n",
    "    \n",
    "    # update the bunchfile\n",
    "    infile = 'STE_BunchFile1.in'\n",
    "    finfile = pd.read_csv(infile, delim_whitespace=True)\n",
    "    \n",
    "    finfile.loc[0,'RealNumberParticles'] = npart\n",
    "    \n",
    "    finfile.to_csv(infile, sep='\\t',index=False)\n",
    "    \n",
    "    \n",
    "    for v in range(112):\n",
    "        # update setupfile\n",
    "        setupfile = 'STE.in'\n",
    "        fsetupfile = pd.read_csv(setupfile, delim_whitespace=True,names=['key','value','comment'])\n",
    "        fsetupfile = fsetupfile.set_index('key')\n",
    "        \n",
    "        \n",
    "        fsetupfile.loc['seed','value'] = 12459 + v\n",
    "        fsetupfile.loc['IBSupdate','value'] = 1\n",
    "        fsetupfile.loc['RFVoltage1','value'] = 2e6\n",
    "        fsetupfile.loc['blowupy','value'] = blowupscan[-1]\n",
    "\n",
    "        # change ibs method\n",
    "        fsetupfile.loc['methodIBS','value'] = 1\n",
    "\n",
    "        fsetupfile.to_csv('test'+setupfile,sep='\\t',header=None)\n",
    "\n",
    "        # run simulation\n",
    "        simtest = steSim('testSTE.in')\n",
    "        simtest.runsim()\n",
    "        simtest.load_distributions()\n",
    "        simtest.load_evolution_tables()\n",
    "\n",
    "        simtest.addsimresultsdb()\n",
    "            \n",
    "        fp.value+=1\n",
    "        ibs = 1\n",
    "        if ibs:\n",
    "            print('{}\\t\\t\\tbeta coupling 0.02 - blowup - py factor = 0.28 - px factor = 0.0 - IBS - {:.1e} - {:.1e} - errorest '.format(int(fp.value),v,npart))\n",
    "        else:\n",
    "            print('{}\\t\\t\\tbeta coupling 0.02 - blowup - py factor = 0.28 - px factor = 0.0 - {:.1e} - {:.1e} '.format(int(fp.value),v,npart))"
   ]
  },
  {
   "cell_type": "markdown",
   "metadata": {},
   "source": [
    "# Error analysis"
   ]
  },
  {
   "cell_type": "code",
   "execution_count": 1182,
   "metadata": {
    "ExecuteTime": {
     "end_time": "2018-02-22T15:04:35.700712Z",
     "start_time": "2018-02-22T15:04:33.384044Z"
    },
    "collapsed": true
   },
   "outputs": [],
   "source": [
    "nrecords = 112\n",
    "dbintframe = pd.read_sql('SELECT * FROM intensity  WHERE date >= (date(\"now\", \"-1 day\"))',simtest.engine)\n",
    "dbintframe = dbintframe[dbintframe['simid']> dbintframe['simid'].max()-nrecords]\n",
    "\n",
    "dbintdc={k: g for k,g in dbintframe.groupby(\"simid\")}\n",
    "\n",
    "dbemitframe = pd.read_sql('SELECT * FROM emit  WHERE date >= (date(\"now\", \"-1 day\"))',simtest.engine)\n",
    "dbemitframe = dbemitframe[dbemitframe['simid']> dbemitframe['simid'].max()-nrecords]\n",
    "\n",
    "dbemitdc={k: g for k,g in dbemitframe.groupby(\"simid\")}\n",
    "\n",
    "dbequiframe = pd.read_sql('SELECT * FROM equi  WHERE date >= (date(\"now\", \"-1 day\"))',simtest.engine)\n",
    "dbequiframe = dbequiframe[dbequiframe['simid']> dbequiframe['simid'].max()-nrecords]\n",
    "dbequidc={k: g for k,g in dbequiframe.groupby(\"simid\")}"
   ]
  },
  {
   "cell_type": "code",
   "execution_count": 1181,
   "metadata": {
    "ExecuteTime": {
     "end_time": "2018-02-22T15:04:08.286222Z",
     "start_time": "2018-02-22T15:04:08.274260Z"
    }
   },
   "outputs": [
    {
     "data": {
      "text/plain": [
       "dict_keys([305, 306, 307, 308, 309, 310, 311, 312, 313, 314, 315, 316, 317, 318, 319, 320, 321, 322, 323, 324, 325, 326, 327, 328, 329, 330, 331, 332, 333, 334, 335, 336, 337, 338, 339, 340, 341, 342, 343, 344, 345, 346, 347, 348, 349, 350, 351, 352, 353, 354, 355, 356, 357, 358, 359, 360, 361, 362, 363, 364, 365, 366, 367, 368, 369, 370, 371, 372, 373, 374, 375, 376, 377, 378, 379, 380, 381, 382, 383, 384, 385, 386, 387, 388, 389, 390, 391, 392, 393, 394, 395, 396, 397, 398, 399, 400, 401, 402, 403, 404, 405, 406, 407, 408, 409, 410, 411, 412, 413, 414, 415, 416])"
      ]
     },
     "execution_count": 1181,
     "metadata": {},
     "output_type": "execute_result"
    }
   ],
   "source": [
    "dbemitdc.keys()"
   ]
  },
  {
   "cell_type": "code",
   "execution_count": 1183,
   "metadata": {
    "ExecuteTime": {
     "end_time": "2018-02-22T15:05:06.527228Z",
     "start_time": "2018-02-22T15:05:06.418328Z"
    },
    "collapsed": true
   },
   "outputs": [],
   "source": [
    "ssl = slice(0,112,1)\n",
    "fnpart = pd.DataFrame(pd.concat(dbintdc.values()).groupby('simid')['NReal'].max()[ssl])\n",
    "fequi = pd.concat(dbequidc.values())[ssl].set_index('simid')\n",
    "fmerge1 = fequi.merge(fnpart,left_index=True,right_index=True)\n",
    "fmerge1['sigx'] = np.sqrt(fmerge1['equix']*betx)*1e6\n",
    "fmerge1['sigy'] = np.sqrt(fmerge1['equiy']*bety)*1e6\n",
    "fmerge1['sigs'] = fmerge1.equis*const.c\n",
    "fmerge1 = fmerge1.sort_values(by=['NReal','id'])"
   ]
  },
  {
   "cell_type": "code",
   "execution_count": 1185,
   "metadata": {
    "ExecuteTime": {
     "end_time": "2018-02-22T15:05:22.530452Z",
     "start_time": "2018-02-22T15:05:22.495556Z"
    }
   },
   "outputs": [
    {
     "data": {
      "text/html": [
       "<div>\n",
       "<style>\n",
       "    .dataframe thead tr:only-child th {\n",
       "        text-align: right;\n",
       "    }\n",
       "\n",
       "    .dataframe thead th {\n",
       "        text-align: left;\n",
       "    }\n",
       "\n",
       "    .dataframe tbody tr th {\n",
       "        vertical-align: top;\n",
       "    }\n",
       "</style>\n",
       "<table border=\"1\" class=\"dataframe\">\n",
       "  <thead>\n",
       "    <tr style=\"text-align: right;\">\n",
       "      <th></th>\n",
       "      <th>id</th>\n",
       "      <th>equix</th>\n",
       "      <th>equiy</th>\n",
       "      <th>equis</th>\n",
       "      <th>NReal</th>\n",
       "      <th>sigx</th>\n",
       "      <th>sigy</th>\n",
       "      <th>sigs</th>\n",
       "    </tr>\n",
       "  </thead>\n",
       "  <tbody>\n",
       "    <tr>\n",
       "      <th>count</th>\n",
       "      <td>112.000000</td>\n",
       "      <td>1.120000e+02</td>\n",
       "      <td>1.120000e+02</td>\n",
       "      <td>1.120000e+02</td>\n",
       "      <td>1.120000e+02</td>\n",
       "      <td>112.000000</td>\n",
       "      <td>112.000000</td>\n",
       "      <td>112.000000</td>\n",
       "    </tr>\n",
       "    <tr>\n",
       "      <th>mean</th>\n",
       "      <td>313.500000</td>\n",
       "      <td>1.051953e-08</td>\n",
       "      <td>7.858759e-11</td>\n",
       "      <td>9.920230e-12</td>\n",
       "      <td>6.500000e+10</td>\n",
       "      <td>67.924970</td>\n",
       "      <td>41.525154</td>\n",
       "      <td>0.002974</td>\n",
       "    </tr>\n",
       "    <tr>\n",
       "      <th>std</th>\n",
       "      <td>32.475632</td>\n",
       "      <td>5.482753e-11</td>\n",
       "      <td>7.964947e-13</td>\n",
       "      <td>1.127528e-13</td>\n",
       "      <td>0.000000e+00</td>\n",
       "      <td>0.176948</td>\n",
       "      <td>0.210556</td>\n",
       "      <td>0.000034</td>\n",
       "    </tr>\n",
       "    <tr>\n",
       "      <th>min</th>\n",
       "      <td>258.000000</td>\n",
       "      <td>1.042756e-08</td>\n",
       "      <td>7.677705e-11</td>\n",
       "      <td>9.706670e-12</td>\n",
       "      <td>6.500000e+10</td>\n",
       "      <td>67.627631</td>\n",
       "      <td>41.044550</td>\n",
       "      <td>0.002910</td>\n",
       "    </tr>\n",
       "    <tr>\n",
       "      <th>25%</th>\n",
       "      <td>285.750000</td>\n",
       "      <td>1.047803e-08</td>\n",
       "      <td>7.815388e-11</td>\n",
       "      <td>9.823470e-12</td>\n",
       "      <td>6.500000e+10</td>\n",
       "      <td>67.791095</td>\n",
       "      <td>41.410936</td>\n",
       "      <td>0.002945</td>\n",
       "    </tr>\n",
       "    <tr>\n",
       "      <th>50%</th>\n",
       "      <td>313.500000</td>\n",
       "      <td>1.049846e-08</td>\n",
       "      <td>7.865383e-11</td>\n",
       "      <td>9.968085e-12</td>\n",
       "      <td>6.500000e+10</td>\n",
       "      <td>67.857152</td>\n",
       "      <td>41.543180</td>\n",
       "      <td>0.002988</td>\n",
       "    </tr>\n",
       "    <tr>\n",
       "      <th>75%</th>\n",
       "      <td>341.250000</td>\n",
       "      <td>1.057517e-08</td>\n",
       "      <td>7.918358e-11</td>\n",
       "      <td>1.001323e-11</td>\n",
       "      <td>6.500000e+10</td>\n",
       "      <td>68.104618</td>\n",
       "      <td>41.682846</td>\n",
       "      <td>0.003002</td>\n",
       "    </tr>\n",
       "    <tr>\n",
       "      <th>max</th>\n",
       "      <td>369.000000</td>\n",
       "      <td>1.063127e-08</td>\n",
       "      <td>8.020075e-11</td>\n",
       "      <td>1.005460e-11</td>\n",
       "      <td>6.500000e+10</td>\n",
       "      <td>68.285014</td>\n",
       "      <td>41.949714</td>\n",
       "      <td>0.003014</td>\n",
       "    </tr>\n",
       "  </tbody>\n",
       "</table>\n",
       "</div>"
      ],
      "text/plain": [
       "               id         equix         equiy         equis         NReal  \\\n",
       "count  112.000000  1.120000e+02  1.120000e+02  1.120000e+02  1.120000e+02   \n",
       "mean   313.500000  1.051953e-08  7.858759e-11  9.920230e-12  6.500000e+10   \n",
       "std     32.475632  5.482753e-11  7.964947e-13  1.127528e-13  0.000000e+00   \n",
       "min    258.000000  1.042756e-08  7.677705e-11  9.706670e-12  6.500000e+10   \n",
       "25%    285.750000  1.047803e-08  7.815388e-11  9.823470e-12  6.500000e+10   \n",
       "50%    313.500000  1.049846e-08  7.865383e-11  9.968085e-12  6.500000e+10   \n",
       "75%    341.250000  1.057517e-08  7.918358e-11  1.001323e-11  6.500000e+10   \n",
       "max    369.000000  1.063127e-08  8.020075e-11  1.005460e-11  6.500000e+10   \n",
       "\n",
       "             sigx        sigy        sigs  \n",
       "count  112.000000  112.000000  112.000000  \n",
       "mean    67.924970   41.525154    0.002974  \n",
       "std      0.176948    0.210556    0.000034  \n",
       "min     67.627631   41.044550    0.002910  \n",
       "25%     67.791095   41.410936    0.002945  \n",
       "50%     67.857152   41.543180    0.002988  \n",
       "75%     68.104618   41.682846    0.003002  \n",
       "max     68.285014   41.949714    0.003014  "
      ]
     },
     "execution_count": 1185,
     "metadata": {},
     "output_type": "execute_result"
    }
   ],
   "source": [
    "fmerge1.describe()"
   ]
  },
  {
   "cell_type": "markdown",
   "metadata": {},
   "source": [
    "# Extracting data database and plotting"
   ]
  },
  {
   "cell_type": "code",
   "execution_count": 455,
   "metadata": {
    "ExecuteTime": {
     "end_time": "2018-02-21T12:01:37.320157Z",
     "start_time": "2018-02-21T12:01:37.041912Z"
    }
   },
   "outputs": [
    {
     "name": "stdout",
     "output_type": "stream",
     "text": [
      "No bunchFile2 provided - returning empty frame \n"
     ]
    }
   ],
   "source": [
    "simtest = steSim('STE.in')"
   ]
  },
  {
   "cell_type": "code",
   "execution_count": 1203,
   "metadata": {
    "ExecuteTime": {
     "end_time": "2018-02-22T15:13:33.529647Z",
     "start_time": "2018-02-22T15:13:31.298942Z"
    }
   },
   "outputs": [],
   "source": [
    "nrecordsmin = 112*4+56\n",
    "nrecordsmax = 112*2+56\n",
    "dbintframe = pd.read_sql('SELECT * FROM intensity  WHERE date >= (date(\"now\", \"-1 day\"))',simtest.engine)\n",
    "dbintframe = dbintframe[(dbintframe['simid']> dbintframe['simid'].max()-nrecordsmin) & \n",
    "                       (dbintframe['simid'] <= dbintframe['simid'].max()-nrecordsmax)]\n",
    "\n",
    "dbintdc={k: g for k,g in dbintframe.groupby(\"simid\")}\n",
    "\n",
    "dbemitframe = pd.read_sql('SELECT * FROM emit  WHERE date >= (date(\"now\", \"-1 day\"))',simtest.engine)\n",
    "dbemitframe = dbemitframe[(dbemitframe['simid']> dbemitframe['simid'].max()-nrecordsmin) & \n",
    "                         (dbemitframe['simid']<= dbemitframe['simid'].max()-nrecordsmax)]\n",
    "\n",
    "dbemitdc={k: g for k,g in dbemitframe.groupby(\"simid\")}\n",
    "\n",
    "dbequiframe = pd.read_sql('SELECT * FROM equi  WHERE date >= (date(\"now\", \"-1 day\"))',simtest.engine)\n",
    "dbequiframe = dbequiframe[(dbequiframe['simid']> dbequiframe['simid'].max()-nrecordsmin) &\n",
    "                         (dbequiframe['simid']<= dbequiframe['simid'].max()-nrecordsmax)]\n",
    "dbequidc={k: g for k,g in dbequiframe.groupby(\"simid\")}"
   ]
  },
  {
   "cell_type": "code",
   "execution_count": 1227,
   "metadata": {
    "ExecuteTime": {
     "end_time": "2018-02-22T16:40:18.373787Z",
     "start_time": "2018-02-22T16:40:18.354608Z"
    }
   },
   "outputs": [
    {
     "data": {
      "text/plain": [
       "dict_keys([81, 82, 83, 84, 85, 86, 87, 88, 89, 90, 91, 92, 93, 94, 95, 96, 97, 98, 99, 100, 101, 102, 103, 104, 105, 106, 107, 108, 109, 110, 111, 112, 113, 114, 115, 116, 117, 118, 119, 120, 121, 122, 123, 124, 125, 126, 127, 128, 129, 130, 131, 132, 133, 134, 135, 136, 137, 138, 139, 140, 141, 142, 143, 144, 145, 146, 147, 148, 149, 150, 151, 152, 153, 154, 155, 156, 157, 158, 159, 160, 161, 162, 163, 164, 165, 166, 167, 168, 169, 170, 171, 172, 173, 174, 175, 176, 177, 178, 179, 180, 181, 182, 183, 184, 185, 186, 187, 188, 189, 190, 191, 192, 193, 194, 195, 196, 197, 198, 199, 200, 201, 202, 203, 204, 205, 206, 207, 208, 209, 210, 211, 212, 213, 214, 215, 216, 217, 218, 219, 220, 221, 222, 223, 224, 225, 226, 227, 228, 229, 230, 231, 232, 233, 234, 235, 236, 237, 238, 239, 240, 241, 242, 243, 244, 245, 246, 247, 248, 249, 250, 251, 252, 253, 254, 255, 256, 257, 258, 259, 260, 261, 262, 263, 264, 265, 266, 267, 268, 269, 270, 271, 272, 273, 274, 275, 276, 277, 278, 279, 280, 281, 282, 283, 284, 285, 286, 287, 288, 289, 290, 291, 292, 293, 294, 295, 296, 297, 298, 299, 300, 301, 302, 303, 304])"
      ]
     },
     "execution_count": 1227,
     "metadata": {},
     "output_type": "execute_result"
    }
   ],
   "source": [
    "dbemitdc.keys()"
   ]
  },
  {
   "cell_type": "code",
   "execution_count": 1226,
   "metadata": {
    "ExecuteTime": {
     "end_time": "2018-02-22T16:40:11.015360Z",
     "start_time": "2018-02-22T16:40:08.594107Z"
    },
    "collapsed": true
   },
   "outputs": [],
   "source": [
    "nrecords = 56\n",
    "dbintframepl = pd.read_sql('SELECT * FROM intensity  WHERE date >= (date(\"now\", \"-1 day\"))',simtest.engine)\n",
    "dbintframepl = dbintframepl[dbintframepl['simid']> dbintframepl['simid'].max()-nrecords]\n",
    "\n",
    "dbintdcpl={k: g for k,g in dbintframepl.groupby(\"simid\")}\n",
    "\n",
    "dbemitframepl = pd.read_sql('SELECT * FROM emit  WHERE date >= (date(\"now\", \"-1 day\"))',simtest.engine)\n",
    "dbemitframepl = dbemitframepl[dbemitframepl['simid']> dbemitframepl['simid'].max()-nrecords]\n",
    "\n",
    "dbemitdcpl={k: g for k,g in dbemitframepl.groupby(\"simid\")}\n",
    "\n",
    "dbequiframepl = pd.read_sql('SELECT * FROM equi  WHERE date >= (date(\"now\", \"-1 day\"))',simtest.engine)\n",
    "dbequiframepl = dbequiframepl[dbequiframepl['simid']> dbequiframepl['simid'].max()-nrecords]\n",
    "dbequidcpl={k: g for k,g in dbequiframepl.groupby(\"simid\")}"
   ]
  },
  {
   "cell_type": "code",
   "execution_count": 1228,
   "metadata": {
    "ExecuteTime": {
     "end_time": "2018-02-22T16:40:21.949869Z",
     "start_time": "2018-02-22T16:40:21.938300Z"
    }
   },
   "outputs": [
    {
     "data": {
      "text/plain": [
       "dict_keys([417, 418, 419, 420, 421, 422, 423, 424, 425, 426, 427, 428, 429, 430, 431, 432, 433, 434, 435, 436, 437, 438, 439, 440, 441, 442, 443, 444, 445, 446, 447, 448, 449, 450, 451, 452, 453, 454, 455, 456, 457, 458, 459, 460, 461, 462, 463, 464, 465, 466, 467, 468, 469, 470, 471, 472])"
      ]
     },
     "execution_count": 1228,
     "metadata": {},
     "output_type": "execute_result"
    }
   ],
   "source": [
    "dbemitdcpl.keys()"
   ]
  },
  {
   "cell_type": "code",
   "execution_count": 1252,
   "metadata": {
    "ExecuteTime": {
     "end_time": "2018-02-22T18:13:58.340425Z",
     "start_time": "2018-02-22T18:13:55.381092Z"
    },
    "collapsed": true
   },
   "outputs": [],
   "source": [
    "nrecords = 56\n",
    "dbintframepm = pd.read_sql('SELECT * FROM intensity  WHERE date >= (date(\"now\", \"-1 day\"))',simtest.engine)\n",
    "dbintframepm = dbintframepm[dbintframepm['simid']> dbintframepm['simid'].max()-nrecords]\n",
    "\n",
    "dbintdcpm={k: g for k,g in dbintframepm.groupby(\"simid\")}\n",
    "\n",
    "dbemitframepm = pd.read_sql('SELECT * FROM emit  WHERE date >= (date(\"now\", \"-1 day\"))',simtest.engine)\n",
    "dbemitframepm = dbemitframepm[dbemitframepm['simid']> dbemitframepm['simid'].max()-nrecords]\n",
    "\n",
    "dbemitdcpm={k: g for k,g in dbemitframepm.groupby(\"simid\")}\n",
    "\n",
    "dbequiframepm = pd.read_sql('SELECT * FROM equi  WHERE date >= (date(\"now\", \"-1 day\"))',simtest.engine)\n",
    "dbequiframepm = dbequiframepm[dbequiframepm['simid']> dbequiframepm['simid'].max()-nrecords]\n",
    "dbequidcpm={k: g for k,g in dbequiframepm.groupby(\"simid\")}"
   ]
  },
  {
   "cell_type": "code",
   "execution_count": 1262,
   "metadata": {
    "ExecuteTime": {
     "end_time": "2018-02-22T18:57:59.584796Z",
     "start_time": "2018-02-22T18:57:56.454126Z"
    },
    "collapsed": true
   },
   "outputs": [],
   "source": [
    "nrecords = 56\n",
    "dbintframesm = pd.read_sql('SELECT * FROM intensity  WHERE date >= (date(\"now\", \"-1 day\"))',simtest.engine)\n",
    "dbintframesm = dbintframesm[dbintframesm['simid']> dbintframesm['simid'].max()-nrecords]\n",
    "\n",
    "dbintdcsm={k: g for k,g in dbintframesm.groupby(\"simid\")}\n",
    "\n",
    "dbemitframesm = pd.read_sql('SELECT * FROM emit  WHERE date >= (date(\"now\", \"-1 day\"))',simtest.engine)\n",
    "dbemitframesm = dbemitframesm[dbemitframesm['simid']> dbemitframesm['simid'].max()-nrecords]\n",
    "\n",
    "dbemitdcsm={k: g for k,g in dbemitframesm.groupby(\"simid\")}\n",
    "\n",
    "dbequiframesm = pd.read_sql('SELECT * FROM equi  WHERE date >= (date(\"now\", \"-1 day\"))',simtest.engine)\n",
    "dbequiframesm = dbequiframesm[dbequiframesm['simid']> dbequiframesm['simid'].max()-nrecords]\n",
    "dbequidcsm={k: g for k,g in dbequiframesm.groupby(\"simid\")}"
   ]
  },
  {
   "cell_type": "code",
   "execution_count": 1263,
   "metadata": {
    "ExecuteTime": {
     "end_time": "2018-02-22T18:58:02.372552Z",
     "start_time": "2018-02-22T18:58:02.357633Z"
    }
   },
   "outputs": [
    {
     "data": {
      "text/plain": [
       "dict_keys([529, 530, 531, 532, 533, 534, 535, 536, 537, 538, 539, 540, 541, 542, 543, 544, 545, 546, 547, 548, 549, 550, 551, 552, 553, 554, 555, 556, 557, 558, 559, 560, 561, 562, 563, 564, 565, 566, 567, 568, 569, 570, 571, 572, 573, 574, 575, 576, 577, 578, 579, 580, 581, 582, 583, 584])"
      ]
     },
     "execution_count": 1263,
     "metadata": {},
     "output_type": "execute_result"
    }
   ],
   "source": [
    "dbemitdcsm.keys()"
   ]
  },
  {
   "cell_type": "code",
   "execution_count": 1272,
   "metadata": {
    "ExecuteTime": {
     "end_time": "2018-02-23T08:33:52.550145Z",
     "start_time": "2018-02-23T08:33:48.932803Z"
    },
    "collapsed": true
   },
   "outputs": [],
   "source": [
    "nrecords = 56\n",
    "dbintframengnew = pd.read_sql('SELECT * FROM intensity  WHERE date >= (date(\"now\", \"-2 day\"))',simtest.engine)\n",
    "dbintframengnew = dbintframengnew[dbintframengnew['simid']> dbintframengnew['simid'].max()-nrecords]\n",
    "\n",
    "dbintdcngnew={k: g for k,g in dbintframengnew.groupby(\"simid\")}\n",
    "\n",
    "dbemitframengnew = pd.read_sql('SELECT * FROM emit  WHERE date >= (date(\"now\", \"-2 day\"))',simtest.engine)\n",
    "dbemitframengnew = dbemitframengnew[dbemitframengnew['simid']> dbemitframengnew['simid'].max()-nrecords]\n",
    "\n",
    "dbemitdcngnew={k: g for k,g in dbemitframengnew.groupby(\"simid\")}\n",
    "\n",
    "dbequiframengnew = pd.read_sql('SELECT * FROM equi  WHERE date >= (date(\"now\", \"-2 day\"))',simtest.engine)\n",
    "dbequiframengnew = dbequiframengnew[dbequiframengnew['simid']> dbequiframengnew['simid'].max()-nrecords]\n",
    "dbequidcngnew={k: g for k,g in dbequiframengnew.groupby(\"simid\")}"
   ]
  },
  {
   "cell_type": "code",
   "execution_count": 1273,
   "metadata": {
    "ExecuteTime": {
     "end_time": "2018-02-23T08:34:01.133635Z",
     "start_time": "2018-02-23T08:34:01.121771Z"
    }
   },
   "outputs": [
    {
     "data": {
      "text/plain": [
       "dict_keys([585, 586, 587, 588, 589, 590, 591, 592, 593, 594, 595, 596, 597, 598, 599, 600, 601, 602, 603, 604, 605, 606, 607, 608, 609, 610, 611, 612, 613, 614, 615, 616, 617, 618, 619, 620, 621, 622, 623, 624, 625, 626, 627, 628, 629, 630, 631, 632, 633, 634, 635, 636, 637, 638, 639, 640])"
      ]
     },
     "execution_count": 1273,
     "metadata": {},
     "output_type": "execute_result"
    }
   ],
   "source": [
    "dbemitdcngnew.keys()"
   ]
  },
  {
   "cell_type": "code",
   "execution_count": 1235,
   "metadata": {
    "ExecuteTime": {
     "end_time": "2018-02-22T16:46:40.920058Z",
     "start_time": "2018-02-22T16:46:40.788663Z"
    },
    "collapsed": true
   },
   "outputs": [],
   "source": [
    "ssl = slice(3,2*112,4)\n",
    "fnpart = pd.DataFrame(pd.concat(dbintdc.values()).groupby('simid')['NReal'].max()[ssl])\n",
    "fequi = pd.concat(dbequidc.values())[ssl].set_index('simid')\n",
    "fmerge1 = fequi.merge(fnpart,left_index=True,right_index=True)\n",
    "fmerge1['sigx'] = np.sqrt(fmerge1['equix']*betx)*1e6\n",
    "fmerge1['sigy'] = np.sqrt(fmerge1['equiy']*bety)*1e6\n",
    "fmerge1['sigs'] = fmerge1.equis*const.c\n",
    "fmerge1 = fmerge1.sort_values(by=['NReal','id'])"
   ]
  },
  {
   "cell_type": "code",
   "execution_count": 1240,
   "metadata": {
    "ExecuteTime": {
     "end_time": "2018-02-22T16:50:01.490356Z",
     "start_time": "2018-02-22T16:50:01.427592Z"
    },
    "collapsed": true
   },
   "outputs": [],
   "source": [
    "ssl = slice(3,56,4)\n",
    "fnpartpl = pd.DataFrame(pd.concat(dbintdcpl.values()).groupby('simid')['NReal'].max()[ssl])\n",
    "fequipl = pd.concat(dbequidcpl.values())[ssl].set_index('simid')\n",
    "fmerge2 = fequipl.merge(fnpartpl,left_index=True,right_index=True)\n",
    "fmerge2['sigx'] = np.sqrt(fmerge2['equix']*betx)*1e6\n",
    "fmerge2['sigy'] = np.sqrt(fmerge2['equiy']*bety)*1e6\n",
    "fmerge2['sigs'] = fmerge2.equis*const.c\n",
    "fmerge2 = fmerge2.sort_values(by=['NReal','id'])"
   ]
  },
  {
   "cell_type": "code",
   "execution_count": 1254,
   "metadata": {
    "ExecuteTime": {
     "end_time": "2018-02-22T18:14:54.033013Z",
     "start_time": "2018-02-22T18:14:53.972451Z"
    },
    "collapsed": true
   },
   "outputs": [],
   "source": [
    "ssl = slice(3,56,4)\n",
    "fnpartpm = pd.DataFrame(pd.concat(dbintdcpm.values()).groupby('simid')['NReal'].max()[ssl])\n",
    "fequipm = pd.concat(dbequidcpm.values())[ssl].set_index('simid')\n",
    "fmerge3 = fequipm.merge(fnpartpm,left_index=True,right_index=True)\n",
    "fmerge3['sigx'] = np.sqrt(fmerge3['equix']*betx)*1e6\n",
    "fmerge3['sigy'] = np.sqrt(fmerge3['equiy']*bety)*1e6\n",
    "fmerge3['sigs'] = fmerge3.equis*const.c\n",
    "fmerge3 = fmerge3.sort_values(by=['NReal','id'])"
   ]
  },
  {
   "cell_type": "code",
   "execution_count": 1265,
   "metadata": {
    "ExecuteTime": {
     "end_time": "2018-02-22T18:59:25.930510Z",
     "start_time": "2018-02-22T18:59:25.872595Z"
    },
    "collapsed": true
   },
   "outputs": [],
   "source": [
    "ssl = slice(3,56,4)\n",
    "fnpartsm = pd.DataFrame(pd.concat(dbintdcsm.values()).groupby('simid')['NReal'].max()[ssl])\n",
    "fequism = pd.concat(dbequidcsm.values())[ssl].set_index('simid')\n",
    "fmerge4 = fequism.merge(fnpartsm,left_index=True,right_index=True)\n",
    "fmerge4['sigx'] = np.sqrt(fmerge4['equix']*betx)*1e6\n",
    "fmerge4['sigy'] = np.sqrt(fmerge4['equiy']*bety)*1e6\n",
    "fmerge4['sigs'] = fmerge4.equis*const.c\n",
    "fmerge4 = fmerge4.sort_values(by=['NReal','id'])"
   ]
  },
  {
   "cell_type": "code",
   "execution_count": 1274,
   "metadata": {
    "ExecuteTime": {
     "end_time": "2018-02-23T08:34:30.071619Z",
     "start_time": "2018-02-23T08:34:30.012552Z"
    },
    "collapsed": true
   },
   "outputs": [],
   "source": [
    "ssl = slice(3,56,4)\n",
    "fnpartngnew = pd.DataFrame(pd.concat(dbintdcngnew.values()).groupby('simid')['NReal'].max()[ssl])\n",
    "fequingnew = pd.concat(dbequidcngnew.values())[ssl].set_index('simid')\n",
    "fmerge5 = fequingnew.merge(fnpartngnew,left_index=True,right_index=True)\n",
    "fmerge5['sigx'] = np.sqrt(fmerge5['equix']*betx)*1e6\n",
    "fmerge5['sigy'] = np.sqrt(fmerge5['equiy']*bety)*1e6\n",
    "fmerge5['sigs'] = fmerge5.equis*const.c\n",
    "fmerge5 = fmerge5.sort_values(by=['NReal','id'])"
   ]
  },
  {
   "cell_type": "code",
   "execution_count": 1275,
   "metadata": {
    "ExecuteTime": {
     "end_time": "2018-02-23T08:34:35.306806Z",
     "start_time": "2018-02-23T08:34:35.241846Z"
    }
   },
   "outputs": [
    {
     "data": {
      "text/html": [
       "<div>\n",
       "<style>\n",
       "    .dataframe thead tr:only-child th {\n",
       "        text-align: right;\n",
       "    }\n",
       "\n",
       "    .dataframe thead th {\n",
       "        text-align: left;\n",
       "    }\n",
       "\n",
       "    .dataframe tbody tr th {\n",
       "        vertical-align: top;\n",
       "    }\n",
       "</style>\n",
       "<table border=\"1\" class=\"dataframe\">\n",
       "  <thead>\n",
       "    <tr style=\"text-align: right;\">\n",
       "      <th></th>\n",
       "      <th>id</th>\n",
       "      <th>date</th>\n",
       "      <th>equix</th>\n",
       "      <th>equiy</th>\n",
       "      <th>equis</th>\n",
       "      <th>NReal</th>\n",
       "      <th>sigx</th>\n",
       "      <th>sigy</th>\n",
       "      <th>sigs</th>\n",
       "    </tr>\n",
       "    <tr>\n",
       "      <th>simid</th>\n",
       "      <th></th>\n",
       "      <th></th>\n",
       "      <th></th>\n",
       "      <th></th>\n",
       "      <th></th>\n",
       "      <th></th>\n",
       "      <th></th>\n",
       "      <th></th>\n",
       "      <th></th>\n",
       "    </tr>\n",
       "  </thead>\n",
       "  <tbody>\n",
       "    <tr>\n",
       "      <th>92</th>\n",
       "      <td>45</td>\n",
       "      <td>2018-02-22 10:23:46.337661</td>\n",
       "      <td>8.665504e-09</td>\n",
       "      <td>4.756219e-11</td>\n",
       "      <td>8.838650e-12</td>\n",
       "      <td>1.000000e+09</td>\n",
       "      <td>61.649526</td>\n",
       "      <td>32.305072</td>\n",
       "      <td>0.002650</td>\n",
       "    </tr>\n",
       "    <tr>\n",
       "      <th>96</th>\n",
       "      <td>49</td>\n",
       "      <td>2018-02-22 10:25:32.193932</td>\n",
       "      <td>8.672675e-09</td>\n",
       "      <td>4.761100e-11</td>\n",
       "      <td>8.908490e-12</td>\n",
       "      <td>1.000000e+09</td>\n",
       "      <td>61.675029</td>\n",
       "      <td>32.321644</td>\n",
       "      <td>0.002671</td>\n",
       "    </tr>\n",
       "    <tr>\n",
       "      <th>196</th>\n",
       "      <td>149</td>\n",
       "      <td>2018-02-22 11:07:34.474315</td>\n",
       "      <td>8.665504e-09</td>\n",
       "      <td>4.756219e-11</td>\n",
       "      <td>8.838650e-12</td>\n",
       "      <td>1.000000e+09</td>\n",
       "      <td>61.649526</td>\n",
       "      <td>32.305072</td>\n",
       "      <td>0.002650</td>\n",
       "    </tr>\n",
       "    <tr>\n",
       "      <th>200</th>\n",
       "      <td>153</td>\n",
       "      <td>2018-02-22 11:09:23.277502</td>\n",
       "      <td>8.748418e-09</td>\n",
       "      <td>4.762523e-11</td>\n",
       "      <td>8.907020e-12</td>\n",
       "      <td>1.000000e+09</td>\n",
       "      <td>61.943764</td>\n",
       "      <td>32.326474</td>\n",
       "      <td>0.002670</td>\n",
       "    </tr>\n",
       "    <tr>\n",
       "      <th>420</th>\n",
       "      <td>373</td>\n",
       "      <td>2018-02-22 16:33:27.969629</td>\n",
       "      <td>8.707452e-09</td>\n",
       "      <td>4.762020e-11</td>\n",
       "      <td>8.894650e-12</td>\n",
       "      <td>1.000000e+09</td>\n",
       "      <td>61.798562</td>\n",
       "      <td>32.324766</td>\n",
       "      <td>0.002667</td>\n",
       "    </tr>\n",
       "    <tr>\n",
       "      <th>476</th>\n",
       "      <td>429</td>\n",
       "      <td>2018-02-22 18:05:37.917647</td>\n",
       "      <td>8.705321e-09</td>\n",
       "      <td>4.761847e-11</td>\n",
       "      <td>8.893400e-12</td>\n",
       "      <td>1.000000e+09</td>\n",
       "      <td>61.791000</td>\n",
       "      <td>32.324179</td>\n",
       "      <td>0.002666</td>\n",
       "    </tr>\n",
       "    <tr>\n",
       "      <th>532</th>\n",
       "      <td>485</td>\n",
       "      <td>2018-02-22 19:23:34.632635</td>\n",
       "      <td>8.672675e-09</td>\n",
       "      <td>4.761100e-11</td>\n",
       "      <td>8.908490e-12</td>\n",
       "      <td>1.000000e+09</td>\n",
       "      <td>61.675029</td>\n",
       "      <td>32.321644</td>\n",
       "      <td>0.002671</td>\n",
       "    </tr>\n",
       "    <tr>\n",
       "      <th>588</th>\n",
       "      <td>541</td>\n",
       "      <td>2018-02-22 20:21:00.797304</td>\n",
       "      <td>8.750788e-09</td>\n",
       "      <td>4.762568e-11</td>\n",
       "      <td>8.909430e-12</td>\n",
       "      <td>1.000000e+09</td>\n",
       "      <td>61.952154</td>\n",
       "      <td>32.326626</td>\n",
       "      <td>0.002671</td>\n",
       "    </tr>\n",
       "    <tr>\n",
       "      <th>100</th>\n",
       "      <td>53</td>\n",
       "      <td>2018-02-22 10:26:06.372530</td>\n",
       "      <td>8.665504e-09</td>\n",
       "      <td>4.756219e-11</td>\n",
       "      <td>8.838650e-12</td>\n",
       "      <td>5.000000e+09</td>\n",
       "      <td>61.649526</td>\n",
       "      <td>32.305072</td>\n",
       "      <td>0.002650</td>\n",
       "    </tr>\n",
       "    <tr>\n",
       "      <th>104</th>\n",
       "      <td>57</td>\n",
       "      <td>2018-02-22 10:27:50.889145</td>\n",
       "      <td>8.693059e-09</td>\n",
       "      <td>4.767421e-11</td>\n",
       "      <td>9.082270e-12</td>\n",
       "      <td>5.000000e+09</td>\n",
       "      <td>61.747466</td>\n",
       "      <td>32.343092</td>\n",
       "      <td>0.002723</td>\n",
       "    </tr>\n",
       "    <tr>\n",
       "      <th>204</th>\n",
       "      <td>157</td>\n",
       "      <td>2018-02-22 11:10:00.796593</td>\n",
       "      <td>8.665504e-09</td>\n",
       "      <td>4.756219e-11</td>\n",
       "      <td>8.838650e-12</td>\n",
       "      <td>5.000000e+09</td>\n",
       "      <td>61.649526</td>\n",
       "      <td>32.305072</td>\n",
       "      <td>0.002650</td>\n",
       "    </tr>\n",
       "    <tr>\n",
       "      <th>208</th>\n",
       "      <td>161</td>\n",
       "      <td>2018-02-22 11:11:49.238668</td>\n",
       "      <td>8.997251e-09</td>\n",
       "      <td>4.772276e-11</td>\n",
       "      <td>9.073080e-12</td>\n",
       "      <td>5.000000e+09</td>\n",
       "      <td>62.818527</td>\n",
       "      <td>32.359557</td>\n",
       "      <td>0.002720</td>\n",
       "    </tr>\n",
       "    <tr>\n",
       "      <th>424</th>\n",
       "      <td>377</td>\n",
       "      <td>2018-02-22 16:38:10.964657</td>\n",
       "      <td>8.837899e-09</td>\n",
       "      <td>4.770514e-11</td>\n",
       "      <td>9.034060e-12</td>\n",
       "      <td>5.000000e+09</td>\n",
       "      <td>62.259746</td>\n",
       "      <td>32.353582</td>\n",
       "      <td>0.002708</td>\n",
       "    </tr>\n",
       "    <tr>\n",
       "      <th>480</th>\n",
       "      <td>433</td>\n",
       "      <td>2018-02-22 18:10:23.374520</td>\n",
       "      <td>8.829318e-09</td>\n",
       "      <td>4.770057e-11</td>\n",
       "      <td>9.029270e-12</td>\n",
       "      <td>5.000000e+09</td>\n",
       "      <td>62.229514</td>\n",
       "      <td>32.352033</td>\n",
       "      <td>0.002707</td>\n",
       "    </tr>\n",
       "    <tr>\n",
       "      <th>536</th>\n",
       "      <td>489</td>\n",
       "      <td>2018-02-22 19:25:31.130660</td>\n",
       "      <td>8.693059e-09</td>\n",
       "      <td>4.767421e-11</td>\n",
       "      <td>9.082270e-12</td>\n",
       "      <td>5.000000e+09</td>\n",
       "      <td>61.747466</td>\n",
       "      <td>32.343092</td>\n",
       "      <td>0.002723</td>\n",
       "    </tr>\n",
       "    <tr>\n",
       "      <th>592</th>\n",
       "      <td>545</td>\n",
       "      <td>2018-02-22 20:23:00.814669</td>\n",
       "      <td>9.004469e-09</td>\n",
       "      <td>4.772507e-11</td>\n",
       "      <td>9.077030e-12</td>\n",
       "      <td>5.000000e+09</td>\n",
       "      <td>62.843720</td>\n",
       "      <td>32.360340</td>\n",
       "      <td>0.002721</td>\n",
       "    </tr>\n",
       "    <tr>\n",
       "      <th>108</th>\n",
       "      <td>61</td>\n",
       "      <td>2018-02-22 10:28:31.216848</td>\n",
       "      <td>8.665507e-09</td>\n",
       "      <td>4.820475e-11</td>\n",
       "      <td>8.838650e-12</td>\n",
       "      <td>1.000000e+10</td>\n",
       "      <td>61.649537</td>\n",
       "      <td>32.522559</td>\n",
       "      <td>0.002650</td>\n",
       "    </tr>\n",
       "    <tr>\n",
       "      <th>112</th>\n",
       "      <td>65</td>\n",
       "      <td>2018-02-22 10:30:17.990451</td>\n",
       "      <td>8.713306e-09</td>\n",
       "      <td>4.836472e-11</td>\n",
       "      <td>9.241170e-12</td>\n",
       "      <td>1.000000e+10</td>\n",
       "      <td>61.819333</td>\n",
       "      <td>32.576478</td>\n",
       "      <td>0.002770</td>\n",
       "    </tr>\n",
       "    <tr>\n",
       "      <th>212</th>\n",
       "      <td>165</td>\n",
       "      <td>2018-02-22 11:12:26.502163</td>\n",
       "      <td>8.665507e-09</td>\n",
       "      <td>4.820475e-11</td>\n",
       "      <td>8.838650e-12</td>\n",
       "      <td>1.000000e+10</td>\n",
       "      <td>61.649537</td>\n",
       "      <td>32.522559</td>\n",
       "      <td>0.002650</td>\n",
       "    </tr>\n",
       "    <tr>\n",
       "      <th>216</th>\n",
       "      <td>169</td>\n",
       "      <td>2018-02-22 11:14:14.844223</td>\n",
       "      <td>9.237644e-09</td>\n",
       "      <td>4.844554e-11</td>\n",
       "      <td>9.220280e-12</td>\n",
       "      <td>1.000000e+10</td>\n",
       "      <td>63.652203</td>\n",
       "      <td>32.603685</td>\n",
       "      <td>0.002764</td>\n",
       "    </tr>\n",
       "    <tr>\n",
       "      <th>428</th>\n",
       "      <td>381</td>\n",
       "      <td>2018-02-22 16:42:54.439131</td>\n",
       "      <td>8.967122e-09</td>\n",
       "      <td>4.841637e-11</td>\n",
       "      <td>9.161720e-12</td>\n",
       "      <td>1.000000e+10</td>\n",
       "      <td>62.713259</td>\n",
       "      <td>32.593868</td>\n",
       "      <td>0.002747</td>\n",
       "    </tr>\n",
       "    <tr>\n",
       "      <th>484</th>\n",
       "      <td>437</td>\n",
       "      <td>2018-02-22 18:15:06.444926</td>\n",
       "      <td>8.952754e-09</td>\n",
       "      <td>4.840923e-11</td>\n",
       "      <td>9.153980e-12</td>\n",
       "      <td>1.000000e+10</td>\n",
       "      <td>62.662996</td>\n",
       "      <td>32.591464</td>\n",
       "      <td>0.002744</td>\n",
       "    </tr>\n",
       "    <tr>\n",
       "      <th>540</th>\n",
       "      <td>493</td>\n",
       "      <td>2018-02-22 19:27:27.509381</td>\n",
       "      <td>8.713306e-09</td>\n",
       "      <td>4.836472e-11</td>\n",
       "      <td>9.241170e-12</td>\n",
       "      <td>1.000000e+10</td>\n",
       "      <td>61.819333</td>\n",
       "      <td>32.576478</td>\n",
       "      <td>0.002770</td>\n",
       "    </tr>\n",
       "    <tr>\n",
       "      <th>596</th>\n",
       "      <td>549</td>\n",
       "      <td>2018-02-22 20:25:01.758219</td>\n",
       "      <td>9.246818e-09</td>\n",
       "      <td>4.844759e-11</td>\n",
       "      <td>9.226190e-12</td>\n",
       "      <td>1.000000e+10</td>\n",
       "      <td>63.683802</td>\n",
       "      <td>32.604375</td>\n",
       "      <td>0.002766</td>\n",
       "    </tr>\n",
       "    <tr>\n",
       "      <th>116</th>\n",
       "      <td>69</td>\n",
       "      <td>2018-02-22 10:30:53.110356</td>\n",
       "      <td>8.665509e-09</td>\n",
       "      <td>4.863563e-11</td>\n",
       "      <td>8.838650e-12</td>\n",
       "      <td>1.500000e+10</td>\n",
       "      <td>61.649544</td>\n",
       "      <td>32.667587</td>\n",
       "      <td>0.002650</td>\n",
       "    </tr>\n",
       "    <tr>\n",
       "      <th>120</th>\n",
       "      <td>73</td>\n",
       "      <td>2018-02-22 10:32:40.241753</td>\n",
       "      <td>8.730277e-09</td>\n",
       "      <td>4.883172e-11</td>\n",
       "      <td>9.375220e-12</td>\n",
       "      <td>1.500000e+10</td>\n",
       "      <td>61.879506</td>\n",
       "      <td>32.733376</td>\n",
       "      <td>0.002811</td>\n",
       "    </tr>\n",
       "    <tr>\n",
       "      <th>220</th>\n",
       "      <td>173</td>\n",
       "      <td>2018-02-22 11:14:52.307495</td>\n",
       "      <td>8.665509e-09</td>\n",
       "      <td>4.863563e-11</td>\n",
       "      <td>8.838650e-12</td>\n",
       "      <td>1.500000e+10</td>\n",
       "      <td>61.649544</td>\n",
       "      <td>32.667587</td>\n",
       "      <td>0.002650</td>\n",
       "    </tr>\n",
       "    <tr>\n",
       "      <th>224</th>\n",
       "      <td>177</td>\n",
       "      <td>2018-02-22 11:16:47.869473</td>\n",
       "      <td>9.442350e-09</td>\n",
       "      <td>4.893775e-11</td>\n",
       "      <td>9.342260e-12</td>\n",
       "      <td>1.500000e+10</td>\n",
       "      <td>64.353604</td>\n",
       "      <td>32.768894</td>\n",
       "      <td>0.002801</td>\n",
       "    </tr>\n",
       "    <tr>\n",
       "      <th>432</th>\n",
       "      <td>385</td>\n",
       "      <td>2018-02-22 16:47:34.713645</td>\n",
       "      <td>9.078315e-09</td>\n",
       "      <td>4.890178e-11</td>\n",
       "      <td>9.269600e-12</td>\n",
       "      <td>1.500000e+10</td>\n",
       "      <td>63.100885</td>\n",
       "      <td>32.756849</td>\n",
       "      <td>0.002779</td>\n",
       "    </tr>\n",
       "    <tr>\n",
       "      <th>488</th>\n",
       "      <td>441</td>\n",
       "      <td>2018-02-22 18:19:52.391418</td>\n",
       "      <td>9.059847e-09</td>\n",
       "      <td>4.889398e-11</td>\n",
       "      <td>9.258640e-12</td>\n",
       "      <td>1.500000e+10</td>\n",
       "      <td>63.036670</td>\n",
       "      <td>32.754237</td>\n",
       "      <td>0.002776</td>\n",
       "    </tr>\n",
       "    <tr>\n",
       "      <th>...</th>\n",
       "      <td>...</td>\n",
       "      <td>...</td>\n",
       "      <td>...</td>\n",
       "      <td>...</td>\n",
       "      <td>...</td>\n",
       "      <td>...</td>\n",
       "      <td>...</td>\n",
       "      <td>...</td>\n",
       "      <td>...</td>\n",
       "    </tr>\n",
       "    <tr>\n",
       "      <th>276</th>\n",
       "      <td>229</td>\n",
       "      <td>2018-02-22 11:32:26.850056</td>\n",
       "      <td>8.665553e-09</td>\n",
       "      <td>6.496380e-11</td>\n",
       "      <td>8.838650e-12</td>\n",
       "      <td>5.000000e+10</td>\n",
       "      <td>61.649700</td>\n",
       "      <td>37.755089</td>\n",
       "      <td>0.002650</td>\n",
       "    </tr>\n",
       "    <tr>\n",
       "      <th>280</th>\n",
       "      <td>233</td>\n",
       "      <td>2018-02-22 11:34:19.039800</td>\n",
       "      <td>1.029101e-08</td>\n",
       "      <td>6.547988e-11</td>\n",
       "      <td>9.817270e-12</td>\n",
       "      <td>5.000000e+10</td>\n",
       "      <td>67.183377</td>\n",
       "      <td>37.904758</td>\n",
       "      <td>0.002943</td>\n",
       "    </tr>\n",
       "    <tr>\n",
       "      <th>460</th>\n",
       "      <td>413</td>\n",
       "      <td>2018-02-22 17:20:28.413969</td>\n",
       "      <td>9.559771e-09</td>\n",
       "      <td>6.541614e-11</td>\n",
       "      <td>9.713030e-12</td>\n",
       "      <td>5.000000e+10</td>\n",
       "      <td>64.752505</td>\n",
       "      <td>37.886304</td>\n",
       "      <td>0.002912</td>\n",
       "    </tr>\n",
       "    <tr>\n",
       "      <th>516</th>\n",
       "      <td>469</td>\n",
       "      <td>2018-02-22 18:53:00.700934</td>\n",
       "      <td>9.519034e-09</td>\n",
       "      <td>6.540214e-11</td>\n",
       "      <td>9.694310e-12</td>\n",
       "      <td>5.000000e+10</td>\n",
       "      <td>64.614393</td>\n",
       "      <td>37.882250</td>\n",
       "      <td>0.002906</td>\n",
       "    </tr>\n",
       "    <tr>\n",
       "      <th>572</th>\n",
       "      <td>525</td>\n",
       "      <td>2018-02-22 19:44:26.558164</td>\n",
       "      <td>8.809228e-09</td>\n",
       "      <td>6.528289e-11</td>\n",
       "      <td>9.945830e-12</td>\n",
       "      <td>5.000000e+10</td>\n",
       "      <td>62.158676</td>\n",
       "      <td>37.847698</td>\n",
       "      <td>0.002982</td>\n",
       "    </tr>\n",
       "    <tr>\n",
       "      <th>628</th>\n",
       "      <td>581</td>\n",
       "      <td>2018-02-22 20:41:14.929757</td>\n",
       "      <td>1.030325e-08</td>\n",
       "      <td>6.548536e-11</td>\n",
       "      <td>9.825910e-12</td>\n",
       "      <td>5.000000e+10</td>\n",
       "      <td>67.223318</td>\n",
       "      <td>37.906344</td>\n",
       "      <td>0.002946</td>\n",
       "    </tr>\n",
       "    <tr>\n",
       "      <th>180</th>\n",
       "      <td>133</td>\n",
       "      <td>2018-02-22 10:50:02.478382</td>\n",
       "      <td>8.665566e-09</td>\n",
       "      <td>7.007465e-11</td>\n",
       "      <td>8.838650e-12</td>\n",
       "      <td>5.500000e+10</td>\n",
       "      <td>61.649747</td>\n",
       "      <td>39.212114</td>\n",
       "      <td>0.002650</td>\n",
       "    </tr>\n",
       "    <tr>\n",
       "      <th>184</th>\n",
       "      <td>137</td>\n",
       "      <td>2018-02-22 10:51:55.104260</td>\n",
       "      <td>8.815452e-09</td>\n",
       "      <td>7.039859e-11</td>\n",
       "      <td>9.984250e-12</td>\n",
       "      <td>5.500000e+10</td>\n",
       "      <td>62.180630</td>\n",
       "      <td>39.302644</td>\n",
       "      <td>0.002993</td>\n",
       "    </tr>\n",
       "    <tr>\n",
       "      <th>284</th>\n",
       "      <td>237</td>\n",
       "      <td>2018-02-22 11:34:58.686577</td>\n",
       "      <td>8.665566e-09</td>\n",
       "      <td>7.007465e-11</td>\n",
       "      <td>8.838650e-12</td>\n",
       "      <td>5.500000e+10</td>\n",
       "      <td>61.649747</td>\n",
       "      <td>39.212114</td>\n",
       "      <td>0.002650</td>\n",
       "    </tr>\n",
       "    <tr>\n",
       "      <th>288</th>\n",
       "      <td>241</td>\n",
       "      <td>2018-02-22 11:36:51.199170</td>\n",
       "      <td>1.034522e-08</td>\n",
       "      <td>7.059873e-11</td>\n",
       "      <td>9.844720e-12</td>\n",
       "      <td>5.500000e+10</td>\n",
       "      <td>67.360095</td>\n",
       "      <td>39.358472</td>\n",
       "      <td>0.002951</td>\n",
       "    </tr>\n",
       "    <tr>\n",
       "      <th>464</th>\n",
       "      <td>417</td>\n",
       "      <td>2018-02-22 17:25:10.813232</td>\n",
       "      <td>9.597331e-09</td>\n",
       "      <td>7.053306e-11</td>\n",
       "      <td>9.739320e-12</td>\n",
       "      <td>5.500000e+10</td>\n",
       "      <td>64.879585</td>\n",
       "      <td>39.340163</td>\n",
       "      <td>0.002920</td>\n",
       "    </tr>\n",
       "    <tr>\n",
       "      <th>520</th>\n",
       "      <td>473</td>\n",
       "      <td>2018-02-22 18:57:45.727132</td>\n",
       "      <td>9.555078e-09</td>\n",
       "      <td>7.051828e-11</td>\n",
       "      <td>9.724450e-12</td>\n",
       "      <td>5.500000e+10</td>\n",
       "      <td>64.736609</td>\n",
       "      <td>39.336041</td>\n",
       "      <td>0.002915</td>\n",
       "    </tr>\n",
       "    <tr>\n",
       "      <th>576</th>\n",
       "      <td>529</td>\n",
       "      <td>2018-02-22 19:46:39.284486</td>\n",
       "      <td>8.815452e-09</td>\n",
       "      <td>7.039859e-11</td>\n",
       "      <td>9.984250e-12</td>\n",
       "      <td>5.500000e+10</td>\n",
       "      <td>62.180630</td>\n",
       "      <td>39.302644</td>\n",
       "      <td>0.002993</td>\n",
       "    </tr>\n",
       "    <tr>\n",
       "      <th>632</th>\n",
       "      <td>585</td>\n",
       "      <td>2018-02-22 20:43:16.508968</td>\n",
       "      <td>1.035841e-08</td>\n",
       "      <td>7.060399e-11</td>\n",
       "      <td>9.859530e-12</td>\n",
       "      <td>5.500000e+10</td>\n",
       "      <td>67.403023</td>\n",
       "      <td>39.359938</td>\n",
       "      <td>0.002956</td>\n",
       "    </tr>\n",
       "    <tr>\n",
       "      <th>188</th>\n",
       "      <td>141</td>\n",
       "      <td>2018-02-22 10:52:33.256867</td>\n",
       "      <td>8.665574e-09</td>\n",
       "      <td>7.323624e-11</td>\n",
       "      <td>8.838650e-12</td>\n",
       "      <td>6.000000e+10</td>\n",
       "      <td>61.649775</td>\n",
       "      <td>40.086931</td>\n",
       "      <td>0.002650</td>\n",
       "    </tr>\n",
       "    <tr>\n",
       "      <th>192</th>\n",
       "      <td>145</td>\n",
       "      <td>2018-02-22 10:54:20.631170</td>\n",
       "      <td>8.822962e-09</td>\n",
       "      <td>7.356866e-11</td>\n",
       "      <td>1.003010e-11</td>\n",
       "      <td>6.000000e+10</td>\n",
       "      <td>62.207111</td>\n",
       "      <td>40.177805</td>\n",
       "      <td>0.003007</td>\n",
       "    </tr>\n",
       "    <tr>\n",
       "      <th>292</th>\n",
       "      <td>245</td>\n",
       "      <td>2018-02-22 11:37:30.775868</td>\n",
       "      <td>8.665574e-09</td>\n",
       "      <td>7.323624e-11</td>\n",
       "      <td>8.838650e-12</td>\n",
       "      <td>6.000000e+10</td>\n",
       "      <td>61.649775</td>\n",
       "      <td>40.086931</td>\n",
       "      <td>0.002650</td>\n",
       "    </tr>\n",
       "    <tr>\n",
       "      <th>296</th>\n",
       "      <td>249</td>\n",
       "      <td>2018-02-22 11:39:22.867914</td>\n",
       "      <td>1.041676e-08</td>\n",
       "      <td>7.377230e-11</td>\n",
       "      <td>9.888210e-12</td>\n",
       "      <td>6.000000e+10</td>\n",
       "      <td>67.592601</td>\n",
       "      <td>40.233374</td>\n",
       "      <td>0.002964</td>\n",
       "    </tr>\n",
       "    <tr>\n",
       "      <th>468</th>\n",
       "      <td>421</td>\n",
       "      <td>2018-02-22 17:29:51.671756</td>\n",
       "      <td>9.641908e-09</td>\n",
       "      <td>7.370782e-11</td>\n",
       "      <td>9.776710e-12</td>\n",
       "      <td>6.000000e+10</td>\n",
       "      <td>65.030085</td>\n",
       "      <td>40.215787</td>\n",
       "      <td>0.002931</td>\n",
       "    </tr>\n",
       "    <tr>\n",
       "      <th>524</th>\n",
       "      <td>477</td>\n",
       "      <td>2018-02-22 19:02:28.642661</td>\n",
       "      <td>9.595384e-09</td>\n",
       "      <td>7.369152e-11</td>\n",
       "      <td>9.759410e-12</td>\n",
       "      <td>6.000000e+10</td>\n",
       "      <td>64.873004</td>\n",
       "      <td>40.211340</td>\n",
       "      <td>0.002926</td>\n",
       "    </tr>\n",
       "    <tr>\n",
       "      <th>580</th>\n",
       "      <td>533</td>\n",
       "      <td>2018-02-22 19:48:48.787907</td>\n",
       "      <td>8.822962e-09</td>\n",
       "      <td>7.356866e-11</td>\n",
       "      <td>1.003010e-11</td>\n",
       "      <td>6.000000e+10</td>\n",
       "      <td>62.207111</td>\n",
       "      <td>40.177805</td>\n",
       "      <td>0.003007</td>\n",
       "    </tr>\n",
       "    <tr>\n",
       "      <th>636</th>\n",
       "      <td>589</td>\n",
       "      <td>2018-02-22 20:45:18.337412</td>\n",
       "      <td>1.043125e-08</td>\n",
       "      <td>7.378002e-11</td>\n",
       "      <td>9.897060e-12</td>\n",
       "      <td>6.000000e+10</td>\n",
       "      <td>67.639596</td>\n",
       "      <td>40.235479</td>\n",
       "      <td>0.002967</td>\n",
       "    </tr>\n",
       "    <tr>\n",
       "      <th>84</th>\n",
       "      <td>37</td>\n",
       "      <td>2018-02-21 16:43:30.113091</td>\n",
       "      <td>8.665586e-09</td>\n",
       "      <td>7.811234e-11</td>\n",
       "      <td>8.838650e-12</td>\n",
       "      <td>6.500000e+10</td>\n",
       "      <td>61.649818</td>\n",
       "      <td>41.399930</td>\n",
       "      <td>0.002650</td>\n",
       "    </tr>\n",
       "    <tr>\n",
       "      <th>88</th>\n",
       "      <td>41</td>\n",
       "      <td>2018-02-21 16:47:04.285203</td>\n",
       "      <td>8.828006e-09</td>\n",
       "      <td>7.845016e-11</td>\n",
       "      <td>1.006880e-11</td>\n",
       "      <td>6.500000e+10</td>\n",
       "      <td>62.224890</td>\n",
       "      <td>41.489357</td>\n",
       "      <td>0.003019</td>\n",
       "    </tr>\n",
       "    <tr>\n",
       "      <th>300</th>\n",
       "      <td>253</td>\n",
       "      <td>2018-02-22 11:40:02.614311</td>\n",
       "      <td>8.665586e-09</td>\n",
       "      <td>7.811234e-11</td>\n",
       "      <td>8.838650e-12</td>\n",
       "      <td>6.500000e+10</td>\n",
       "      <td>61.649818</td>\n",
       "      <td>41.399930</td>\n",
       "      <td>0.002650</td>\n",
       "    </tr>\n",
       "    <tr>\n",
       "      <th>304</th>\n",
       "      <td>257</td>\n",
       "      <td>2018-02-22 11:41:55.706581</td>\n",
       "      <td>1.046554e-08</td>\n",
       "      <td>7.865600e-11</td>\n",
       "      <td>9.916550e-12</td>\n",
       "      <td>6.500000e+10</td>\n",
       "      <td>67.750679</td>\n",
       "      <td>41.543752</td>\n",
       "      <td>0.002973</td>\n",
       "    </tr>\n",
       "    <tr>\n",
       "      <th>472</th>\n",
       "      <td>425</td>\n",
       "      <td>2018-02-22 17:34:33.191112</td>\n",
       "      <td>9.673032e-09</td>\n",
       "      <td>7.858863e-11</td>\n",
       "      <td>9.804750e-12</td>\n",
       "      <td>6.500000e+10</td>\n",
       "      <td>65.134958</td>\n",
       "      <td>41.525957</td>\n",
       "      <td>0.002939</td>\n",
       "    </tr>\n",
       "    <tr>\n",
       "      <th>528</th>\n",
       "      <td>481</td>\n",
       "      <td>2018-02-22 19:07:11.340362</td>\n",
       "      <td>9.627723e-09</td>\n",
       "      <td>7.857351e-11</td>\n",
       "      <td>9.784330e-12</td>\n",
       "      <td>6.500000e+10</td>\n",
       "      <td>64.982232</td>\n",
       "      <td>41.521962</td>\n",
       "      <td>0.002933</td>\n",
       "    </tr>\n",
       "    <tr>\n",
       "      <th>584</th>\n",
       "      <td>537</td>\n",
       "      <td>2018-02-22 19:50:59.725252</td>\n",
       "      <td>8.828006e-09</td>\n",
       "      <td>7.845016e-11</td>\n",
       "      <td>1.006880e-11</td>\n",
       "      <td>6.500000e+10</td>\n",
       "      <td>62.224890</td>\n",
       "      <td>41.489357</td>\n",
       "      <td>0.003019</td>\n",
       "    </tr>\n",
       "    <tr>\n",
       "      <th>640</th>\n",
       "      <td>593</td>\n",
       "      <td>2018-02-22 20:47:19.370497</td>\n",
       "      <td>1.047957e-08</td>\n",
       "      <td>7.866113e-11</td>\n",
       "      <td>9.925940e-12</td>\n",
       "      <td>6.500000e+10</td>\n",
       "      <td>67.796076</td>\n",
       "      <td>41.545107</td>\n",
       "      <td>0.002976</td>\n",
       "    </tr>\n",
       "  </tbody>\n",
       "</table>\n",
       "<p>112 rows × 9 columns</p>\n",
       "</div>"
      ],
      "text/plain": [
       "        id                        date         equix         equiy  \\\n",
       "simid                                                                \n",
       "92      45  2018-02-22 10:23:46.337661  8.665504e-09  4.756219e-11   \n",
       "96      49  2018-02-22 10:25:32.193932  8.672675e-09  4.761100e-11   \n",
       "196    149  2018-02-22 11:07:34.474315  8.665504e-09  4.756219e-11   \n",
       "200    153  2018-02-22 11:09:23.277502  8.748418e-09  4.762523e-11   \n",
       "420    373  2018-02-22 16:33:27.969629  8.707452e-09  4.762020e-11   \n",
       "476    429  2018-02-22 18:05:37.917647  8.705321e-09  4.761847e-11   \n",
       "532    485  2018-02-22 19:23:34.632635  8.672675e-09  4.761100e-11   \n",
       "588    541  2018-02-22 20:21:00.797304  8.750788e-09  4.762568e-11   \n",
       "100     53  2018-02-22 10:26:06.372530  8.665504e-09  4.756219e-11   \n",
       "104     57  2018-02-22 10:27:50.889145  8.693059e-09  4.767421e-11   \n",
       "204    157  2018-02-22 11:10:00.796593  8.665504e-09  4.756219e-11   \n",
       "208    161  2018-02-22 11:11:49.238668  8.997251e-09  4.772276e-11   \n",
       "424    377  2018-02-22 16:38:10.964657  8.837899e-09  4.770514e-11   \n",
       "480    433  2018-02-22 18:10:23.374520  8.829318e-09  4.770057e-11   \n",
       "536    489  2018-02-22 19:25:31.130660  8.693059e-09  4.767421e-11   \n",
       "592    545  2018-02-22 20:23:00.814669  9.004469e-09  4.772507e-11   \n",
       "108     61  2018-02-22 10:28:31.216848  8.665507e-09  4.820475e-11   \n",
       "112     65  2018-02-22 10:30:17.990451  8.713306e-09  4.836472e-11   \n",
       "212    165  2018-02-22 11:12:26.502163  8.665507e-09  4.820475e-11   \n",
       "216    169  2018-02-22 11:14:14.844223  9.237644e-09  4.844554e-11   \n",
       "428    381  2018-02-22 16:42:54.439131  8.967122e-09  4.841637e-11   \n",
       "484    437  2018-02-22 18:15:06.444926  8.952754e-09  4.840923e-11   \n",
       "540    493  2018-02-22 19:27:27.509381  8.713306e-09  4.836472e-11   \n",
       "596    549  2018-02-22 20:25:01.758219  9.246818e-09  4.844759e-11   \n",
       "116     69  2018-02-22 10:30:53.110356  8.665509e-09  4.863563e-11   \n",
       "120     73  2018-02-22 10:32:40.241753  8.730277e-09  4.883172e-11   \n",
       "220    173  2018-02-22 11:14:52.307495  8.665509e-09  4.863563e-11   \n",
       "224    177  2018-02-22 11:16:47.869473  9.442350e-09  4.893775e-11   \n",
       "432    385  2018-02-22 16:47:34.713645  9.078315e-09  4.890178e-11   \n",
       "488    441  2018-02-22 18:19:52.391418  9.059847e-09  4.889398e-11   \n",
       "...    ...                         ...           ...           ...   \n",
       "276    229  2018-02-22 11:32:26.850056  8.665553e-09  6.496380e-11   \n",
       "280    233  2018-02-22 11:34:19.039800  1.029101e-08  6.547988e-11   \n",
       "460    413  2018-02-22 17:20:28.413969  9.559771e-09  6.541614e-11   \n",
       "516    469  2018-02-22 18:53:00.700934  9.519034e-09  6.540214e-11   \n",
       "572    525  2018-02-22 19:44:26.558164  8.809228e-09  6.528289e-11   \n",
       "628    581  2018-02-22 20:41:14.929757  1.030325e-08  6.548536e-11   \n",
       "180    133  2018-02-22 10:50:02.478382  8.665566e-09  7.007465e-11   \n",
       "184    137  2018-02-22 10:51:55.104260  8.815452e-09  7.039859e-11   \n",
       "284    237  2018-02-22 11:34:58.686577  8.665566e-09  7.007465e-11   \n",
       "288    241  2018-02-22 11:36:51.199170  1.034522e-08  7.059873e-11   \n",
       "464    417  2018-02-22 17:25:10.813232  9.597331e-09  7.053306e-11   \n",
       "520    473  2018-02-22 18:57:45.727132  9.555078e-09  7.051828e-11   \n",
       "576    529  2018-02-22 19:46:39.284486  8.815452e-09  7.039859e-11   \n",
       "632    585  2018-02-22 20:43:16.508968  1.035841e-08  7.060399e-11   \n",
       "188    141  2018-02-22 10:52:33.256867  8.665574e-09  7.323624e-11   \n",
       "192    145  2018-02-22 10:54:20.631170  8.822962e-09  7.356866e-11   \n",
       "292    245  2018-02-22 11:37:30.775868  8.665574e-09  7.323624e-11   \n",
       "296    249  2018-02-22 11:39:22.867914  1.041676e-08  7.377230e-11   \n",
       "468    421  2018-02-22 17:29:51.671756  9.641908e-09  7.370782e-11   \n",
       "524    477  2018-02-22 19:02:28.642661  9.595384e-09  7.369152e-11   \n",
       "580    533  2018-02-22 19:48:48.787907  8.822962e-09  7.356866e-11   \n",
       "636    589  2018-02-22 20:45:18.337412  1.043125e-08  7.378002e-11   \n",
       "84      37  2018-02-21 16:43:30.113091  8.665586e-09  7.811234e-11   \n",
       "88      41  2018-02-21 16:47:04.285203  8.828006e-09  7.845016e-11   \n",
       "300    253  2018-02-22 11:40:02.614311  8.665586e-09  7.811234e-11   \n",
       "304    257  2018-02-22 11:41:55.706581  1.046554e-08  7.865600e-11   \n",
       "472    425  2018-02-22 17:34:33.191112  9.673032e-09  7.858863e-11   \n",
       "528    481  2018-02-22 19:07:11.340362  9.627723e-09  7.857351e-11   \n",
       "584    537  2018-02-22 19:50:59.725252  8.828006e-09  7.845016e-11   \n",
       "640    593  2018-02-22 20:47:19.370497  1.047957e-08  7.866113e-11   \n",
       "\n",
       "              equis         NReal       sigx       sigy      sigs  \n",
       "simid                                                              \n",
       "92     8.838650e-12  1.000000e+09  61.649526  32.305072  0.002650  \n",
       "96     8.908490e-12  1.000000e+09  61.675029  32.321644  0.002671  \n",
       "196    8.838650e-12  1.000000e+09  61.649526  32.305072  0.002650  \n",
       "200    8.907020e-12  1.000000e+09  61.943764  32.326474  0.002670  \n",
       "420    8.894650e-12  1.000000e+09  61.798562  32.324766  0.002667  \n",
       "476    8.893400e-12  1.000000e+09  61.791000  32.324179  0.002666  \n",
       "532    8.908490e-12  1.000000e+09  61.675029  32.321644  0.002671  \n",
       "588    8.909430e-12  1.000000e+09  61.952154  32.326626  0.002671  \n",
       "100    8.838650e-12  5.000000e+09  61.649526  32.305072  0.002650  \n",
       "104    9.082270e-12  5.000000e+09  61.747466  32.343092  0.002723  \n",
       "204    8.838650e-12  5.000000e+09  61.649526  32.305072  0.002650  \n",
       "208    9.073080e-12  5.000000e+09  62.818527  32.359557  0.002720  \n",
       "424    9.034060e-12  5.000000e+09  62.259746  32.353582  0.002708  \n",
       "480    9.029270e-12  5.000000e+09  62.229514  32.352033  0.002707  \n",
       "536    9.082270e-12  5.000000e+09  61.747466  32.343092  0.002723  \n",
       "592    9.077030e-12  5.000000e+09  62.843720  32.360340  0.002721  \n",
       "108    8.838650e-12  1.000000e+10  61.649537  32.522559  0.002650  \n",
       "112    9.241170e-12  1.000000e+10  61.819333  32.576478  0.002770  \n",
       "212    8.838650e-12  1.000000e+10  61.649537  32.522559  0.002650  \n",
       "216    9.220280e-12  1.000000e+10  63.652203  32.603685  0.002764  \n",
       "428    9.161720e-12  1.000000e+10  62.713259  32.593868  0.002747  \n",
       "484    9.153980e-12  1.000000e+10  62.662996  32.591464  0.002744  \n",
       "540    9.241170e-12  1.000000e+10  61.819333  32.576478  0.002770  \n",
       "596    9.226190e-12  1.000000e+10  63.683802  32.604375  0.002766  \n",
       "116    8.838650e-12  1.500000e+10  61.649544  32.667587  0.002650  \n",
       "120    9.375220e-12  1.500000e+10  61.879506  32.733376  0.002811  \n",
       "220    8.838650e-12  1.500000e+10  61.649544  32.667587  0.002650  \n",
       "224    9.342260e-12  1.500000e+10  64.353604  32.768894  0.002801  \n",
       "432    9.269600e-12  1.500000e+10  63.100885  32.756849  0.002779  \n",
       "488    9.258640e-12  1.500000e+10  63.036670  32.754237  0.002776  \n",
       "...             ...           ...        ...        ...       ...  \n",
       "276    8.838650e-12  5.000000e+10  61.649700  37.755089  0.002650  \n",
       "280    9.817270e-12  5.000000e+10  67.183377  37.904758  0.002943  \n",
       "460    9.713030e-12  5.000000e+10  64.752505  37.886304  0.002912  \n",
       "516    9.694310e-12  5.000000e+10  64.614393  37.882250  0.002906  \n",
       "572    9.945830e-12  5.000000e+10  62.158676  37.847698  0.002982  \n",
       "628    9.825910e-12  5.000000e+10  67.223318  37.906344  0.002946  \n",
       "180    8.838650e-12  5.500000e+10  61.649747  39.212114  0.002650  \n",
       "184    9.984250e-12  5.500000e+10  62.180630  39.302644  0.002993  \n",
       "284    8.838650e-12  5.500000e+10  61.649747  39.212114  0.002650  \n",
       "288    9.844720e-12  5.500000e+10  67.360095  39.358472  0.002951  \n",
       "464    9.739320e-12  5.500000e+10  64.879585  39.340163  0.002920  \n",
       "520    9.724450e-12  5.500000e+10  64.736609  39.336041  0.002915  \n",
       "576    9.984250e-12  5.500000e+10  62.180630  39.302644  0.002993  \n",
       "632    9.859530e-12  5.500000e+10  67.403023  39.359938  0.002956  \n",
       "188    8.838650e-12  6.000000e+10  61.649775  40.086931  0.002650  \n",
       "192    1.003010e-11  6.000000e+10  62.207111  40.177805  0.003007  \n",
       "292    8.838650e-12  6.000000e+10  61.649775  40.086931  0.002650  \n",
       "296    9.888210e-12  6.000000e+10  67.592601  40.233374  0.002964  \n",
       "468    9.776710e-12  6.000000e+10  65.030085  40.215787  0.002931  \n",
       "524    9.759410e-12  6.000000e+10  64.873004  40.211340  0.002926  \n",
       "580    1.003010e-11  6.000000e+10  62.207111  40.177805  0.003007  \n",
       "636    9.897060e-12  6.000000e+10  67.639596  40.235479  0.002967  \n",
       "84     8.838650e-12  6.500000e+10  61.649818  41.399930  0.002650  \n",
       "88     1.006880e-11  6.500000e+10  62.224890  41.489357  0.003019  \n",
       "300    8.838650e-12  6.500000e+10  61.649818  41.399930  0.002650  \n",
       "304    9.916550e-12  6.500000e+10  67.750679  41.543752  0.002973  \n",
       "472    9.804750e-12  6.500000e+10  65.134958  41.525957  0.002939  \n",
       "528    9.784330e-12  6.500000e+10  64.982232  41.521962  0.002933  \n",
       "584    1.006880e-11  6.500000e+10  62.224890  41.489357  0.003019  \n",
       "640    9.925940e-12  6.500000e+10  67.796076  41.545107  0.002976  \n",
       "\n",
       "[112 rows x 9 columns]"
      ]
     },
     "execution_count": 1275,
     "metadata": {},
     "output_type": "execute_result"
    }
   ],
   "source": [
    "fcon = pd.concat([fmerge1,fmerge2,fmerge3,fmerge4,fmerge5])\n",
    "fcon = fcon.sort_values(by=['NReal','id'])\n",
    "fcon"
   ]
  },
  {
   "cell_type": "code",
   "execution_count": 1276,
   "metadata": {
    "ExecuteTime": {
     "end_time": "2018-02-23T08:35:36.734059Z",
     "start_time": "2018-02-23T08:35:36.197063Z"
    }
   },
   "outputs": [
    {
     "data": {
      "image/png": "[encoded data removed]",
      "text/plain": [
       "<matplotlib.figure.Figure at 0x7f1cbc43f470>"
      ]
     },
     "metadata": {},
     "output_type": "display_data"
    }
   ],
   "source": [
    "fmc = len(fcon)\n",
    "ssslni0 = slice(0,fmc,8) #  no ibs smooth\n",
    "ssli0 = slice(1,fmc,8) # ibs smooth\n",
    "sslni3 = slice(2,fmc,8) #  no ibs nagai\n",
    "ssli3 = slice(3,fmc,8) # ibs nagai\n",
    "ssli1 = slice(4,fmc,8) # ibs piwi lattice\n",
    "ssli2 = slice(5,fmc,8) # ibs piwi lattice mod\n",
    "ssli00 = slice(6,fmc,8) # ibs piwi smooth\n",
    "ssli30 = slice(7,fmc,8) # nagai lower tolerances\n",
    "\n",
    "plt.rc('text', usetex=True)\n",
    "msize = 15\n",
    "with plt.style.context(['seaborn-poster']):\n",
    "    plt.scatter(fcon['NReal'][sslni0],fcon['sigy'][sslni0],s=msize)\n",
    "    plt.scatter(fcon['NReal'][ssli0],fcon['sigy'][ssli0],s=msize)\n",
    "#     plt.scatter(fcon['NReal'][sslni3],fcon['sigy'][sslni3],s=msize)\n",
    "    plt.scatter(fcon['NReal'][ssli3],fcon['sigy'][ssli3],s=msize)\n",
    "    plt.scatter(fcon['NReal'][ssli1],fcon['sigy'][ssli1],s=msize)\n",
    "    plt.scatter(fcon['NReal'][ssli2],fcon['sigy'][ssli2],s=msize)\n",
    "    plt.scatter(fcon['NReal'][ssli00],fcon['sigy'][ssli00],s=msize)\n",
    "    plt.scatter(fcon['NReal'][ssli30],fcon['sigy'][ssli30],s=msize)\n",
    "    plt.grid()\n",
    "    plt.legend(['no ibs','ibs smooth','ibs nagai', 'ibs piwilattice', 'ibs piwilatmod','ibs piwi smooth','ibs ng new'])"
   ]
  },
  {
   "cell_type": "code",
   "execution_count": 1277,
   "metadata": {
    "ExecuteTime": {
     "end_time": "2018-02-23T08:36:01.361450Z",
     "start_time": "2018-02-23T08:36:00.932751Z"
    }
   },
   "outputs": [
    {
     "data": {
      "image/png": "[encoded data removed]",
      "text/plain": [
       "<matplotlib.figure.Figure at 0x7f1cc9051898>"
      ]
     },
     "metadata": {},
     "output_type": "display_data"
    }
   ],
   "source": [
    "fmc = len(fcon)\n",
    "ssslni0 = slice(0,fmc,8) #  no ibs smooth\n",
    "ssli0 = slice(1,fmc,8) # ibs smooth\n",
    "sslni3 = slice(2,fmc,8) #  no ibs nagai\n",
    "ssli3 = slice(3,fmc,8) # ibs nagai\n",
    "ssli1 = slice(4,fmc,8) # ibs piwi lattice\n",
    "ssli2 = slice(5,fmc,8) # ibs piwi lattice mod\n",
    "ssli00 = slice(6,fmc,8) # ibs piwi smooth\n",
    "ssli30 = slice(7,fmc,8) # nagai lower tolerances\n",
    "plt.rc('text', usetex=True)\n",
    "msize = 20\n",
    "with plt.style.context(['seaborn-poster']):\n",
    "    plt.scatter(fcon['NReal'][sslni0],fcon['sigx'][sslni0],s=msize)\n",
    "    plt.scatter(fcon['NReal'][ssli0],fcon['sigx'][ssli0],s=msize)\n",
    "#     plt.scatter(fmerge1['NReal'][sslni3],fmerge1['sigx'][sslni3],s=msize, label= 'no ibs')\n",
    "    plt.scatter(fcon['NReal'][ssli3],fcon['sigx'][ssli3],s=msize)\n",
    "    plt.scatter(fcon['NReal'][ssli1],fcon['sigx'][ssli1],s=msize)\n",
    "    plt.scatter(fcon['NReal'][ssli2],fcon['sigx'][ssli2],s=msize)\n",
    "    plt.scatter(fcon['NReal'][ssli00],fcon['sigx'][ssli00],s=msize)\n",
    "    plt.scatter(fcon['NReal'][ssli30],fcon['sigx'][ssli30],s=msize)\n",
    "    plt.grid()\n",
    "    plt.legend(['no ibs','ibs smooth','ibs nagai', 'ibs piwilattice', 'ibs piwilatmod','ibs piwi smooth','ibs ng new'])"
   ]
  },
  {
   "cell_type": "code",
   "execution_count": 1279,
   "metadata": {
    "ExecuteTime": {
     "end_time": "2018-02-23T08:37:08.758909Z",
     "start_time": "2018-02-23T08:37:08.307525Z"
    }
   },
   "outputs": [
    {
     "data": {
      "image/png": "[encoded data removed]",
      "text/plain": [
       "<matplotlib.figure.Figure at 0x7f1cc9051b00>"
      ]
     },
     "metadata": {},
     "output_type": "display_data"
    }
   ],
   "source": [
    "fmc = len(fcon)\n",
    "ssslni0 = slice(0,fmc,8) #  no ibs smooth\n",
    "ssli0 = slice(1,fmc,8) # ibs smooth\n",
    "sslni3 = slice(2,fmc,8) #  no ibs nagai\n",
    "ssli3 = slice(3,fmc,8) # ibs nagai\n",
    "ssli1 = slice(4,fmc,8) # ibs piwi lattice\n",
    "ssli2 = slice(5,fmc,8) # ibs piwi lattice mod\n",
    "ssli00 = slice(6,fmc,8) # ibs piwi smooth\n",
    "ssli30 = slice(7,fmc,8) # nagai lower tolerances\n",
    "plt.rc('text', usetex=True)\n",
    "msize = 20\n",
    "with plt.style.context(['seaborn-poster']):\n",
    "    plt.scatter(fcon['NReal'][sslni0],fcon['sigs'][sslni0],s=msize)\n",
    "    plt.scatter(fcon['NReal'][ssli0],fcon['sigs'][ssli0],s=msize)\n",
    "#     plt.scatter(fmerge1['NReal'][sslni3],fmerge1['sigx'][sslni3],s=msize, label= 'no ibs')\n",
    "    plt.scatter(fcon['NReal'][ssli3],fcon['sigs'][ssli3],s=msize)\n",
    "    plt.scatter(fcon['NReal'][ssli1],fcon['sigs'][ssli1],s=msize)\n",
    "    plt.scatter(fcon['NReal'][ssli2],fcon['sigs'][ssli2],s=msize)\n",
    "    plt.scatter(fcon['NReal'][ssli00],fcon['sigs'][ssli00],s=msize)\n",
    "    plt.scatter(fcon['NReal'][ssli30],fcon['sigs'][ssli30],s=msize)\n",
    "    plt.grid()\n",
    "    plt.legend(['no ibs','ibs smooth','ibs nagai', 'ibs piwilattice', 'ibs piwilatmod','ibs piwi smooth','ibs ng new'])"
   ]
  },
  {
   "cell_type": "code",
   "execution_count": 1030,
   "metadata": {
    "ExecuteTime": {
     "end_time": "2018-02-22T08:09:17.955265Z",
     "start_time": "2018-02-22T08:09:17.937697Z"
    },
    "collapsed": true
   },
   "outputs": [],
   "source": [
    "legends = ['V=0.5 MV I=13 mA - BU',\n",
    "           'V=1.0 MV I=13 mA - BU',\n",
    "           'V=1.5 MV I=13 mA - BU',\n",
    "           'V=2.0 MV I=13 mA - BU',\n",
    "           'V=0.5 MV I=13 mA - ibs BU',\n",
    "           'V=1.0 MV I=13 mA - ibs BU',\n",
    "           'V=1.5 MV I=13 mA - ibs BU',\n",
    "           'V=2.0 MV I=13 mA - ibs BU',\n",
    "           'V=0.5 MV I=13 mA - BU - C',\n",
    "           'V=1.0 MV I=13 mA - BU - C',\n",
    "           'V=1.5 MV I=13 mA - BU - C',\n",
    "           'V=2.0 MV I=13 mA - BU - C',\n",
    "           'V=0.5 MV I=13 mA - ibs BU C',\n",
    "           'V=1.0 MV I=13 mA - ibs BU C',\n",
    "           'V=1.5 MV I=13 mA - ibs BU C' ,\n",
    "           'V=2.0 MV I=13 mA - ibs BU C',\n",
    "           'Rad Equil V=0.5',\n",
    "           'Rad Equil V=1.0',\n",
    "           'Rad Equil V=1.5',\n",
    "           'Rad Equil V=2.0',\n",
    "          ]\n",
    "savex = '/home/tmerten/LATEX/Presentations/IPAC18/RAD_BET_RF_NOIBSvsIBS_BCOUPLvsNOBCOUPL_V_2p0_ex'\n",
    "savey = '/home/tmerten/LATEX/Presentations/IPAC18/RAD_BET_RF_NOIBSvsIBS_BCOUPLvsNOBCOUPL_V_2p0_ey'\n",
    "saves = '/home/tmerten/LATEX/Presentations/IPAC18/RAD_BET_RF_NOIBSvsIBS_BCOUPLvsNOBCOUPL_V_2p0_s'\n",
    "tr = float(simtest.bparams[0]['timeratio'])\n",
    "ssl = slice(3,16,4)\n",
    "ssll = slice(3,16,4)"
   ]
  },
  {
   "cell_type": "code",
   "execution_count": 1052,
   "metadata": {
    "ExecuteTime": {
     "end_time": "2018-02-22T08:15:27.969555Z",
     "start_time": "2018-02-22T08:15:27.954198Z"
    }
   },
   "outputs": [
    {
     "data": {
      "text/plain": [
       "[76, 80, 84, 88]"
      ]
     },
     "execution_count": 1052,
     "metadata": {},
     "output_type": "execute_result"
    }
   ],
   "source": [
    "list(dbemitdc.keys())[ssl]"
   ]
  },
  {
   "cell_type": "code",
   "execution_count": 1054,
   "metadata": {
    "ExecuteTime": {
     "end_time": "2018-02-22T08:15:42.213538Z",
     "start_time": "2018-02-22T08:15:37.266525Z"
    },
    "scrolled": true
   },
   "outputs": [
    {
     "data": {
      "image/png": "[encoded data removed]",
      "text/plain": [
       "<matplotlib.figure.Figure at 0x7f1cc93a6da0>"
      ]
     },
     "metadata": {},
     "output_type": "display_data"
    },
    {
     "data": {
      "image/png": "[encoded data removed]",
      "text/plain": [
       "<matplotlib.figure.Figure at 0x7f1cb93c3da0>"
      ]
     },
     "metadata": {},
     "output_type": "display_data"
    },
    {
     "data": {
      "image/png": "[encoded data removed]",
      "text/plain": [
       "<matplotlib.figure.Figure at 0x7f1cbc5b4b00>"
      ]
     },
     "metadata": {},
     "output_type": "display_data"
    }
   ],
   "source": [
    "sv = True\n",
    "plotEmit(list(dbemitdc.values()), timeratio=tr,col='ex',n=ssl,equilib=list(dbequidc.values()), legendlabels=legends[ssll], save=sv, savefilename=savex)\n",
    "plotEmit(list(dbemitdc.values()), timeratio=tr,col='ey',m=1.2e-10,n=ssl,equilib=list(dbequidc.values()), legendlabels=legends[ssll], save=sv, savefilename=savey)\n",
    "plotEmit(list(dbemitdc.values()), timeratio=tr,col='sigs',m=3.0e-11,n=ssl,equilib=list(dbequidc.values()), legendlabels=legends[ssll], save=sv, savefilename=saves)"
   ]
  },
  {
   "cell_type": "code",
   "execution_count": 1168,
   "metadata": {
    "ExecuteTime": {
     "end_time": "2018-02-22T10:02:24.799273Z",
     "start_time": "2018-02-22T10:02:24.642346Z"
    },
    "collapsed": true
   },
   "outputs": [],
   "source": [
    "ssl = slice(3,112,4)\n",
    "fnpart = pd.DataFrame(pd.concat(dbintdc.values()).groupby('simid')['NReal'].max()[ssl])\n",
    "fequi = pd.concat(dbequidc.values())[ssl].set_index('simid')\n",
    "fmerge1 = fequi.merge(fnpart,left_index=True,right_index=True)\n",
    "fmerge1['sigx'] = np.sqrt(fmerge1['equix']*betx)*1e6\n",
    "fmerge1['sigy'] = np.sqrt(fmerge1['equiy']*bety)*1e6\n",
    "fmerge1['sigs'] = fmerge1.equis*const.c\n",
    "fmerge1 = fmerge1.sort_values(by=['NReal','id'])"
   ]
  },
  {
   "cell_type": "code",
   "execution_count": 1169,
   "metadata": {
    "ExecuteTime": {
     "end_time": "2018-02-22T10:02:25.730109Z",
     "start_time": "2018-02-22T10:02:25.697733Z"
    }
   },
   "outputs": [
    {
     "data": {
      "text/html": [
       "<div>\n",
       "<style>\n",
       "    .dataframe thead tr:only-child th {\n",
       "        text-align: right;\n",
       "    }\n",
       "\n",
       "    .dataframe thead th {\n",
       "        text-align: left;\n",
       "    }\n",
       "\n",
       "    .dataframe tbody tr th {\n",
       "        vertical-align: top;\n",
       "    }\n",
       "</style>\n",
       "<table border=\"1\" class=\"dataframe\">\n",
       "  <thead>\n",
       "    <tr style=\"text-align: right;\">\n",
       "      <th></th>\n",
       "      <th>id</th>\n",
       "      <th>date</th>\n",
       "      <th>equix</th>\n",
       "      <th>equiy</th>\n",
       "      <th>equis</th>\n",
       "      <th>NReal</th>\n",
       "      <th>sigx</th>\n",
       "      <th>sigy</th>\n",
       "      <th>sigs</th>\n",
       "    </tr>\n",
       "    <tr>\n",
       "      <th>simid</th>\n",
       "      <th></th>\n",
       "      <th></th>\n",
       "      <th></th>\n",
       "      <th></th>\n",
       "      <th></th>\n",
       "      <th></th>\n",
       "      <th></th>\n",
       "      <th></th>\n",
       "      <th></th>\n",
       "    </tr>\n",
       "  </thead>\n",
       "  <tbody>\n",
       "    <tr>\n",
       "      <th>92</th>\n",
       "      <td>45</td>\n",
       "      <td>2018-02-22 10:23:46.337661</td>\n",
       "      <td>8.665504e-09</td>\n",
       "      <td>4.756219e-11</td>\n",
       "      <td>8.838650e-12</td>\n",
       "      <td>1.000000e+09</td>\n",
       "      <td>61.649526</td>\n",
       "      <td>32.305072</td>\n",
       "      <td>0.002650</td>\n",
       "    </tr>\n",
       "    <tr>\n",
       "      <th>96</th>\n",
       "      <td>49</td>\n",
       "      <td>2018-02-22 10:25:32.193932</td>\n",
       "      <td>8.672675e-09</td>\n",
       "      <td>4.761100e-11</td>\n",
       "      <td>8.908490e-12</td>\n",
       "      <td>1.000000e+09</td>\n",
       "      <td>61.675029</td>\n",
       "      <td>32.321644</td>\n",
       "      <td>0.002671</td>\n",
       "    </tr>\n",
       "    <tr>\n",
       "      <th>100</th>\n",
       "      <td>53</td>\n",
       "      <td>2018-02-22 10:26:06.372530</td>\n",
       "      <td>8.665504e-09</td>\n",
       "      <td>4.756219e-11</td>\n",
       "      <td>8.838650e-12</td>\n",
       "      <td>5.000000e+09</td>\n",
       "      <td>61.649526</td>\n",
       "      <td>32.305072</td>\n",
       "      <td>0.002650</td>\n",
       "    </tr>\n",
       "    <tr>\n",
       "      <th>104</th>\n",
       "      <td>57</td>\n",
       "      <td>2018-02-22 10:27:50.889145</td>\n",
       "      <td>8.693059e-09</td>\n",
       "      <td>4.767421e-11</td>\n",
       "      <td>9.082270e-12</td>\n",
       "      <td>5.000000e+09</td>\n",
       "      <td>61.747466</td>\n",
       "      <td>32.343092</td>\n",
       "      <td>0.002723</td>\n",
       "    </tr>\n",
       "    <tr>\n",
       "      <th>108</th>\n",
       "      <td>61</td>\n",
       "      <td>2018-02-22 10:28:31.216848</td>\n",
       "      <td>8.665507e-09</td>\n",
       "      <td>4.820475e-11</td>\n",
       "      <td>8.838650e-12</td>\n",
       "      <td>1.000000e+10</td>\n",
       "      <td>61.649537</td>\n",
       "      <td>32.522559</td>\n",
       "      <td>0.002650</td>\n",
       "    </tr>\n",
       "    <tr>\n",
       "      <th>112</th>\n",
       "      <td>65</td>\n",
       "      <td>2018-02-22 10:30:17.990451</td>\n",
       "      <td>8.713306e-09</td>\n",
       "      <td>4.836472e-11</td>\n",
       "      <td>9.241170e-12</td>\n",
       "      <td>1.000000e+10</td>\n",
       "      <td>61.819333</td>\n",
       "      <td>32.576478</td>\n",
       "      <td>0.002770</td>\n",
       "    </tr>\n",
       "    <tr>\n",
       "      <th>116</th>\n",
       "      <td>69</td>\n",
       "      <td>2018-02-22 10:30:53.110356</td>\n",
       "      <td>8.665509e-09</td>\n",
       "      <td>4.863563e-11</td>\n",
       "      <td>8.838650e-12</td>\n",
       "      <td>1.500000e+10</td>\n",
       "      <td>61.649544</td>\n",
       "      <td>32.667587</td>\n",
       "      <td>0.002650</td>\n",
       "    </tr>\n",
       "    <tr>\n",
       "      <th>120</th>\n",
       "      <td>73</td>\n",
       "      <td>2018-02-22 10:32:40.241753</td>\n",
       "      <td>8.730277e-09</td>\n",
       "      <td>4.883172e-11</td>\n",
       "      <td>9.375220e-12</td>\n",
       "      <td>1.500000e+10</td>\n",
       "      <td>61.879506</td>\n",
       "      <td>32.733376</td>\n",
       "      <td>0.002811</td>\n",
       "    </tr>\n",
       "    <tr>\n",
       "      <th>124</th>\n",
       "      <td>77</td>\n",
       "      <td>2018-02-22 10:33:16.571760</td>\n",
       "      <td>8.665515e-09</td>\n",
       "      <td>5.081967e-11</td>\n",
       "      <td>8.838650e-12</td>\n",
       "      <td>2.000000e+10</td>\n",
       "      <td>61.649565</td>\n",
       "      <td>33.393021</td>\n",
       "      <td>0.002650</td>\n",
       "    </tr>\n",
       "    <tr>\n",
       "      <th>128</th>\n",
       "      <td>81</td>\n",
       "      <td>2018-02-22 10:35:03.391361</td>\n",
       "      <td>8.744750e-09</td>\n",
       "      <td>5.104155e-11</td>\n",
       "      <td>9.486320e-12</td>\n",
       "      <td>2.000000e+10</td>\n",
       "      <td>61.930777</td>\n",
       "      <td>33.465839</td>\n",
       "      <td>0.002844</td>\n",
       "    </tr>\n",
       "    <tr>\n",
       "      <th>132</th>\n",
       "      <td>85</td>\n",
       "      <td>2018-02-22 10:35:38.199005</td>\n",
       "      <td>8.665516e-09</td>\n",
       "      <td>5.215387e-11</td>\n",
       "      <td>8.838650e-12</td>\n",
       "      <td>2.500000e+10</td>\n",
       "      <td>61.649569</td>\n",
       "      <td>33.828525</td>\n",
       "      <td>0.002650</td>\n",
       "    </tr>\n",
       "    <tr>\n",
       "      <th>136</th>\n",
       "      <td>89</td>\n",
       "      <td>2018-02-22 10:37:24.354609</td>\n",
       "      <td>8.759106e-09</td>\n",
       "      <td>5.239911e-11</td>\n",
       "      <td>9.584280e-12</td>\n",
       "      <td>2.500000e+10</td>\n",
       "      <td>61.981591</td>\n",
       "      <td>33.907966</td>\n",
       "      <td>0.002873</td>\n",
       "    </tr>\n",
       "    <tr>\n",
       "      <th>140</th>\n",
       "      <td>93</td>\n",
       "      <td>2018-02-22 10:37:59.616483</td>\n",
       "      <td>8.665522e-09</td>\n",
       "      <td>5.350589e-11</td>\n",
       "      <td>8.838650e-12</td>\n",
       "      <td>3.000000e+10</td>\n",
       "      <td>61.649590</td>\n",
       "      <td>34.264199</td>\n",
       "      <td>0.002650</td>\n",
       "    </tr>\n",
       "    <tr>\n",
       "      <th>144</th>\n",
       "      <td>97</td>\n",
       "      <td>2018-02-22 10:39:52.155168</td>\n",
       "      <td>8.771489e-09</td>\n",
       "      <td>5.377485e-11</td>\n",
       "      <td>9.680640e-12</td>\n",
       "      <td>3.000000e+10</td>\n",
       "      <td>62.025388</td>\n",
       "      <td>34.350210</td>\n",
       "      <td>0.002902</td>\n",
       "    </tr>\n",
       "    <tr>\n",
       "      <th>148</th>\n",
       "      <td>101</td>\n",
       "      <td>2018-02-22 10:40:28.289865</td>\n",
       "      <td>8.665531e-09</td>\n",
       "      <td>5.672990e-11</td>\n",
       "      <td>8.838650e-12</td>\n",
       "      <td>3.500000e+10</td>\n",
       "      <td>61.649622</td>\n",
       "      <td>35.281399</td>\n",
       "      <td>0.002650</td>\n",
       "    </tr>\n",
       "    <tr>\n",
       "      <th>152</th>\n",
       "      <td>105</td>\n",
       "      <td>2018-02-22 10:42:16.141684</td>\n",
       "      <td>8.781618e-09</td>\n",
       "      <td>5.701195e-11</td>\n",
       "      <td>9.753370e-12</td>\n",
       "      <td>3.500000e+10</td>\n",
       "      <td>62.061190</td>\n",
       "      <td>35.368996</td>\n",
       "      <td>0.002924</td>\n",
       "    </tr>\n",
       "    <tr>\n",
       "      <th>156</th>\n",
       "      <td>109</td>\n",
       "      <td>2018-02-22 10:42:51.471909</td>\n",
       "      <td>8.665535e-09</td>\n",
       "      <td>5.814136e-11</td>\n",
       "      <td>8.838650e-12</td>\n",
       "      <td>4.000000e+10</td>\n",
       "      <td>61.649636</td>\n",
       "      <td>35.717609</td>\n",
       "      <td>0.002650</td>\n",
       "    </tr>\n",
       "    <tr>\n",
       "      <th>160</th>\n",
       "      <td>113</td>\n",
       "      <td>2018-02-22 10:44:37.508519</td>\n",
       "      <td>8.793391e-09</td>\n",
       "      <td>5.843997e-11</td>\n",
       "      <td>9.830710e-12</td>\n",
       "      <td>4.000000e+10</td>\n",
       "      <td>62.102777</td>\n",
       "      <td>35.809213</td>\n",
       "      <td>0.002947</td>\n",
       "    </tr>\n",
       "    <tr>\n",
       "      <th>164</th>\n",
       "      <td>117</td>\n",
       "      <td>2018-02-22 10:45:14.643169</td>\n",
       "      <td>8.665544e-09</td>\n",
       "      <td>6.174797e-11</td>\n",
       "      <td>8.838650e-12</td>\n",
       "      <td>4.500000e+10</td>\n",
       "      <td>61.649668</td>\n",
       "      <td>36.808755</td>\n",
       "      <td>0.002650</td>\n",
       "    </tr>\n",
       "    <tr>\n",
       "      <th>168</th>\n",
       "      <td>121</td>\n",
       "      <td>2018-02-22 10:47:03.220138</td>\n",
       "      <td>8.800917e-09</td>\n",
       "      <td>6.205723e-11</td>\n",
       "      <td>9.888100e-12</td>\n",
       "      <td>4.500000e+10</td>\n",
       "      <td>62.129347</td>\n",
       "      <td>36.900817</td>\n",
       "      <td>0.002964</td>\n",
       "    </tr>\n",
       "    <tr>\n",
       "      <th>172</th>\n",
       "      <td>125</td>\n",
       "      <td>2018-02-22 10:47:39.019910</td>\n",
       "      <td>8.665553e-09</td>\n",
       "      <td>6.496380e-11</td>\n",
       "      <td>8.838650e-12</td>\n",
       "      <td>5.000000e+10</td>\n",
       "      <td>61.649700</td>\n",
       "      <td>37.755089</td>\n",
       "      <td>0.002650</td>\n",
       "    </tr>\n",
       "    <tr>\n",
       "      <th>176</th>\n",
       "      <td>129</td>\n",
       "      <td>2018-02-22 10:49:26.030216</td>\n",
       "      <td>8.809228e-09</td>\n",
       "      <td>6.528289e-11</td>\n",
       "      <td>9.945830e-12</td>\n",
       "      <td>5.000000e+10</td>\n",
       "      <td>62.158676</td>\n",
       "      <td>37.847698</td>\n",
       "      <td>0.002982</td>\n",
       "    </tr>\n",
       "    <tr>\n",
       "      <th>180</th>\n",
       "      <td>133</td>\n",
       "      <td>2018-02-22 10:50:02.478382</td>\n",
       "      <td>8.665566e-09</td>\n",
       "      <td>7.007465e-11</td>\n",
       "      <td>8.838650e-12</td>\n",
       "      <td>5.500000e+10</td>\n",
       "      <td>61.649747</td>\n",
       "      <td>39.212114</td>\n",
       "      <td>0.002650</td>\n",
       "    </tr>\n",
       "    <tr>\n",
       "      <th>184</th>\n",
       "      <td>137</td>\n",
       "      <td>2018-02-22 10:51:55.104260</td>\n",
       "      <td>8.815452e-09</td>\n",
       "      <td>7.039859e-11</td>\n",
       "      <td>9.984250e-12</td>\n",
       "      <td>5.500000e+10</td>\n",
       "      <td>62.180630</td>\n",
       "      <td>39.302644</td>\n",
       "      <td>0.002993</td>\n",
       "    </tr>\n",
       "    <tr>\n",
       "      <th>188</th>\n",
       "      <td>141</td>\n",
       "      <td>2018-02-22 10:52:33.256867</td>\n",
       "      <td>8.665574e-09</td>\n",
       "      <td>7.323624e-11</td>\n",
       "      <td>8.838650e-12</td>\n",
       "      <td>6.000000e+10</td>\n",
       "      <td>61.649775</td>\n",
       "      <td>40.086931</td>\n",
       "      <td>0.002650</td>\n",
       "    </tr>\n",
       "    <tr>\n",
       "      <th>192</th>\n",
       "      <td>145</td>\n",
       "      <td>2018-02-22 10:54:20.631170</td>\n",
       "      <td>8.822962e-09</td>\n",
       "      <td>7.356866e-11</td>\n",
       "      <td>1.003010e-11</td>\n",
       "      <td>6.000000e+10</td>\n",
       "      <td>62.207111</td>\n",
       "      <td>40.177805</td>\n",
       "      <td>0.003007</td>\n",
       "    </tr>\n",
       "    <tr>\n",
       "      <th>84</th>\n",
       "      <td>37</td>\n",
       "      <td>2018-02-21 16:43:30.113091</td>\n",
       "      <td>8.665586e-09</td>\n",
       "      <td>7.811234e-11</td>\n",
       "      <td>8.838650e-12</td>\n",
       "      <td>6.500000e+10</td>\n",
       "      <td>61.649818</td>\n",
       "      <td>41.399930</td>\n",
       "      <td>0.002650</td>\n",
       "    </tr>\n",
       "    <tr>\n",
       "      <th>88</th>\n",
       "      <td>41</td>\n",
       "      <td>2018-02-21 16:47:04.285203</td>\n",
       "      <td>8.828006e-09</td>\n",
       "      <td>7.845016e-11</td>\n",
       "      <td>1.006880e-11</td>\n",
       "      <td>6.500000e+10</td>\n",
       "      <td>62.224890</td>\n",
       "      <td>41.489357</td>\n",
       "      <td>0.003019</td>\n",
       "    </tr>\n",
       "  </tbody>\n",
       "</table>\n",
       "</div>"
      ],
      "text/plain": [
       "        id                        date         equix         equiy  \\\n",
       "simid                                                                \n",
       "92      45  2018-02-22 10:23:46.337661  8.665504e-09  4.756219e-11   \n",
       "96      49  2018-02-22 10:25:32.193932  8.672675e-09  4.761100e-11   \n",
       "100     53  2018-02-22 10:26:06.372530  8.665504e-09  4.756219e-11   \n",
       "104     57  2018-02-22 10:27:50.889145  8.693059e-09  4.767421e-11   \n",
       "108     61  2018-02-22 10:28:31.216848  8.665507e-09  4.820475e-11   \n",
       "112     65  2018-02-22 10:30:17.990451  8.713306e-09  4.836472e-11   \n",
       "116     69  2018-02-22 10:30:53.110356  8.665509e-09  4.863563e-11   \n",
       "120     73  2018-02-22 10:32:40.241753  8.730277e-09  4.883172e-11   \n",
       "124     77  2018-02-22 10:33:16.571760  8.665515e-09  5.081967e-11   \n",
       "128     81  2018-02-22 10:35:03.391361  8.744750e-09  5.104155e-11   \n",
       "132     85  2018-02-22 10:35:38.199005  8.665516e-09  5.215387e-11   \n",
       "136     89  2018-02-22 10:37:24.354609  8.759106e-09  5.239911e-11   \n",
       "140     93  2018-02-22 10:37:59.616483  8.665522e-09  5.350589e-11   \n",
       "144     97  2018-02-22 10:39:52.155168  8.771489e-09  5.377485e-11   \n",
       "148    101  2018-02-22 10:40:28.289865  8.665531e-09  5.672990e-11   \n",
       "152    105  2018-02-22 10:42:16.141684  8.781618e-09  5.701195e-11   \n",
       "156    109  2018-02-22 10:42:51.471909  8.665535e-09  5.814136e-11   \n",
       "160    113  2018-02-22 10:44:37.508519  8.793391e-09  5.843997e-11   \n",
       "164    117  2018-02-22 10:45:14.643169  8.665544e-09  6.174797e-11   \n",
       "168    121  2018-02-22 10:47:03.220138  8.800917e-09  6.205723e-11   \n",
       "172    125  2018-02-22 10:47:39.019910  8.665553e-09  6.496380e-11   \n",
       "176    129  2018-02-22 10:49:26.030216  8.809228e-09  6.528289e-11   \n",
       "180    133  2018-02-22 10:50:02.478382  8.665566e-09  7.007465e-11   \n",
       "184    137  2018-02-22 10:51:55.104260  8.815452e-09  7.039859e-11   \n",
       "188    141  2018-02-22 10:52:33.256867  8.665574e-09  7.323624e-11   \n",
       "192    145  2018-02-22 10:54:20.631170  8.822962e-09  7.356866e-11   \n",
       "84      37  2018-02-21 16:43:30.113091  8.665586e-09  7.811234e-11   \n",
       "88      41  2018-02-21 16:47:04.285203  8.828006e-09  7.845016e-11   \n",
       "\n",
       "              equis         NReal       sigx       sigy      sigs  \n",
       "simid                                                              \n",
       "92     8.838650e-12  1.000000e+09  61.649526  32.305072  0.002650  \n",
       "96     8.908490e-12  1.000000e+09  61.675029  32.321644  0.002671  \n",
       "100    8.838650e-12  5.000000e+09  61.649526  32.305072  0.002650  \n",
       "104    9.082270e-12  5.000000e+09  61.747466  32.343092  0.002723  \n",
       "108    8.838650e-12  1.000000e+10  61.649537  32.522559  0.002650  \n",
       "112    9.241170e-12  1.000000e+10  61.819333  32.576478  0.002770  \n",
       "116    8.838650e-12  1.500000e+10  61.649544  32.667587  0.002650  \n",
       "120    9.375220e-12  1.500000e+10  61.879506  32.733376  0.002811  \n",
       "124    8.838650e-12  2.000000e+10  61.649565  33.393021  0.002650  \n",
       "128    9.486320e-12  2.000000e+10  61.930777  33.465839  0.002844  \n",
       "132    8.838650e-12  2.500000e+10  61.649569  33.828525  0.002650  \n",
       "136    9.584280e-12  2.500000e+10  61.981591  33.907966  0.002873  \n",
       "140    8.838650e-12  3.000000e+10  61.649590  34.264199  0.002650  \n",
       "144    9.680640e-12  3.000000e+10  62.025388  34.350210  0.002902  \n",
       "148    8.838650e-12  3.500000e+10  61.649622  35.281399  0.002650  \n",
       "152    9.753370e-12  3.500000e+10  62.061190  35.368996  0.002924  \n",
       "156    8.838650e-12  4.000000e+10  61.649636  35.717609  0.002650  \n",
       "160    9.830710e-12  4.000000e+10  62.102777  35.809213  0.002947  \n",
       "164    8.838650e-12  4.500000e+10  61.649668  36.808755  0.002650  \n",
       "168    9.888100e-12  4.500000e+10  62.129347  36.900817  0.002964  \n",
       "172    8.838650e-12  5.000000e+10  61.649700  37.755089  0.002650  \n",
       "176    9.945830e-12  5.000000e+10  62.158676  37.847698  0.002982  \n",
       "180    8.838650e-12  5.500000e+10  61.649747  39.212114  0.002650  \n",
       "184    9.984250e-12  5.500000e+10  62.180630  39.302644  0.002993  \n",
       "188    8.838650e-12  6.000000e+10  61.649775  40.086931  0.002650  \n",
       "192    1.003010e-11  6.000000e+10  62.207111  40.177805  0.003007  \n",
       "84     8.838650e-12  6.500000e+10  61.649818  41.399930  0.002650  \n",
       "88     1.006880e-11  6.500000e+10  62.224890  41.489357  0.003019  "
      ]
     },
     "execution_count": 1169,
     "metadata": {},
     "output_type": "execute_result"
    }
   ],
   "source": [
    "fmerge1"
   ]
  },
  {
   "cell_type": "code",
   "execution_count": 1170,
   "metadata": {
    "ExecuteTime": {
     "end_time": "2018-02-22T10:02:32.310642Z",
     "start_time": "2018-02-22T10:02:31.827181Z"
    },
    "scrolled": false
   },
   "outputs": [
    {
     "data": {
      "image/png": "[encoded data removed]",
      "text/plain": [
       "<matplotlib.figure.Figure at 0x7f1cba2aa278>"
      ]
     },
     "metadata": {},
     "output_type": "display_data"
    }
   ],
   "source": [
    "sslni = slice(0,28,2)\n",
    "ssli = slice(1,28,2)\n",
    "plt.rc('text', usetex=True)\n",
    "with plt.style.context(['seaborn-poster']):\n",
    "    plt.scatter(fmerge1['NReal'][sslni],fmerge1['sigy'][sslni],s=20)\n",
    "    plt.scatter(fmerge1['NReal'][ssli],fmerge1['sigy'][ssli],s=20)\n",
    "    plt.grid()"
   ]
  },
  {
   "cell_type": "code",
   "execution_count": 1171,
   "metadata": {
    "ExecuteTime": {
     "end_time": "2018-02-22T10:02:38.608921Z",
     "start_time": "2018-02-22T10:02:38.355650Z"
    }
   },
   "outputs": [
    {
     "data": {
      "image/png": "[encoded data removed]",
      "text/plain": [
       "<matplotlib.figure.Figure at 0x7f1ccb155c50>"
      ]
     },
     "metadata": {},
     "output_type": "display_data"
    }
   ],
   "source": [
    "sslni = slice(0,28,2)\n",
    "ssli = slice(1,28,2)\n",
    "plt.rc('text', usetex=True)\n",
    "with plt.style.context(['seaborn-poster']):\n",
    "    plt.scatter(fmerge1['NReal'][sslni],fmerge1['sigx'][sslni],s=20)\n",
    "    plt.scatter(fmerge1['NReal'][ssli],fmerge1['sigx'][ssli],s=20)\n",
    "    plt.grid()"
   ]
  },
  {
   "cell_type": "code",
   "execution_count": 1172,
   "metadata": {
    "ExecuteTime": {
     "end_time": "2018-02-22T10:03:06.425279Z",
     "start_time": "2018-02-22T10:03:06.082076Z"
    }
   },
   "outputs": [
    {
     "data": {
      "image/png": "[encoded data removed]",
      "text/plain": [
       "<matplotlib.figure.Figure at 0x7f1cc90597b8>"
      ]
     },
     "metadata": {},
     "output_type": "display_data"
    }
   ],
   "source": [
    "sslni = slice(0,28,2)\n",
    "ssli = slice(1,28,2)\n",
    "plt.rc('text', usetex=True)\n",
    "with plt.style.context(['seaborn-poster']):\n",
    "    plt.scatter(fmerge1['NReal'][sslni],fmerge1['sigs'][sslni],s=20)\n",
    "    plt.scatter(fmerge1['NReal'][ssli],fmerge1['sigs'][ssli],s=20)\n",
    "    plt.grid()"
   ]
  },
  {
   "cell_type": "code",
   "execution_count": 1067,
   "metadata": {
    "ExecuteTime": {
     "end_time": "2018-02-22T08:21:31.566895Z",
     "start_time": "2018-02-22T08:21:29.521899Z"
    }
   },
   "outputs": [
    {
     "data": {
      "text/plain": [
       "(8e-09, 1e-08)"
      ]
     },
     "execution_count": 1067,
     "metadata": {},
     "output_type": "execute_result"
    },
    {
     "data": {
      "image/png": "[encoded data removed]",
      "text/plain": [
       "<matplotlib.figure.Figure at 0x7f1cbaa0c550>"
      ]
     },
     "metadata": {},
     "output_type": "display_data"
    }
   ],
   "source": [
    "pd.concat(dbequidc.values())[ssl].plot.scatter(x='simid',y='equix')\n",
    "plt.ylim(0.8e-8,1e-8)"
   ]
  },
  {
   "cell_type": "code",
   "execution_count": 1061,
   "metadata": {
    "ExecuteTime": {
     "end_time": "2018-02-22T08:18:21.128115Z",
     "start_time": "2018-02-22T08:18:21.080573Z"
    }
   },
   "outputs": [
    {
     "data": {
      "text/plain": [
       "array([ 61.66834419,  62.24974547,  61.6498177 ,  62.2248901 ,\n",
       "        61.66959592,  61.66959592,  61.72882149,  61.72882149,\n",
       "        61.78795835,  61.78795835,  61.83952816,  61.83952816,\n",
       "        61.88670368,  61.88670368,  61.93167622,  61.93167622,\n",
       "        61.97406489,  61.97406489,  62.01328441,  62.01328441,\n",
       "        62.05130936,  62.05130936,  62.08723064,  62.08723064,\n",
       "        62.1247126 ,  62.1247126 ,  62.15643542,  62.15643542,\n",
       "        62.19289895,  62.19289895])"
      ]
     },
     "execution_count": 1061,
     "metadata": {},
     "output_type": "execute_result"
    }
   ],
   "source": [
    "\n",
    "leqx = (np.sqrt(pd.concat(dbequidc.values()).equix*betx).values *1e6)[ssl]\n",
    "leqx"
   ]
  },
  {
   "cell_type": "code",
   "execution_count": 1055,
   "metadata": {
    "ExecuteTime": {
     "end_time": "2018-02-22T08:15:42.228510Z",
     "start_time": "2018-02-22T08:15:42.214900Z"
    }
   },
   "outputs": [
    {
     "name": "stdout",
     "output_type": "stream",
     "text": [
      "61.6683441858 41.0775078342 0.0052995212178\n",
      "62.2497454679 41.1143166825 0.00604105786267\n"
     ]
    }
   ],
   "source": [
    "print(np.sqrt(dbequidc[76].equix*betx).values[0] *1e6, np.sqrt(dbequidc[76].equiy*bety).values[0]*1e6, dbequidc[76].equis.values[0]*const.c*2)\n",
    "print(np.sqrt(dbequidc[80].equix*betx).values[0] *1e6, np.sqrt(dbequidc[80].equiy*bety).values[0]*1e6, dbequidc[80].equis.values[0]*const.c*2)"
   ]
  },
  {
   "cell_type": "code",
   "execution_count": 855,
   "metadata": {
    "ExecuteTime": {
     "end_time": "2018-02-21T15:16:00.072318Z",
     "start_time": "2018-02-21T15:16:00.051134Z"
    }
   },
   "outputs": [
    {
     "data": {
      "text/html": [
       "<div>\n",
       "<style>\n",
       "    .dataframe thead tr:only-child th {\n",
       "        text-align: right;\n",
       "    }\n",
       "\n",
       "    .dataframe thead th {\n",
       "        text-align: left;\n",
       "    }\n",
       "\n",
       "    .dataframe tbody tr th {\n",
       "        vertical-align: top;\n",
       "    }\n",
       "</style>\n",
       "<table border=\"1\" class=\"dataframe\">\n",
       "  <thead>\n",
       "    <tr style=\"text-align: right;\">\n",
       "      <th></th>\n",
       "      <th>id</th>\n",
       "      <th>simid</th>\n",
       "      <th>date</th>\n",
       "      <th>equix</th>\n",
       "      <th>equiy</th>\n",
       "      <th>equis</th>\n",
       "    </tr>\n",
       "  </thead>\n",
       "  <tbody>\n",
       "    <tr>\n",
       "      <th>32</th>\n",
       "      <td>33</td>\n",
       "      <td>80</td>\n",
       "      <td>2018-02-21 16:12:31.078808</td>\n",
       "      <td>8.835060e-09</td>\n",
       "      <td>7.703828e-11</td>\n",
       "      <td>1.007540e-11</td>\n",
       "    </tr>\n",
       "  </tbody>\n",
       "</table>\n",
       "</div>"
      ],
      "text/plain": [
       "    id  simid                        date         equix         equiy  \\\n",
       "32  33     80  2018-02-21 16:12:31.078808  8.835060e-09  7.703828e-11   \n",
       "\n",
       "           equis  \n",
       "32  1.007540e-11  "
      ]
     },
     "execution_count": 855,
     "metadata": {},
     "output_type": "execute_result"
    }
   ],
   "source": [
    "dbequidc[80]"
   ]
  },
  {
   "cell_type": "code",
   "execution_count": 748,
   "metadata": {
    "ExecuteTime": {
     "end_time": "2018-02-21T13:54:19.453028Z",
     "start_time": "2018-02-21T13:54:19.432413Z"
    }
   },
   "outputs": [
    {
     "data": {
      "text/plain": [
       "23    0.008764\n",
       "24    0.007795\n",
       "Name: equis, dtype: float64"
      ]
     },
     "execution_count": 748,
     "metadata": {},
     "output_type": "execute_result"
    }
   ],
   "source": [
    "pd.concat(list(dbequidc.values())[-2:])['equis']*2*const.c"
   ]
  },
  {
   "cell_type": "code",
   "execution_count": 727,
   "metadata": {
    "ExecuteTime": {
     "end_time": "2018-02-21T13:47:29.027866Z",
     "start_time": "2018-02-21T13:47:29.013393Z"
    }
   },
   "outputs": [
    {
     "data": {
      "text/plain": [
       "(0.008693981282, 0.0077946039080000005)"
      ]
     },
     "execution_count": 727,
     "metadata": {},
     "output_type": "execute_result"
    }
   ],
   "source": [
    "1.45e-11*const.c*2, 1.3e-11*const.c*2"
   ]
  },
  {
   "cell_type": "code",
   "execution_count": 939,
   "metadata": {
    "ExecuteTime": {
     "end_time": "2018-02-22T06:32:31.053096Z",
     "start_time": "2018-02-22T06:32:31.030675Z"
    }
   },
   "outputs": [
    {
     "data": {
      "text/html": [
       "<div>\n",
       "<style>\n",
       "    .dataframe thead tr:only-child th {\n",
       "        text-align: right;\n",
       "    }\n",
       "\n",
       "    .dataframe thead th {\n",
       "        text-align: left;\n",
       "    }\n",
       "\n",
       "    .dataframe tbody tr th {\n",
       "        vertical-align: top;\n",
       "    }\n",
       "</style>\n",
       "<table border=\"1\" class=\"dataframe\">\n",
       "  <thead>\n",
       "    <tr style=\"text-align: right;\">\n",
       "      <th></th>\n",
       "      <th>BucketNumber</th>\n",
       "      <th>RealNumberParticles</th>\n",
       "      <th>emitx</th>\n",
       "      <th>emity</th>\n",
       "      <th>sigs</th>\n",
       "    </tr>\n",
       "  </thead>\n",
       "  <tbody>\n",
       "    <tr>\n",
       "      <th>0</th>\n",
       "      <td>0</td>\n",
       "      <td>5.000000e+09</td>\n",
       "      <td>7.000000e-09</td>\n",
       "      <td>1.200000e-10</td>\n",
       "      <td>0.005</td>\n",
       "    </tr>\n",
       "  </tbody>\n",
       "</table>\n",
       "</div>"
      ],
      "text/plain": [
       "   BucketNumber  RealNumberParticles         emitx         emity   sigs\n",
       "0             0         5.000000e+09  7.000000e-09  1.200000e-10  0.005"
      ]
     },
     "execution_count": 939,
     "metadata": {},
     "output_type": "execute_result"
    }
   ],
   "source": [
    "infile = 'STE_BunchFile1.in'\n",
    "finfile = pd.read_csv(infile, delim_whitespace=True)\n",
    "finfile.loc[0,'RealNumberParticles'] = 0.5e10\n",
    "finfile.to_csv(infile, sep='\\t',index=False)"
   ]
  },
  {
   "cell_type": "code",
   "execution_count": 962,
   "metadata": {
    "ExecuteTime": {
     "end_time": "2018-02-22T06:46:59.301037Z",
     "start_time": "2018-02-22T06:46:59.285131Z"
    }
   },
   "outputs": [],
   "source": [
    "setupfile = 'STE.in'\n",
    "fsetupfile = pd.read_csv(setupfile, delim_whitespace=True,names=['key','value','comment'])\n",
    "fsetupfile = fsetupfile.set_index('key')\n",
    "fsetupfile.loc['RFVoltage1','value'] = 0.5e6\n",
    "fsetupfile.to_csv('test'+setupfile,sep='\\t',header=None)"
   ]
  },
  {
   "cell_type": "code",
   "execution_count": 549,
   "metadata": {
    "ExecuteTime": {
     "end_time": "2018-02-21T12:44:50.405669Z",
     "start_time": "2018-02-21T12:44:50.388931Z"
    },
    "collapsed": true
   },
   "outputs": [],
   "source": [
    "legends = ['I=16 mA','Rad Equil']\n",
    "savex = '/home/tmerten/LATEX/Presentations/IPAC18/RAD_BET_RF_Volt_0p5_ex'\n",
    "savey = '/home/tmerten/LATEX/Presentations/IPAC18/RAD_BET_RF_Volt_0p5_ey'\n",
    "saves = '/home/tmerten/LATEX/Presentations/IPAC18/RAD_BET_RF_Volt_0p5_s'\n",
    "tr = int(simtest.bparams[0]['timeratio'])"
   ]
  },
  {
   "cell_type": "code",
   "execution_count": 901,
   "metadata": {
    "ExecuteTime": {
     "end_time": "2018-02-21T15:47:04.698329Z",
     "start_time": "2018-02-21T15:46:37.645110Z"
    },
    "scrolled": false
   },
   "outputs": [
    {
     "name": "stdout",
     "output_type": "stream",
     "text": [
      "No bunchFile2 provided - returning empty frame \n",
      "Job Done\n"
     ]
    },
    {
     "data": {
      "image/png": "[encoded data removed]",
      "text/plain": [
       "<matplotlib.figure.Figure at 0x7f1cc96481d0>"
      ]
     },
     "metadata": {},
     "output_type": "display_data"
    },
    {
     "data": {
      "image/png": "[encoded data removed]",
      "text/plain": [
       "<matplotlib.figure.Figure at 0x7f1cca54f4e0>"
      ]
     },
     "metadata": {},
     "output_type": "display_data"
    },
    {
     "data": {
      "image/png": "[encoded data removed]",
      "text/plain": [
       "<matplotlib.figure.Figure at 0x7f1cca73e208>"
      ]
     },
     "metadata": {},
     "output_type": "display_data"
    },
    {
     "name": "stdout",
     "output_type": "stream",
     "text": [
      "adding to database\n",
      "adding to database\n",
      "adding to database\n",
      "adding to database\n"
     ]
    }
   ],
   "source": [
    "simtest = steSim('STE.in')\n",
    "simtest.runsim()\n",
    "simtest.load_distributions()\n",
    "simtest.load_evolution_tables()\n",
    "\n",
    "plotEmit(list(simtest.emit.values()),n=slice(0,1,None),col='ex',nmean=10,timeratio=tr, legendlabels=legends,save=False, savefilename=savex)\n",
    "plotEmit(list(simtest.emit.values()),n=slice(0,1,None),col='ey',nmean=10,timeratio=tr, legendlabels=legends,save=False, savefilename=savey)\n",
    "plotEmit(list(simtest.emit.values()),n=slice(0,1,None),col='sigs',nmean=10,timeratio=tr, legendlabels=legends,save=False, savefilename=saves)\n",
    "\n",
    "simtest.addsimresultsdb()"
   ]
  },
  {
   "cell_type": "code",
   "execution_count": 812,
   "metadata": {
    "ExecuteTime": {
     "end_time": "2018-02-21T14:58:14.387905Z",
     "start_time": "2018-02-21T14:58:14.373138Z"
    },
    "collapsed": true
   },
   "outputs": [],
   "source": [
    "betx= 0.438597\n",
    "bety = 21.94217"
   ]
  },
  {
   "cell_type": "code",
   "execution_count": 888,
   "metadata": {
    "ExecuteTime": {
     "end_time": "2018-02-21T15:42:11.763099Z",
     "start_time": "2018-02-21T15:42:11.751483Z"
    }
   },
   "outputs": [
    {
     "data": {
      "text/plain": [
       "4.1370149383341606e-05"
      ]
     },
     "execution_count": 888,
     "metadata": {},
     "output_type": "execute_result"
    }
   ],
   "source": [
    "np.sqrt(0.78e-10*bety)"
   ]
  },
  {
   "cell_type": "code",
   "execution_count": 902,
   "metadata": {
    "ExecuteTime": {
     "end_time": "2018-02-21T15:47:04.743008Z",
     "start_time": "2018-02-21T15:47:04.700252Z"
    }
   },
   "outputs": [
    {
     "data": {
      "text/html": [
       "<div>\n",
       "<style>\n",
       "    .dataframe thead tr:only-child th {\n",
       "        text-align: right;\n",
       "    }\n",
       "\n",
       "    .dataframe thead th {\n",
       "        text-align: left;\n",
       "    }\n",
       "\n",
       "    .dataframe tbody tr th {\n",
       "        vertical-align: top;\n",
       "    }\n",
       "</style>\n",
       "<table border=\"1\" class=\"dataframe\">\n",
       "  <thead>\n",
       "    <tr style=\"text-align: right;\">\n",
       "      <th></th>\n",
       "      <th>id</th>\n",
       "      <th>simid</th>\n",
       "      <th>date</th>\n",
       "      <th>equix</th>\n",
       "      <th>equiy</th>\n",
       "      <th>equis</th>\n",
       "    </tr>\n",
       "  </thead>\n",
       "  <tbody>\n",
       "    <tr>\n",
       "      <th>36</th>\n",
       "      <td>37</td>\n",
       "      <td>84</td>\n",
       "      <td>2018-02-21 16:43:30.113091</td>\n",
       "      <td>8.665586e-09</td>\n",
       "      <td>7.811234e-11</td>\n",
       "      <td>8.838650e-12</td>\n",
       "    </tr>\n",
       "    <tr>\n",
       "      <th>37</th>\n",
       "      <td>38</td>\n",
       "      <td>85</td>\n",
       "      <td>2018-02-21 16:44:28.839623</td>\n",
       "      <td>8.771718e-09</td>\n",
       "      <td>7.843456e-11</td>\n",
       "      <td>2.060080e-11</td>\n",
       "    </tr>\n",
       "    <tr>\n",
       "      <th>38</th>\n",
       "      <td>39</td>\n",
       "      <td>86</td>\n",
       "      <td>2018-02-21 16:45:32.609788</td>\n",
       "      <td>8.795886e-09</td>\n",
       "      <td>7.839959e-11</td>\n",
       "      <td>1.388900e-11</td>\n",
       "    </tr>\n",
       "    <tr>\n",
       "      <th>39</th>\n",
       "      <td>40</td>\n",
       "      <td>87</td>\n",
       "      <td>2018-02-21 16:46:12.277877</td>\n",
       "      <td>8.815369e-09</td>\n",
       "      <td>7.842742e-11</td>\n",
       "      <td>1.141200e-11</td>\n",
       "    </tr>\n",
       "    <tr>\n",
       "      <th>40</th>\n",
       "      <td>41</td>\n",
       "      <td>88</td>\n",
       "      <td>2018-02-21 16:47:04.285203</td>\n",
       "      <td>8.828006e-09</td>\n",
       "      <td>7.845016e-11</td>\n",
       "      <td>1.006880e-11</td>\n",
       "    </tr>\n",
       "  </tbody>\n",
       "</table>\n",
       "</div>"
      ],
      "text/plain": [
       "    id  simid                       date         equix         equiy  \\\n",
       "36  37     84 2018-02-21 16:43:30.113091  8.665586e-09  7.811234e-11   \n",
       "37  38     85 2018-02-21 16:44:28.839623  8.771718e-09  7.843456e-11   \n",
       "38  39     86 2018-02-21 16:45:32.609788  8.795886e-09  7.839959e-11   \n",
       "39  40     87 2018-02-21 16:46:12.277877  8.815369e-09  7.842742e-11   \n",
       "40  41     88 2018-02-21 16:47:04.285203  8.828006e-09  7.845016e-11   \n",
       "\n",
       "           equis  \n",
       "36  8.838650e-12  \n",
       "37  2.060080e-11  \n",
       "38  1.388900e-11  \n",
       "39  1.141200e-11  \n",
       "40  1.006880e-11  "
      ]
     },
     "execution_count": 902,
     "metadata": {},
     "output_type": "execute_result"
    }
   ],
   "source": [
    "simtest.getDBTable('equi').tail()"
   ]
  },
  {
   "cell_type": "code",
   "execution_count": 1141,
   "metadata": {
    "ExecuteTime": {
     "end_time": "2018-02-22T09:20:22.143159Z",
     "start_time": "2018-02-22T09:20:19.090633Z"
    }
   },
   "outputs": [],
   "source": [
    "for val in list(range(89,193)):\n",
    "    values = (val, )\n",
    "    simtest.engine.execute(\"delete from equi where simid=?\", values)\n",
    "    simtest.engine.execute(\"delete from ibs where simid=?\", values)\n",
    "    simtest.engine.execute(\"delete from emit where simid=?\", values)\n",
    "    simtest.engine.execute(\"delete from intensity where simid=?\", values)"
   ]
  },
  {
   "cell_type": "code",
   "execution_count": 884,
   "metadata": {
    "ExecuteTime": {
     "end_time": "2018-02-21T15:41:49.801397Z",
     "start_time": "2018-02-21T15:41:49.746344Z"
    }
   },
   "outputs": [
    {
     "data": {
      "text/plain": [
       "<sqlalchemy.engine.result.ResultProxy at 0x7f1cbd2aa470>"
      ]
     },
     "execution_count": 884,
     "metadata": {},
     "output_type": "execute_result"
    }
   ],
   "source": [
    "simtest.engine.execute(\"delete from equi where simid=?\", values)\n",
    "simtest.engine.execute(\"delete from ibs where simid=?\", values)\n",
    "simtest.engine.execute(\"delete from emit where simid=?\", values)\n",
    "simtest.engine.execute(\"delete from intensity where simid=?\", values)\n"
   ]
  },
  {
   "cell_type": "code",
   "execution_count": 814,
   "metadata": {
    "ExecuteTime": {
     "end_time": "2018-02-21T14:58:27.531841Z",
     "start_time": "2018-02-21T14:58:27.494213Z"
    }
   },
   "outputs": [
    {
     "data": {
      "text/html": [
       "<div>\n",
       "<style>\n",
       "    .dataframe thead tr:only-child th {\n",
       "        text-align: right;\n",
       "    }\n",
       "\n",
       "    .dataframe thead th {\n",
       "        text-align: left;\n",
       "    }\n",
       "\n",
       "    .dataframe tbody tr th {\n",
       "        vertical-align: top;\n",
       "    }\n",
       "</style>\n",
       "<table border=\"1\" class=\"dataframe\">\n",
       "  <thead>\n",
       "    <tr style=\"text-align: right;\">\n",
       "      <th></th>\n",
       "      <th>id</th>\n",
       "      <th>simid</th>\n",
       "      <th>date</th>\n",
       "      <th>equix</th>\n",
       "      <th>equiy</th>\n",
       "      <th>equis</th>\n",
       "    </tr>\n",
       "  </thead>\n",
       "  <tbody>\n",
       "    <tr>\n",
       "      <th>25</th>\n",
       "      <td>26</td>\n",
       "      <td>73</td>\n",
       "      <td>2018-02-21 15:50:50.891479</td>\n",
       "      <td>8.671362e-09</td>\n",
       "      <td>8.841050e-11</td>\n",
       "      <td>1.916030e-11</td>\n",
       "    </tr>\n",
       "    <tr>\n",
       "      <th>26</th>\n",
       "      <td>27</td>\n",
       "      <td>74</td>\n",
       "      <td>2018-02-21 15:53:51.241127</td>\n",
       "      <td>8.670795e-09</td>\n",
       "      <td>8.831850e-11</td>\n",
       "      <td>1.251350e-11</td>\n",
       "    </tr>\n",
       "    <tr>\n",
       "      <th>27</th>\n",
       "      <td>28</td>\n",
       "      <td>75</td>\n",
       "      <td>2018-02-21 15:54:48.491910</td>\n",
       "      <td>8.670795e-09</td>\n",
       "      <td>8.831850e-11</td>\n",
       "      <td>1.011300e-11</td>\n",
       "    </tr>\n",
       "    <tr>\n",
       "      <th>28</th>\n",
       "      <td>29</td>\n",
       "      <td>76</td>\n",
       "      <td>2018-02-21 15:55:31.598953</td>\n",
       "      <td>8.670795e-09</td>\n",
       "      <td>8.831850e-11</td>\n",
       "      <td>8.838650e-12</td>\n",
       "    </tr>\n",
       "    <tr>\n",
       "      <th>29</th>\n",
       "      <td>30</td>\n",
       "      <td>77</td>\n",
       "      <td>2018-02-21 15:56:52.230977</td>\n",
       "      <td>8.772821e-09</td>\n",
       "      <td>8.848465e-11</td>\n",
       "      <td>2.053920e-11</td>\n",
       "    </tr>\n",
       "  </tbody>\n",
       "</table>\n",
       "</div>"
      ],
      "text/plain": [
       "    id  simid                       date         equix         equiy  \\\n",
       "25  26     73 2018-02-21 15:50:50.891479  8.671362e-09  8.841050e-11   \n",
       "26  27     74 2018-02-21 15:53:51.241127  8.670795e-09  8.831850e-11   \n",
       "27  28     75 2018-02-21 15:54:48.491910  8.670795e-09  8.831850e-11   \n",
       "28  29     76 2018-02-21 15:55:31.598953  8.670795e-09  8.831850e-11   \n",
       "29  30     77 2018-02-21 15:56:52.230977  8.772821e-09  8.848465e-11   \n",
       "\n",
       "           equis  \n",
       "25  1.916030e-11  \n",
       "26  1.251350e-11  \n",
       "27  1.011300e-11  \n",
       "28  8.838650e-12  \n",
       "29  2.053920e-11  "
      ]
     },
     "execution_count": 814,
     "metadata": {},
     "output_type": "execute_result"
    }
   ],
   "source": [
    "simtest.getDBTable('equi').tail()"
   ]
  },
  {
   "cell_type": "code",
   "execution_count": 800,
   "metadata": {
    "ExecuteTime": {
     "end_time": "2018-02-21T14:53:16.562137Z",
     "start_time": "2018-02-21T14:53:16.550122Z"
    }
   },
   "outputs": [
    {
     "data": {
      "text/plain": [
       "4.1012193308819757e-05"
      ]
     },
     "execution_count": 800,
     "metadata": {},
     "output_type": "execute_result"
    }
   ],
   "source": [
    "np.sqrt(0.841e-10*20)"
   ]
  },
  {
   "cell_type": "code",
   "execution_count": 770,
   "metadata": {
    "ExecuteTime": {
     "end_time": "2018-02-21T14:39:54.543713Z",
     "start_time": "2018-02-21T14:39:54.532430Z"
    }
   },
   "outputs": [
    {
     "name": "stdout",
     "output_type": "stream",
     "text": [
      "Already saved to db\n"
     ]
    }
   ],
   "source": [
    "simtest.addsimresultsdb()"
   ]
  },
  {
   "cell_type": "code",
   "execution_count": 571,
   "metadata": {
    "ExecuteTime": {
     "end_time": "2018-02-21T12:55:59.905067Z",
     "start_time": "2018-02-21T12:55:59.884985Z"
    }
   },
   "outputs": [
    {
     "data": {
      "text/plain": [
       "OrderedDict([(0,\n",
       "              OrderedDict([('Bucket', '0'),\n",
       "                           ('Energy', 'lost'),\n",
       "                           ('tunex', '17.8445'),\n",
       "                           ('tuney', '6.7241'),\n",
       "                           ('trev', '8.00582e-07'),\n",
       "                           ('timeratio', '200'),\n",
       "                           ('particleType', 'electron'),\n",
       "                           ('particleAtomNumber', '1'),\n",
       "                           ('particleCharge', '-1'),\n",
       "                           ('methodRadiationIntegrals', '2'),\n",
       "                           ('tfsfile',\n",
       "                            '/home/tmerten/mad/2018-02-14/madin/here.tfs'),\n",
       "                           ('numberMacroParticles', '20000'),\n",
       "                           ('methodLongitudinalDist', '2'),\n",
       "                           ('acceleratorLength', '240.008'),\n",
       "                           ('betxRingAverage', '2.14064'),\n",
       "                           ('betyRingAverage', '5.68084'),\n",
       "                           ('gammaTransition', '37.8409'),\n",
       "                           ('DipoleBendingRadius', '4.36148'),\n",
       "                           ('ParticleRadius', '2.81794e-15'),\n",
       "                           ('ParticleEnergy', '1.7e+09'),\n",
       "                           ('cq', '3.83194e-13'),\n",
       "                           ('gammar', '3326.82'),\n",
       "                           ('eta', '0.000698266'),\n",
       "                           ('omegas', '39831.1'),\n",
       "                           ('p0', '1.7e+09'),\n",
       "                           ('ParticleRestEnergy', '510999'),\n",
       "                           ('angularFrequency', '7.84827e+06'),\n",
       "                           ('betar', '1'),\n",
       "                           ('delta', '0'),\n",
       "                           ('t', '0.00828725'),\n",
       "                           ('phis', '-0.173309'),\n",
       "                           ('search', '0.785398'),\n",
       "                           ('searchWidth', '3.14159'),\n",
       "                           ('omega0', '7.84827e+06'),\n",
       "                           ('seed', '12459'),\n",
       "                           ('betx', '2.14064'),\n",
       "                           ('bety', '5.68084'),\n",
       "                           ('emitx', '8.82387e-09'),\n",
       "                           ('emity', '1.56529e-12'),\n",
       "                           ('sigs', '1.25135e-11'),\n",
       "                           ('v0', '1e+06'),\n",
       "                           ('v1', '0'),\n",
       "                           ('v2', '0'),\n",
       "                           ('h0', '400'),\n",
       "                           ('h1', '1'),\n",
       "                           ('h2', '1'),\n",
       "                           ('charge', '-1'),\n",
       "                           ('tauhat', '1.11114e-09'),\n",
       "                           ('betatroncoupling', '0.02'),\n",
       "                           ('radequitx', '0.00795572'),\n",
       "                           ('radequity', '0.0078924'),\n",
       "                           ('radequitt', '0.00393056'),\n",
       "                           ('radequix', '8.66796e-09'),\n",
       "                           ('radequiy', '2.5505e-13'),\n",
       "                           ('radequis', '1.23331e-11'),\n",
       "                           ('I2', '1.46646'),\n",
       "                           ('I3', '0.343632'),\n",
       "                           ('I4x', '0.0116713'),\n",
       "                           ('I4y', '0'),\n",
       "                           ('I5x', '0.00297331'),\n",
       "                           ('I5y', '0')]))])"
      ]
     },
     "execution_count": 571,
     "metadata": {},
     "output_type": "execute_result"
    }
   ],
   "source": [
    "simtest.bparams"
   ]
  },
  {
   "cell_type": "code",
   "execution_count": 428,
   "metadata": {
    "ExecuteTime": {
     "end_time": "2018-02-21T11:46:02.857004Z",
     "start_time": "2018-02-21T11:46:02.840181Z"
    }
   },
   "outputs": [
    {
     "data": {
      "text/plain": [
       "0.0053564817848234005"
      ]
     },
     "execution_count": 428,
     "metadata": {},
     "output_type": "execute_result"
    }
   ],
   "source": [
    "float(simtest.getEquilibRadvalues(0)[2])*const.c"
   ]
  },
  {
   "cell_type": "code",
   "execution_count": 418,
   "metadata": {
    "ExecuteTime": {
     "end_time": "2018-02-21T11:42:50.502569Z",
     "start_time": "2018-02-21T11:42:50.194283Z"
    }
   },
   "outputs": [
    {
     "data": {
      "image/png": "[encoded data removed]",
      "text/plain": [
       "<matplotlib.figure.Figure at 0x7f1cd04eba58>"
      ]
     },
     "metadata": {},
     "output_type": "display_data"
    }
   ],
   "source": [
    "plotEmit(list(simtest.emit.values()),equilib=simtest.getEquilibRadvalues(0),n=1,m=1e-11,col='ey',nmean=10,timeratio=200, legendlabels=['I=0.2 mA','I=16 mA','Rad Equil'],save=False, savefilename='/home/tmerten/LATEX/Presentations/IPAC18/RAD_ex')\n",
    "plt.show()"
   ]
  },
  {
   "cell_type": "code",
   "execution_count": 386,
   "metadata": {
    "ExecuteTime": {
     "end_time": "2018-02-21T11:26:28.400980Z",
     "start_time": "2018-02-21T11:26:28.070057Z"
    }
   },
   "outputs": [
    {
     "data": {
      "image/png": "[encoded data removed]",
      "text/plain": [
       "<matplotlib.figure.Figure at 0x7f1cca769390>"
      ]
     },
     "metadata": {},
     "output_type": "display_data"
    }
   ],
   "source": [
    "plotEmit(list(simtest.emit.values()),equilib=simtest.getEquilibRadvalues(0),n=1,col='sigs',nmean=10,timeratio=300, legendlabels=['I=0.2 mA','I=16 mA','Rad Equil'],save=False, savefilename='/home/tmerten/LATEX/Presentations/IPAC18/RAD_ex')"
   ]
  },
  {
   "cell_type": "code",
   "execution_count": 399,
   "metadata": {
    "ExecuteTime": {
     "end_time": "2018-02-21T11:35:25.640511Z",
     "start_time": "2018-02-21T11:35:25.619630Z"
    }
   },
   "outputs": [
    {
     "data": {
      "text/plain": [
       "['0.00795572', '0.0078924', '0.00393056']"
      ]
     },
     "execution_count": 399,
     "metadata": {},
     "output_type": "execute_result"
    }
   ],
   "source": [
    "simtest.getEquilibRadtimes(0)"
   ]
  },
  {
   "cell_type": "code",
   "execution_count": 398,
   "metadata": {
    "ExecuteTime": {
     "end_time": "2018-02-21T11:35:12.338775Z",
     "start_time": "2018-02-21T11:35:12.322632Z"
    }
   },
   "outputs": [
    {
     "data": {
      "text/plain": [
       "['8.66796e-09', '2.5505e-13', '3.15086e-12']"
      ]
     },
     "execution_count": 398,
     "metadata": {},
     "output_type": "execute_result"
    }
   ],
   "source": [
    "simtest.getEquilibRadvalues(0)"
   ]
  },
  {
   "cell_type": "code",
   "execution_count": 393,
   "metadata": {
    "ExecuteTime": {
     "end_time": "2018-02-21T11:30:43.270273Z",
     "start_time": "2018-02-21T11:30:43.255292Z"
    }
   },
   "outputs": [
    {
     "data": {
      "text/plain": [
       "27493.9"
      ]
     },
     "execution_count": 393,
     "metadata": {},
     "output_type": "execute_result"
    }
   ],
   "source": [
    "float(simtest.bparams[0]['omegas'])"
   ]
  },
  {
   "cell_type": "code",
   "execution_count": 396,
   "metadata": {
    "ExecuteTime": {
     "end_time": "2018-02-21T11:34:44.295181Z",
     "start_time": "2018-02-21T11:34:44.275971Z"
    }
   },
   "outputs": [
    {
     "data": {
      "text/plain": [
       "1.7862279088788909e-11"
      ]
     },
     "execution_count": 396,
     "metadata": {},
     "output_type": "execute_result"
    }
   ],
   "source": [
    "np.sqrt(1.65e-15*const.c) / float(simtest.bparams[0]['omegas']) * float(simtest.bparams[0]['eta'])"
   ]
  },
  {
   "cell_type": "code",
   "execution_count": 387,
   "metadata": {
    "ExecuteTime": {
     "end_time": "2018-02-21T11:27:08.327824Z",
     "start_time": "2018-02-21T11:27:08.309782Z"
    }
   },
   "outputs": [
    {
     "data": {
      "text/plain": [
       "0.00449688687"
      ]
     },
     "execution_count": 387,
     "metadata": {},
     "output_type": "execute_result"
    }
   ],
   "source": [
    "1.5e-11*const.c"
   ]
  },
  {
   "cell_type": "code",
   "execution_count": 402,
   "metadata": {
    "ExecuteTime": {
     "end_time": "2018-02-21T11:38:20.813247Z",
     "start_time": "2018-02-21T11:38:20.536226Z"
    }
   },
   "outputs": [
    {
     "name": "stdout",
     "output_type": "stream",
     "text": [
      "No bunchFile2 provided - returning empty frame \n"
     ]
    }
   ],
   "source": [
    "simtest = steSim('STE.in')"
   ]
  },
  {
   "cell_type": "code",
   "execution_count": 403,
   "metadata": {
    "ExecuteTime": {
     "end_time": "2018-02-21T11:38:27.052836Z",
     "start_time": "2018-02-21T11:38:21.299591Z"
    }
   },
   "outputs": [
    {
     "name": "stdout",
     "output_type": "stream",
     "text": [
      "Job Done\n"
     ]
    }
   ],
   "source": [
    "simtest.runsim()"
   ]
  },
  {
   "cell_type": "code",
   "execution_count": 404,
   "metadata": {
    "ExecuteTime": {
     "end_time": "2018-02-21T11:38:27.097055Z",
     "start_time": "2018-02-21T11:38:27.053997Z"
    }
   },
   "outputs": [],
   "source": [
    "simtest.load_distributions()"
   ]
  },
  {
   "cell_type": "code",
   "execution_count": 405,
   "metadata": {
    "ExecuteTime": {
     "end_time": "2018-02-21T11:38:27.113846Z",
     "start_time": "2018-02-21T11:38:27.098126Z"
    },
    "collapsed": true
   },
   "outputs": [],
   "source": [
    "simtest.load_evolution_tables()"
   ]
  },
  {
   "cell_type": "code",
   "execution_count": 406,
   "metadata": {
    "ExecuteTime": {
     "end_time": "2018-02-21T11:38:27.129696Z",
     "start_time": "2018-02-21T11:38:27.115183Z"
    }
   },
   "outputs": [
    {
     "data": {
      "text/plain": [
       "['emit', 'ibs', 'intensity']"
      ]
     },
     "execution_count": 406,
     "metadata": {},
     "output_type": "execute_result"
    }
   ],
   "source": [
    "simtest.getDBTableNames()"
   ]
  },
  {
   "cell_type": "code",
   "execution_count": 360,
   "metadata": {
    "ExecuteTime": {
     "end_time": "2018-02-21T11:01:12.201847Z",
     "start_time": "2018-02-21T11:01:12.188854Z"
    }
   },
   "outputs": [
    {
     "data": {
      "text/plain": [
       "['id', 'simid', 'date', 'Turn', 'Tex', 'Tey', 'Tp']"
      ]
     },
     "execution_count": 360,
     "metadata": {},
     "output_type": "execute_result"
    }
   ],
   "source": [
    "simtest.getDBTableColumns('ibs')"
   ]
  },
  {
   "cell_type": "code",
   "execution_count": 361,
   "metadata": {
    "ExecuteTime": {
     "end_time": "2018-02-21T11:01:12.439389Z",
     "start_time": "2018-02-21T11:01:12.203327Z"
    }
   },
   "outputs": [
    {
     "data": {
      "text/html": [
       "<div>\n",
       "<style>\n",
       "    .dataframe thead tr:only-child th {\n",
       "        text-align: right;\n",
       "    }\n",
       "\n",
       "    .dataframe thead th {\n",
       "        text-align: left;\n",
       "    }\n",
       "\n",
       "    .dataframe tbody tr th {\n",
       "        vertical-align: top;\n",
       "    }\n",
       "</style>\n",
       "<table border=\"1\" class=\"dataframe\">\n",
       "  <thead>\n",
       "    <tr style=\"text-align: right;\">\n",
       "      <th></th>\n",
       "      <th>id</th>\n",
       "      <th>simid</th>\n",
       "      <th>date</th>\n",
       "      <th>Turn</th>\n",
       "      <th>Tex</th>\n",
       "      <th>Tey</th>\n",
       "      <th>Tp</th>\n",
       "    </tr>\n",
       "  </thead>\n",
       "  <tbody>\n",
       "    <tr>\n",
       "      <th>0</th>\n",
       "      <td>1</td>\n",
       "      <td>1</td>\n",
       "      <td>2018-02-16 12:18:06.638618</td>\n",
       "      <td>0</td>\n",
       "      <td>3.26523</td>\n",
       "      <td>100.0330</td>\n",
       "      <td>0.287330</td>\n",
       "    </tr>\n",
       "    <tr>\n",
       "      <th>1</th>\n",
       "      <td>2</td>\n",
       "      <td>2</td>\n",
       "      <td>2018-02-16 16:39:53.490653</td>\n",
       "      <td>0</td>\n",
       "      <td>3.31689</td>\n",
       "      <td>99.9723</td>\n",
       "      <td>0.289581</td>\n",
       "    </tr>\n",
       "    <tr>\n",
       "      <th>2</th>\n",
       "      <td>3</td>\n",
       "      <td>3</td>\n",
       "      <td>2018-02-16 16:48:50.119835</td>\n",
       "      <td>0</td>\n",
       "      <td>3.31689</td>\n",
       "      <td>99.9723</td>\n",
       "      <td>0.289581</td>\n",
       "    </tr>\n",
       "    <tr>\n",
       "      <th>3</th>\n",
       "      <td>4</td>\n",
       "      <td>4</td>\n",
       "      <td>2018-02-16 16:53:52.566355</td>\n",
       "      <td>0</td>\n",
       "      <td>3.31689</td>\n",
       "      <td>99.9723</td>\n",
       "      <td>0.289581</td>\n",
       "    </tr>\n",
       "    <tr>\n",
       "      <th>4</th>\n",
       "      <td>5</td>\n",
       "      <td>5</td>\n",
       "      <td>2018-02-16 16:58:48.231453</td>\n",
       "      <td>0</td>\n",
       "      <td>3.31689</td>\n",
       "      <td>99.9723</td>\n",
       "      <td>0.289581</td>\n",
       "    </tr>\n",
       "  </tbody>\n",
       "</table>\n",
       "</div>"
      ],
      "text/plain": [
       "   id  simid                       date  Turn      Tex       Tey        Tp\n",
       "0   1      1 2018-02-16 12:18:06.638618     0  3.26523  100.0330  0.287330\n",
       "1   2      2 2018-02-16 16:39:53.490653     0  3.31689   99.9723  0.289581\n",
       "2   3      3 2018-02-16 16:48:50.119835     0  3.31689   99.9723  0.289581\n",
       "3   4      4 2018-02-16 16:53:52.566355     0  3.31689   99.9723  0.289581\n",
       "4   5      5 2018-02-16 16:58:48.231453     0  3.31689   99.9723  0.289581"
      ]
     },
     "execution_count": 361,
     "metadata": {},
     "output_type": "execute_result"
    }
   ],
   "source": [
    "simtest.getDBTable('ibs').head()"
   ]
  },
  {
   "cell_type": "code",
   "execution_count": 334,
   "metadata": {
    "ExecuteTime": {
     "end_time": "2018-02-21T10:23:35.910780Z",
     "start_time": "2018-02-21T10:23:35.897588Z"
    }
   },
   "outputs": [
    {
     "data": {
      "text/plain": [
       "46"
      ]
     },
     "execution_count": 334,
     "metadata": {},
     "output_type": "execute_result"
    }
   ],
   "source": [
    "simtest.dblastid"
   ]
  },
  {
   "cell_type": "code",
   "execution_count": 337,
   "metadata": {
    "ExecuteTime": {
     "end_time": "2018-02-21T10:23:45.838780Z",
     "start_time": "2018-02-21T10:23:45.827451Z"
    }
   },
   "outputs": [
    {
     "data": {
      "text/plain": [
       "True"
      ]
     },
     "execution_count": 337,
     "metadata": {},
     "output_type": "execute_result"
    }
   ],
   "source": [
    "simtest.addedtodb"
   ]
  },
  {
   "cell_type": "code",
   "execution_count": 338,
   "metadata": {
    "ExecuteTime": {
     "end_time": "2018-02-21T10:23:58.942835Z",
     "start_time": "2018-02-21T10:23:58.932194Z"
    }
   },
   "outputs": [],
   "source": [
    "simtest.addsimresultsdb()"
   ]
  },
  {
   "cell_type": "code",
   "execution_count": 350,
   "metadata": {
    "ExecuteTime": {
     "end_time": "2018-02-21T10:28:55.804282Z",
     "start_time": "2018-02-21T10:28:55.778641Z"
    }
   },
   "outputs": [
    {
     "data": {
      "text/plain": [
       "[     Turn            ex     sigpx            ey     sigpy          sigs  \\\n",
       " 0       0  6.977300e-09  0.000123  1.206980e-10  0.000026  1.664390e-11   \n",
       " 1       1  7.103280e-09  0.000123  1.161700e-10  0.000026  1.664690e-11   \n",
       " 2       2  7.188800e-09  0.000123  1.141490e-10  0.000025  1.665150e-11   \n",
       " 3       3  7.086230e-09  0.000124  1.089090e-10  0.000025  1.665730e-11   \n",
       " 4       4  7.153890e-09  0.000124  1.076440e-10  0.000024  1.666460e-11   \n",
       " 5       5  7.290010e-09  0.000124  1.025240e-10  0.000024  1.667210e-11   \n",
       " 6       6  7.244290e-09  0.000125  1.011060e-10  0.000024  1.668000e-11   \n",
       " 7       7  7.283900e-09  0.000125  9.684790e-11  0.000024  1.668630e-11   \n",
       " 8       8  7.405390e-09  0.000125  9.467690e-11  0.000023  1.669390e-11   \n",
       " 9       9  7.436320e-09  0.000126  9.167680e-11  0.000023  1.670270e-11   \n",
       " 10     10  7.404240e-09  0.000127  8.856720e-11  0.000023  1.671130e-11   \n",
       " 11     11  7.598360e-09  0.000126  8.675420e-11  0.000022  1.672110e-11   \n",
       " 12     12  7.596240e-09  0.000127  8.294420e-11  0.000022  1.673160e-11   \n",
       " 13     13  7.503930e-09  0.000128  8.190220e-11  0.000021  1.674270e-11   \n",
       " 14     14  7.695180e-09  0.000128  7.799220e-11  0.000021  1.675380e-11   \n",
       " 15     15  7.799700e-09  0.000127  7.702040e-11  0.000021  1.676670e-11   \n",
       " 16     16  7.598630e-09  0.000129  7.358050e-11  0.000021  1.677950e-11   \n",
       " 17     17  7.677900e-09  0.000129  7.217810e-11  0.000020  1.679480e-11   \n",
       " 18     18  7.879860e-09  0.000128  6.964190e-11  0.000020  1.681320e-11   \n",
       " 19     19  7.743400e-09  0.000129  6.752470e-11  0.000020  1.683140e-11   \n",
       " 20     20  7.733500e-09  0.000130  6.593680e-11  0.000019  1.684980e-11   \n",
       " 21     21  7.915460e-09  0.000129  6.321870e-11  0.000019  1.686940e-11   \n",
       " 22     22  7.878970e-09  0.000129  6.232040e-11  0.000019  1.688930e-11   \n",
       " 23     23  7.782670e-09  0.000130  5.936110e-11  0.000019  1.690840e-11   \n",
       " 24     24  7.937150e-09  0.000130  5.871530e-11  0.000018  1.692710e-11   \n",
       " 25     25  7.934970e-09  0.000130  5.597440e-11  0.000018  1.694540e-11   \n",
       " 26     26  7.852320e-09  0.000131  5.508260e-11  0.000018  1.696520e-11   \n",
       " 27     27  7.962780e-09  0.000130  5.294520e-11  0.000017  1.698530e-11   \n",
       " 28     28  8.004820e-09  0.000130  5.157110e-11  0.000017  1.700650e-11   \n",
       " 29     29  7.909120e-09  0.000131  5.014370e-11  0.000017  1.702850e-11   \n",
       " ..    ...           ...       ...           ...       ...           ...   \n",
       " 771   771  8.658460e-09  0.000136  2.539960e-13  0.000001  1.904390e-11   \n",
       " 772   772  8.555290e-09  0.000137  2.578970e-13  0.000001  1.904920e-11   \n",
       " 773   773  8.806660e-09  0.000135  2.570620e-13  0.000001  1.905390e-11   \n",
       " 774   774  8.708040e-09  0.000136  2.561570e-13  0.000001  1.905790e-11   \n",
       " 775   775  8.502110e-09  0.000137  2.603790e-13  0.000001  1.906090e-11   \n",
       " 776   776  8.766160e-09  0.000135  2.548120e-13  0.000001  1.906310e-11   \n",
       " 777   777  8.799350e-09  0.000135  2.599860e-13  0.000001  1.906660e-11   \n",
       " 778   778  8.514150e-09  0.000137  2.543130e-13  0.000001  1.906850e-11   \n",
       " 779   779  8.687390e-09  0.000136  2.578640e-13  0.000001  1.906890e-11   \n",
       " 780   780  8.811440e-09  0.000135  2.558520e-13  0.000001  1.906810e-11   \n",
       " 781   781  8.553880e-09  0.000137  2.567250e-13  0.000001  1.906700e-11   \n",
       " 782   782  8.661400e-09  0.000136  2.583790e-13  0.000001  1.906540e-11   \n",
       " 783   783  8.847770e-09  0.000135  2.535990e-13  0.000001  1.906390e-11   \n",
       " 784   784  8.568020e-09  0.000137  2.619550e-13  0.000001  1.906260e-11   \n",
       " 785   785  8.575810e-09  0.000137  2.507880e-13  0.000001  1.906140e-11   \n",
       " 786   786  8.874050e-09  0.000134  2.627780e-13  0.000001  1.906000e-11   \n",
       " 787   787  8.640410e-09  0.000136  2.485350e-13  0.000001  1.905950e-11   \n",
       " 788   788  8.429280e-09  0.000138  2.629690e-13  0.000001  1.905850e-11   \n",
       " 789   789  8.847720e-09  0.000134  2.520350e-13  0.000001  1.905800e-11   \n",
       " 790   790  8.723010e-09  0.000135  2.589520e-13  0.000001  1.905570e-11   \n",
       " 791   791  8.378800e-09  0.000138  2.571550e-13  0.000001  1.905310e-11   \n",
       " 792   792  8.766680e-09  0.000135  2.540190e-13  0.000001  1.905020e-11   \n",
       " 793   793  8.799490e-09  0.000135  2.618630e-13  0.000001  1.904700e-11   \n",
       " 794   794  8.372460e-09  0.000138  2.488480e-13  0.000001  1.904290e-11   \n",
       " 795   795  8.698180e-09  0.000136  2.641220e-13  0.000001  1.903900e-11   \n",
       " 796   796  8.900230e-09  0.000134  2.471640e-13  0.000001  1.903400e-11   \n",
       " 797   797  8.472740e-09  0.000137  2.631230e-13  0.000001  1.902860e-11   \n",
       " 798   798  8.545010e-09  0.000137  2.489180e-13  0.000001  1.902230e-11   \n",
       " 799   799  8.872640e-09  0.000134  2.589700e-13  0.000001  1.901600e-11   \n",
       " 800   800  8.583110e-09  0.000137  2.552360e-13  0.000001  1.900960e-11   \n",
       " \n",
       "          sige  \n",
       " 0    0.000653  \n",
       " 1    0.000660  \n",
       " 2    0.000668  \n",
       " 3    0.000677  \n",
       " 4    0.000684  \n",
       " 5    0.000689  \n",
       " 6    0.000696  \n",
       " 7    0.000697  \n",
       " 8    0.000701  \n",
       " 9    0.000706  \n",
       " 10   0.000708  \n",
       " 11   0.000709  \n",
       " 12   0.000712  \n",
       " 13   0.000714  \n",
       " 14   0.000715  \n",
       " 15   0.000716  \n",
       " 16   0.000719  \n",
       " 17   0.000721  \n",
       " 18   0.000721  \n",
       " 19   0.000723  \n",
       " 20   0.000722  \n",
       " 21   0.000722  \n",
       " 22   0.000720  \n",
       " 23   0.000721  \n",
       " 24   0.000722  \n",
       " 25   0.000722  \n",
       " 26   0.000720  \n",
       " 27   0.000719  \n",
       " 28   0.000718  \n",
       " 29   0.000717  \n",
       " ..        ...  \n",
       " 771  0.000728  \n",
       " 772  0.000726  \n",
       " 773  0.000727  \n",
       " 774  0.000725  \n",
       " 775  0.000725  \n",
       " 776  0.000723  \n",
       " 777  0.000721  \n",
       " 778  0.000719  \n",
       " 779  0.000719  \n",
       " 780  0.000721  \n",
       " 781  0.000721  \n",
       " 782  0.000722  \n",
       " 783  0.000722  \n",
       " 784  0.000723  \n",
       " 785  0.000725  \n",
       " 786  0.000725  \n",
       " 787  0.000725  \n",
       " 788  0.000725  \n",
       " 789  0.000723  \n",
       " 790  0.000721  \n",
       " 791  0.000722  \n",
       " 792  0.000721  \n",
       " 793  0.000719  \n",
       " 794  0.000719  \n",
       " 795  0.000720  \n",
       " 796  0.000719  \n",
       " 797  0.000718  \n",
       " 798  0.000717  \n",
       " 799  0.000717  \n",
       " 800  0.000717  \n",
       " \n",
       " [801 rows x 7 columns]]"
      ]
     },
     "execution_count": 350,
     "metadata": {},
     "output_type": "execute_result"
    }
   ],
   "source": [
    "list(simtest.emit.values())"
   ]
  },
  {
   "cell_type": "code",
   "execution_count": 351,
   "metadata": {
    "ExecuteTime": {
     "end_time": "2018-02-21T10:35:25.377099Z",
     "start_time": "2018-02-21T10:35:25.362668Z"
    }
   },
   "outputs": [
    {
     "data": {
      "text/plain": [
       "['id', 'simid', 'date', 'Turn', 'Tex', 'Tey', 'Tp']"
      ]
     },
     "execution_count": 351,
     "metadata": {},
     "output_type": "execute_result"
    }
   ],
   "source": [
    "simtest.getDBTableColumns('ibs')"
   ]
  },
  {
   "cell_type": "code",
   "execution_count": null,
   "metadata": {
    "collapsed": true
   },
   "outputs": [],
   "source": []
  }
 ],
 "metadata": {
  "kernelspec": {
   "display_name": "Python 3",
   "language": "python",
   "name": "python3"
  },
  "language_info": {
   "codemirror_mode": {
    "name": "ipython",
    "version": 3
   },
   "file_extension": ".py",
   "mimetype": "text/x-python",
   "name": "python",
   "nbconvert_exporter": "python",
   "pygments_lexer": "ipython3",
   "version": "3.6.1"
  },
  "toc": {
   "nav_menu": {},
   "number_sections": true,
   "sideBar": true,
   "skip_h1_title": false,
   "toc_cell": true,
   "toc_position": {},
   "toc_section_display": "block",
   "toc_window_display": false
  }
 },
 "nbformat": 4,
 "nbformat_minor": 2
}
